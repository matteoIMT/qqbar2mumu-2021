{
 "cells": [
  {
   "cell_type": "code",
   "execution_count": 1,
   "outputs": [],
   "source": [
    "import pandas as pd\n",
    "import uproot\n",
    "import awkward as ak\n",
    "import numpy as np\n",
    "import matplotlib\n",
    "import matplotlib.pyplot as plt\n",
    "import os\n",
    "import math\n",
    "from tqdm import tqdm\n",
    "from time import time\n",
    "import Filter\n",
    "import ProjectPackage.DataExtraction as de\n",
    "import ProjectPackage.Kinematic as km\n",
    "from ProjectPackage import Cut"
   ],
   "metadata": {
    "collapsed": false,
    "pycharm": {
     "name": "#%%\n"
    }
   }
  },
  {
   "cell_type": "code",
   "execution_count": 4,
   "outputs": [],
   "source": [
    "import MC_data"
   ],
   "metadata": {
    "collapsed": false,
    "pycharm": {
     "name": "#%%\n"
    }
   }
  },
  {
   "cell_type": "code",
   "execution_count": 3,
   "outputs": [],
   "source": [
    "from collections import Counter"
   ],
   "metadata": {
    "collapsed": false,
    "pycharm": {
     "name": "#%%\n"
    }
   }
  },
  {
   "cell_type": "code",
   "execution_count": 2,
   "outputs": [],
   "source": [
    "data_folder = 'D:/Data_muons/dimuonData_LHC18mMC'\n",
    "run_number = 290350"
   ],
   "metadata": {
    "collapsed": false,
    "pycharm": {
     "name": "#%%\n"
    }
   }
  },
  {
   "cell_type": "code",
   "execution_count": 5,
   "outputs": [
    {
     "name": "stdout",
     "output_type": "stream",
     "text": [
      "Size of the data file : 6.83 Mo.\n",
      "Extraction took 0.3 s.\n",
      "Number of events : 40000.\n",
      "Size of the data file : 6.83 Mo.\n",
      "Extraction took 3.3 s.\n",
      "Number of events : 40000.\n",
      "\n",
      "Cut nMuons [...] \n",
      " \n",
      "This cut rejects 73.47 % of the statistics\n",
      "\n",
      "Cut CMUL [...] \n",
      " \n",
      "This cut rejects 19.57 % of the statistics\n",
      "\n",
      "Cut zVtx [...] \n",
      " \n",
      "This cut rejects 3.43 % of the statistics\n",
      "\n",
      "Cut threshold [...] \n",
      "This cut rejects 30.13 % of the statistics\n",
      "\n",
      "Cut eta [...] \n",
      "This cut rejects 8.62 % of the statistics\n",
      "\n",
      "Cut pDCA [...] \n",
      " \n",
      "This cut rejects 4.7 % of the statistics\n",
      "Max number of possible muons pairs : 3264\n"
     ]
    },
    {
     "name": "stderr",
     "output_type": "stream",
     "text": [
      "100%|██████████| 3264/3264 [00:02<00:00, 1143.97it/s]\n"
     ]
    },
    {
     "name": "stdout",
     "output_type": "stream",
     "text": [
      "Execution time : 3.14\n",
      "This cut rejects 0.0 % of the statistics.\n",
      "\n",
      "Number of di-muons pairs : 621\n",
      "This cut rejects 0.0 % of the statistics.\n",
      "\n",
      "Number of di-muons pairs : 1038\n",
      "This cut rejects 0.0 % of the statistics.\n",
      "\n",
      "Number of di-muons pairs : 812\n",
      "This cut rejects 0.0 % of the statistics.\n",
      "\n",
      "Number of di-muons pairs : 406\n",
      "This cut rejects 0.0 % of the statistics.\n",
      "\n",
      "Number of di-muons pairs : 214\n",
      "This cut rejects 0.0 % of the statistics.\n",
      "\n",
      "Number of di-muons pairs : 105\n",
      "This cut rejects 0.0 % of the statistics.\n",
      "\n",
      "Number of di-muons pairs : 53\n"
     ]
    }
   ],
   "source": [
    "all_hist_MC = MC_data.M_inv_hist_MC(data_folder, run_number)"
   ],
   "metadata": {
    "collapsed": false,
    "pycharm": {
     "name": "#%%\n"
    }
   }
  },
  {
   "cell_type": "code",
   "execution_count": 8,
   "outputs": [
    {
     "ename": "FileNotFoundError",
     "evalue": "[Errno 2] No such file or directory: 'Save/MC_290350_histograms'",
     "output_type": "error",
     "traceback": [
      "\u001B[1;31m---------------------------------------------------------------------------\u001B[0m",
      "\u001B[1;31mFileNotFoundError\u001B[0m                         Traceback (most recent call last)",
      "\u001B[1;32m~\\AppData\\Local\\Temp/ipykernel_12804/2738840063.py\u001B[0m in \u001B[0;36m<module>\u001B[1;34m\u001B[0m\n\u001B[1;32m----> 1\u001B[1;33m \u001B[0mde\u001B[0m\u001B[1;33m.\u001B[0m\u001B[0msave_dict_hist\u001B[0m\u001B[1;33m(\u001B[0m\u001B[1;34mf'Save/MC_{run_number}_histograms'\u001B[0m\u001B[1;33m,\u001B[0m \u001B[0mall_hist_MC\u001B[0m\u001B[1;33m)\u001B[0m\u001B[1;33m\u001B[0m\u001B[1;33m\u001B[0m\u001B[0m\n\u001B[0m",
      "\u001B[1;32m~\\DataspellProjects\\qqbar2mumu-2021\\ProjectPackage\\DataExtraction.py\u001B[0m in \u001B[0;36msave_dict_hist\u001B[1;34m(filename, dict_hist)\u001B[0m\n\u001B[0;32m    183\u001B[0m \u001B[1;33m\u001B[0m\u001B[0m\n\u001B[0;32m    184\u001B[0m \u001B[1;32mdef\u001B[0m \u001B[0msave_dict_hist\u001B[0m\u001B[1;33m(\u001B[0m\u001B[0mfilename\u001B[0m\u001B[1;33m,\u001B[0m \u001B[0mdict_hist\u001B[0m\u001B[1;33m)\u001B[0m\u001B[1;33m:\u001B[0m\u001B[1;33m\u001B[0m\u001B[1;33m\u001B[0m\u001B[0m\n\u001B[1;32m--> 185\u001B[1;33m     \u001B[1;32mwith\u001B[0m \u001B[0mopen\u001B[0m\u001B[1;33m(\u001B[0m\u001B[0mfilename\u001B[0m\u001B[1;33m,\u001B[0m \u001B[1;34m'rb'\u001B[0m\u001B[1;33m)\u001B[0m \u001B[1;32mas\u001B[0m \u001B[0mf\u001B[0m\u001B[1;33m:\u001B[0m\u001B[1;33m\u001B[0m\u001B[1;33m\u001B[0m\u001B[0m\n\u001B[0m\u001B[0;32m    186\u001B[0m         \u001B[0mpickle\u001B[0m\u001B[1;33m.\u001B[0m\u001B[0mdump\u001B[0m\u001B[1;33m(\u001B[0m\u001B[0mdict_hist\u001B[0m\u001B[1;33m,\u001B[0m \u001B[0mf\u001B[0m\u001B[1;33m)\u001B[0m\u001B[1;33m\u001B[0m\u001B[1;33m\u001B[0m\u001B[0m\n\u001B[0;32m    187\u001B[0m \u001B[1;33m\u001B[0m\u001B[0m\n",
      "\u001B[1;31mFileNotFoundError\u001B[0m: [Errno 2] No such file or directory: 'Save/MC_290350_histograms'"
     ]
    }
   ],
   "source": [
    "de.save_dict_hist(f'Save/MC_{run_number}_histograms', all_hist_MC)"
   ],
   "metadata": {
    "collapsed": false,
    "pycharm": {
     "name": "#%%\n"
    }
   }
  },
  {
   "cell_type": "code",
   "execution_count": 5,
   "outputs": [
    {
     "name": "stdout",
     "output_type": "stream",
     "text": [
      "Size of the data file : 6.83 Mo.\n",
      "Extraction took 1.3 s.\n",
      "Number of events : 40000.\n",
      "Size of the data file : 6.83 Mo.\n",
      "Extraction took 1.2 s.\n",
      "Number of events : 40000.\n"
     ]
    },
    {
     "name": "stderr",
     "output_type": "stream",
     "text": [
      "100%|██████████| 26456/26456 [00:09<00:00, 2936.74it/s]\n"
     ]
    },
    {
     "name": "stdout",
     "output_type": "stream",
     "text": [
      "Execution time : 11.84\n"
     ]
    },
    {
     "name": "stderr",
     "output_type": "stream",
     "text": [
      "100%|██████████| 22202/22202 [00:20<00:00, 1078.64it/s]\n"
     ]
    },
    {
     "name": "stdout",
     "output_type": "stream",
     "text": [
      "Execution time : 22.56\n",
      "This cut rejects 1.14 % of the statistics.\n",
      "\n",
      "Number of di-muons pairs : 961\n",
      "This cut rejects 0.57 % of the statistics.\n",
      "\n",
      "Number of di-muons pairs : 1769\n",
      "This cut rejects 0.62 % of the statistics.\n",
      "\n",
      "Number of di-muons pairs : 1610\n",
      "This cut rejects 0.5 % of the statistics.\n",
      "\n",
      "Number of di-muons pairs : 1010\n",
      "This cut rejects 0.62 % of the statistics.\n",
      "\n",
      "Number of di-muons pairs : 641\n",
      "This cut rejects 0.25 % of the statistics.\n",
      "\n",
      "Number of di-muons pairs : 401\n",
      "This cut rejects 0.51 % of the statistics.\n",
      "\n",
      "Number of di-muons pairs : 396\n"
     ]
    }
   ],
   "source": [
    "numbers = MC_data.MC_analysis(data_folder, run_number)"
   ],
   "metadata": {
    "collapsed": false,
    "pycharm": {
     "name": "#%%\n"
    }
   }
  },
  {
   "cell_type": "code",
   "execution_count": 6,
   "outputs": [
    {
     "data": {
      "text/plain": "{(0, 1): (3935, 950),\n (1, 2): (7340, 1759),\n (2, 3): (6355, 1600),\n (3, 4): (3817, 1005),\n (4, 5): (2173, 637),\n (5, 6): (1186, 400),\n (6, 8): (1075, 394)}"
     },
     "execution_count": 6,
     "metadata": {},
     "output_type": "execute_result"
    }
   ],
   "source": [
    "numbers"
   ],
   "metadata": {
    "collapsed": false,
    "pycharm": {
     "name": "#%%\n"
    }
   }
  },
  {
   "cell_type": "code",
   "execution_count": 10,
   "outputs": [],
   "source": [
    "pd.DataFrame(numbers.values(), columns=['N_gen', 'N_rec']).to_csv(f'Save/MC_{run_number}_genrec.csv')"
   ],
   "metadata": {
    "collapsed": false,
    "pycharm": {
     "name": "#%%\n"
    }
   }
  },
  {
   "cell_type": "markdown",
   "source": [
    "Let's compare how the filters affect the JPsi"
   ],
   "metadata": {
    "collapsed": false,
    "pycharm": {
     "name": "#%% md\n"
    }
   }
  },
  {
   "cell_type": "code",
   "execution_count": 14,
   "outputs": [
    {
     "name": "stdout",
     "output_type": "stream",
     "text": [
      "Size of the data file : 6.83 Mo.\n",
      "Extraction took 1.3 s.\n",
      "Number of events : 40000.\n",
      "Size of the data file : 6.83 Mo.\n",
      "Extraction took 1.0 s.\n",
      "Number of events : 40000.\n"
     ]
    }
   ],
   "source": [
    "gen_events = de.read_root_file(data_folder, run_number, branch='genTree')\n",
    "events = de.read_root_file(data_folder, run_number)\n",
    "\n",
    "df_events = ak.to_pandas(events['Muon'])"
   ],
   "metadata": {
    "collapsed": false,
    "pycharm": {
     "name": "#%%\n"
    }
   }
  },
  {
   "cell_type": "markdown",
   "source": [],
   "metadata": {
    "collapsed": false
   }
  },
  {
   "cell_type": "code",
   "execution_count": 15,
   "outputs": [],
   "source": [
    "df_JPsi = de.MC_muons_from_JPsi(gen_events, df_events)"
   ],
   "metadata": {
    "collapsed": false,
    "pycharm": {
     "name": "#%%\n"
    }
   }
  },
  {
   "cell_type": "code",
   "execution_count": 18,
   "outputs": [
    {
     "name": "stdout",
     "output_type": "stream",
     "text": [
      "Number of JPsi generated : 26456\n"
     ]
    }
   ],
   "source": [
    "N_JPsi_generated =  Counter(gen_events['Muon']['GenMotherPDGCode'][:, 0])[443]\n",
    "print(f'Number of JPsi generated : {N_JPsi_generated}')"
   ],
   "metadata": {
    "collapsed": false,
    "pycharm": {
     "name": "#%%\n"
    }
   }
  },
  {
   "cell_type": "code",
   "execution_count": 16,
   "outputs": [],
   "source": [
    "df_JPsi= Cut.more_than_one_muon(df_JPsi)"
   ],
   "metadata": {
    "collapsed": false,
    "pycharm": {
     "name": "#%%\n"
    }
   }
  },
  {
   "cell_type": "code",
   "execution_count": 21,
   "outputs": [
    {
     "data": {
      "text/plain": "                        E        Px        Py         Pz  Charge  thetaAbs  \\\nentry subentry                                                               \n4     0         32.639103  0.898272 -2.246393 -32.549145      -1  4.356109   \n      1         12.560914  1.282863  0.857640 -12.465317       1  7.241020   \n8     0         44.965744 -4.125182  1.447606 -44.752590      -1  5.587151   \n      1          8.473455  0.162316 -0.625763  -8.448098       1  4.269989   \n15    0         17.779661  0.511636 -1.937725 -17.666031      -1  6.330056   \n...                   ...       ...       ...        ...     ...       ...   \n39988 1         20.137711 -0.383547 -0.664144 -20.122824      -1  2.173791   \n39989 0         29.315990  0.276409  1.644271 -29.268347       1  3.361345   \n      1         14.165579 -1.182077 -1.001817 -14.080182      -1  6.416943   \n39997 0          9.412484 -0.564705  0.943806  -9.347408      -1  6.987274   \n      1         21.762341  0.950925 -1.703994 -21.674419       1  5.081514   \n\n                     xDCA       yDCA       zDCA  matchedTrgThreshold  \\\nentry subentry                                                         \n4     0         -0.438410   3.873013  10.617554                    2   \n      1         -3.917211   2.590415  10.617554                    2   \n8     0          2.080722  -0.382406  -2.787759                    3   \n      1         -4.809096  -6.479955  -2.787759                    0   \n15    0          3.012422   0.058989  -7.586966                    2   \n...                   ...        ...        ...                  ...   \n39988 1         -0.507162   7.567567  -1.243141                    2   \n39989 0         -0.832773  -0.049870   8.092486                    3   \n      1          3.565193   4.464727   8.092486                    2   \n39997 0         19.466990 -11.121731   0.967598                    2   \n      1          2.113030  -1.407254   0.967598                    2   \n\n                MCHClusterMap  MTRHitMapTrg  MTRHitMapTrk  MCLabel  MCPDGCode  \\\nentry subentry                                                                  \n4     0                  1023    1074414591        672767        2         13   \n      1                   511    3224669183       3443711        1        -13   \n8     0                   991    1080415487       6661119        2         13   \n      1                  1023    1073741824         23552        1        -13   \n15    0                  1023    1074353271        606071        2         13   \n...                       ...           ...           ...      ...        ...   \n39988 1                  1021    1077751807       4009983        2         13   \n39989 0                   927    3221621759        396287        1        -13   \n      1                  1023    1080177663       6435839        2         13   \n39997 0                   991    1080435711       6693887        2         13   \n      1                  1023    3221968127        739327        1        -13   \n\n                GenMotherPDGCode  \nentry subentry                    \n4     0                      443  \n      1                      443  \n8     0                      443  \n      1                      443  \n15    0                      443  \n...                          ...  \n39988 1                      443  \n39989 0                      443  \n      1                      443  \n39997 0                      443  \n      1                      443  \n\n[14040 rows x 16 columns]",
      "text/html": "<div>\n<style scoped>\n    .dataframe tbody tr th:only-of-type {\n        vertical-align: middle;\n    }\n\n    .dataframe tbody tr th {\n        vertical-align: top;\n    }\n\n    .dataframe thead th {\n        text-align: right;\n    }\n</style>\n<table border=\"1\" class=\"dataframe\">\n  <thead>\n    <tr style=\"text-align: right;\">\n      <th></th>\n      <th></th>\n      <th>E</th>\n      <th>Px</th>\n      <th>Py</th>\n      <th>Pz</th>\n      <th>Charge</th>\n      <th>thetaAbs</th>\n      <th>xDCA</th>\n      <th>yDCA</th>\n      <th>zDCA</th>\n      <th>matchedTrgThreshold</th>\n      <th>MCHClusterMap</th>\n      <th>MTRHitMapTrg</th>\n      <th>MTRHitMapTrk</th>\n      <th>MCLabel</th>\n      <th>MCPDGCode</th>\n      <th>GenMotherPDGCode</th>\n    </tr>\n    <tr>\n      <th>entry</th>\n      <th>subentry</th>\n      <th></th>\n      <th></th>\n      <th></th>\n      <th></th>\n      <th></th>\n      <th></th>\n      <th></th>\n      <th></th>\n      <th></th>\n      <th></th>\n      <th></th>\n      <th></th>\n      <th></th>\n      <th></th>\n      <th></th>\n      <th></th>\n    </tr>\n  </thead>\n  <tbody>\n    <tr>\n      <th rowspan=\"2\" valign=\"top\">4</th>\n      <th>0</th>\n      <td>32.639103</td>\n      <td>0.898272</td>\n      <td>-2.246393</td>\n      <td>-32.549145</td>\n      <td>-1</td>\n      <td>4.356109</td>\n      <td>-0.438410</td>\n      <td>3.873013</td>\n      <td>10.617554</td>\n      <td>2</td>\n      <td>1023</td>\n      <td>1074414591</td>\n      <td>672767</td>\n      <td>2</td>\n      <td>13</td>\n      <td>443</td>\n    </tr>\n    <tr>\n      <th>1</th>\n      <td>12.560914</td>\n      <td>1.282863</td>\n      <td>0.857640</td>\n      <td>-12.465317</td>\n      <td>1</td>\n      <td>7.241020</td>\n      <td>-3.917211</td>\n      <td>2.590415</td>\n      <td>10.617554</td>\n      <td>2</td>\n      <td>511</td>\n      <td>3224669183</td>\n      <td>3443711</td>\n      <td>1</td>\n      <td>-13</td>\n      <td>443</td>\n    </tr>\n    <tr>\n      <th rowspan=\"2\" valign=\"top\">8</th>\n      <th>0</th>\n      <td>44.965744</td>\n      <td>-4.125182</td>\n      <td>1.447606</td>\n      <td>-44.752590</td>\n      <td>-1</td>\n      <td>5.587151</td>\n      <td>2.080722</td>\n      <td>-0.382406</td>\n      <td>-2.787759</td>\n      <td>3</td>\n      <td>991</td>\n      <td>1080415487</td>\n      <td>6661119</td>\n      <td>2</td>\n      <td>13</td>\n      <td>443</td>\n    </tr>\n    <tr>\n      <th>1</th>\n      <td>8.473455</td>\n      <td>0.162316</td>\n      <td>-0.625763</td>\n      <td>-8.448098</td>\n      <td>1</td>\n      <td>4.269989</td>\n      <td>-4.809096</td>\n      <td>-6.479955</td>\n      <td>-2.787759</td>\n      <td>0</td>\n      <td>1023</td>\n      <td>1073741824</td>\n      <td>23552</td>\n      <td>1</td>\n      <td>-13</td>\n      <td>443</td>\n    </tr>\n    <tr>\n      <th>15</th>\n      <th>0</th>\n      <td>17.779661</td>\n      <td>0.511636</td>\n      <td>-1.937725</td>\n      <td>-17.666031</td>\n      <td>-1</td>\n      <td>6.330056</td>\n      <td>3.012422</td>\n      <td>0.058989</td>\n      <td>-7.586966</td>\n      <td>2</td>\n      <td>1023</td>\n      <td>1074353271</td>\n      <td>606071</td>\n      <td>2</td>\n      <td>13</td>\n      <td>443</td>\n    </tr>\n    <tr>\n      <th>...</th>\n      <th>...</th>\n      <td>...</td>\n      <td>...</td>\n      <td>...</td>\n      <td>...</td>\n      <td>...</td>\n      <td>...</td>\n      <td>...</td>\n      <td>...</td>\n      <td>...</td>\n      <td>...</td>\n      <td>...</td>\n      <td>...</td>\n      <td>...</td>\n      <td>...</td>\n      <td>...</td>\n      <td>...</td>\n    </tr>\n    <tr>\n      <th>39988</th>\n      <th>1</th>\n      <td>20.137711</td>\n      <td>-0.383547</td>\n      <td>-0.664144</td>\n      <td>-20.122824</td>\n      <td>-1</td>\n      <td>2.173791</td>\n      <td>-0.507162</td>\n      <td>7.567567</td>\n      <td>-1.243141</td>\n      <td>2</td>\n      <td>1021</td>\n      <td>1077751807</td>\n      <td>4009983</td>\n      <td>2</td>\n      <td>13</td>\n      <td>443</td>\n    </tr>\n    <tr>\n      <th rowspan=\"2\" valign=\"top\">39989</th>\n      <th>0</th>\n      <td>29.315990</td>\n      <td>0.276409</td>\n      <td>1.644271</td>\n      <td>-29.268347</td>\n      <td>1</td>\n      <td>3.361345</td>\n      <td>-0.832773</td>\n      <td>-0.049870</td>\n      <td>8.092486</td>\n      <td>3</td>\n      <td>927</td>\n      <td>3221621759</td>\n      <td>396287</td>\n      <td>1</td>\n      <td>-13</td>\n      <td>443</td>\n    </tr>\n    <tr>\n      <th>1</th>\n      <td>14.165579</td>\n      <td>-1.182077</td>\n      <td>-1.001817</td>\n      <td>-14.080182</td>\n      <td>-1</td>\n      <td>6.416943</td>\n      <td>3.565193</td>\n      <td>4.464727</td>\n      <td>8.092486</td>\n      <td>2</td>\n      <td>1023</td>\n      <td>1080177663</td>\n      <td>6435839</td>\n      <td>2</td>\n      <td>13</td>\n      <td>443</td>\n    </tr>\n    <tr>\n      <th rowspan=\"2\" valign=\"top\">39997</th>\n      <th>0</th>\n      <td>9.412484</td>\n      <td>-0.564705</td>\n      <td>0.943806</td>\n      <td>-9.347408</td>\n      <td>-1</td>\n      <td>6.987274</td>\n      <td>19.466990</td>\n      <td>-11.121731</td>\n      <td>0.967598</td>\n      <td>2</td>\n      <td>991</td>\n      <td>1080435711</td>\n      <td>6693887</td>\n      <td>2</td>\n      <td>13</td>\n      <td>443</td>\n    </tr>\n    <tr>\n      <th>1</th>\n      <td>21.762341</td>\n      <td>0.950925</td>\n      <td>-1.703994</td>\n      <td>-21.674419</td>\n      <td>1</td>\n      <td>5.081514</td>\n      <td>2.113030</td>\n      <td>-1.407254</td>\n      <td>0.967598</td>\n      <td>2</td>\n      <td>1023</td>\n      <td>3221968127</td>\n      <td>739327</td>\n      <td>1</td>\n      <td>-13</td>\n      <td>443</td>\n    </tr>\n  </tbody>\n</table>\n<p>14040 rows × 16 columns</p>\n</div>"
     },
     "execution_count": 21,
     "metadata": {},
     "output_type": "execute_result"
    }
   ],
   "source": [
    "df_JPsi"
   ],
   "metadata": {
    "collapsed": false,
    "pycharm": {
     "name": "#%%\n"
    }
   }
  },
  {
   "cell_type": "code",
   "execution_count": 17,
   "outputs": [
    {
     "name": "stderr",
     "output_type": "stream",
     "text": [
      "100%|██████████| 7020/7020 [00:08<00:00, 862.93it/s] \n"
     ]
    },
    {
     "name": "stdout",
     "output_type": "stream",
     "text": [
      "Execution time : 9.72\n"
     ]
    }
   ],
   "source": [
    "df_MC_di_muons = de.di_muons_dataframe(df_JPsi)"
   ],
   "metadata": {
    "collapsed": false,
    "pycharm": {
     "name": "#%%\n"
    }
   }
  },
  {
   "cell_type": "code",
   "execution_count": 18,
   "outputs": [],
   "source": [
    "df_MC_di_muons['M_inv'] = df_MC_di_muons.apply(lambda x: km.inv_mass(x['E1'], x['E2'], x['P1'], x['P2']), axis=1)"
   ],
   "metadata": {
    "collapsed": false,
    "pycharm": {
     "name": "#%%\n"
    }
   }
  },
  {
   "cell_type": "code",
   "execution_count": 19,
   "outputs": [
    {
     "data": {
      "text/plain": "<Figure size 864x576 with 1 Axes>",
      "image/png": "[encoded data removed]"
     },
     "metadata": {
      "needs_background": "light"
     },
     "output_type": "display_data"
    }
   ],
   "source": [
    "h = Filter.plot_M_inv(df_MC_di_muons['M_inv'], run_number)"
   ],
   "metadata": {
    "collapsed": false,
    "pycharm": {
     "name": "#%%\n"
    }
   }
  },
  {
   "cell_type": "code",
   "execution_count": 20,
   "outputs": [
    {
     "name": "stdout",
     "output_type": "stream",
     "text": [
      "\n",
      "Cut nMuons [...] \n",
      " \n",
      "This cut rejects 73.47 % of the statistics\n",
      "\n",
      "Cut CMUL [...] \n",
      " \n",
      "This cut rejects 19.57 % of the statistics\n",
      "\n",
      "Cut zVtx [...] \n",
      " \n",
      "This cut rejects 3.43 % of the statistics\n"
     ]
    }
   ],
   "source": [
    "events_filtered, idx = Filter.cut_events(events, MC=True)"
   ],
   "metadata": {
    "collapsed": false,
    "pycharm": {
     "name": "#%%\n"
    }
   }
  },
  {
   "cell_type": "markdown",
   "source": [],
   "metadata": {
    "collapsed": false
   }
  },
  {
   "cell_type": "code",
   "execution_count": 22,
   "outputs": [],
   "source": [
    "df_ev_filtered = ak.to_pandas(events_filtered['Muon'])\n",
    "df_ev_filtered.index = df_ev_filtered.index.set_levels(idx, level=0)"
   ],
   "metadata": {
    "collapsed": false,
    "pycharm": {
     "name": "#%%\n"
    }
   }
  },
  {
   "cell_type": "code",
   "execution_count": 23,
   "outputs": [],
   "source": [
    "df_JPsi = de.MC_muons_from_JPsi(gen_events, df_ev_filtered)  # all muons from a JPsi event\n",
    "df_JPsi = Cut.more_than_one_muon(df_JPsi)"
   ],
   "metadata": {
    "collapsed": false,
    "pycharm": {
     "name": "#%%\n"
    }
   }
  },
  {
   "cell_type": "code",
   "execution_count": 24,
   "outputs": [
    {
     "name": "stdout",
     "output_type": "stream",
     "text": [
      "\n",
      "Cut threshold [...] \n",
      "This cut rejects 30.13 % of the statistics\n",
      "\n",
      "Cut eta [...] \n",
      "This cut rejects 8.62 % of the statistics\n",
      "\n",
      "Cut pDCA [...] \n",
      " \n",
      "This cut rejects 4.7 % of the statistics\n",
      "Max number of possible muons pairs : 3264\n"
     ]
    },
    {
     "name": "stderr",
     "output_type": "stream",
     "text": [
      "100%|██████████| 3264/3264 [00:02<00:00, 1143.53it/s]"
     ]
    },
    {
     "name": "stdout",
     "output_type": "stream",
     "text": [
      "Execution time : 3.88\n"
     ]
    },
    {
     "name": "stderr",
     "output_type": "stream",
     "text": [
      "\n"
     ]
    }
   ],
   "source": [
    "df_JPsi_filtered = Filter.cut_tracks(df_JPsi)\n",
    "df_MC_di_muons_filtered = de.di_muons_dataframe(df_JPsi_filtered)"
   ],
   "metadata": {
    "collapsed": false,
    "pycharm": {
     "name": "#%%\n"
    }
   }
  },
  {
   "cell_type": "code",
   "execution_count": 25,
   "outputs": [],
   "source": [
    "df_MC_di_muons_filtered['M_inv'] = df_MC_di_muons_filtered.apply(lambda x: km.inv_mass(x['E1'], x['E2'], x['P1'], x['P2']), axis=1)"
   ],
   "metadata": {
    "collapsed": false,
    "pycharm": {
     "name": "#%%\n"
    }
   }
  },
  {
   "cell_type": "code",
   "execution_count": 28,
   "outputs": [
    {
     "data": {
      "text/plain": "<Figure size 864x576 with 1 Axes>",
      "image/png": "[encoded data removed]"
     },
     "metadata": {
      "needs_background": "light"
     },
     "output_type": "display_data"
    }
   ],
   "source": [
    "h = Filter.plot_M_inv(df_MC_di_muons_filtered['M_inv'], run_number)"
   ],
   "metadata": {
    "collapsed": false,
    "pycharm": {
     "name": "#%%\n"
    }
   }
  },
  {
   "cell_type": "code",
   "execution_count": null,
   "outputs": [
    {
     "data": {
      "text/plain": "<Figure size 864x576 with 1 Axes>",
      "image/png": "[encoded data removed]"
     },
     "metadata": {
      "needs_background": "light"
     },
     "output_type": "display_data"
    }
   ],
   "source": [
    "bins = np.linspace(1.5, 5, 36)  # width = 0.1 GeV\n",
    "\n",
    "plt.figure(figsize=(12, 8))\n",
    "plt.xlim(1.5, 5)\n",
    "plt.semilogy()\n",
    "h1 = plt.hist(df_MC_di_muons['M_inv'], bins=bins, range=[1.5, 5], histtype='step', align='mid')\n",
    "plt.xlabel(r\"$m_{\\mu\\mu}$ (GeV)\", fontweight='bold', fontsize=20)\n",
    "h2 = plt.hist(df_MC_di_muons_filtered['M_inv'], bins=bins, range=[1.5, 5], alpha=0.5, align='mid')\n",
    "\n",
    "props = dict(boxstyle='round', facecolor='wheat', alpha=0.5)\n",
    "plt.text(4,1e3, f'$N_0$ / $N_1$ = {round(h2[0].sum()/h1[0].sum(), 3)}', fontsize=15, bbox=props)\n",
    "\n",
    "plt.title(f'Run number {run_number}', fontsize=15, fontweight='bold')\n",
    "plt.ylabel('Counts per 0.1 GeV', fontsize=20, fontweight='bold')\n",
    "\n",
    "plt.savefig('Figures/Filter_comparison.pdf')"
   ],
   "metadata": {
    "collapsed": false,
    "pycharm": {
     "name": "#%%\n"
    }
   }
  },
  {
   "cell_type": "code",
   "execution_count": 30,
   "outputs": [
    {
     "data": {
      "text/plain": "6990.0"
     },
     "execution_count": 30,
     "metadata": {},
     "output_type": "execute_result"
    }
   ],
   "source": [
    "h1[0].sum()"
   ],
   "metadata": {
    "collapsed": false,
    "pycharm": {
     "name": "#%%\n"
    }
   }
  },
  {
   "cell_type": "code",
   "execution_count": 31,
   "outputs": [
    {
     "data": {
      "text/plain": "3256.0"
     },
     "execution_count": 31,
     "metadata": {},
     "output_type": "execute_result"
    }
   ],
   "source": [
    "h2[0].sum()"
   ],
   "metadata": {
    "collapsed": false,
    "pycharm": {
     "name": "#%%\n"
    }
   }
  },
  {
   "cell_type": "code",
   "execution_count": 32,
   "outputs": [
    {
     "data": {
      "text/plain": "0.4658082975679542"
     },
     "execution_count": 32,
     "metadata": {},
     "output_type": "execute_result"
    }
   ],
   "source": [
    "h2[0].sum() / h1[0].sum()"
   ],
   "metadata": {
    "collapsed": false,
    "pycharm": {
     "name": "#%%\n"
    }
   }
  },
  {
   "cell_type": "code",
   "execution_count": 35,
   "outputs": [
    {
     "data": {
      "text/plain": "6745"
     },
     "execution_count": 35,
     "metadata": {},
     "output_type": "execute_result"
    }
   ],
   "source": [
    "S = 0\n",
    "for v in numbers.values():\n",
    "    S+= v[1]\n",
    "S"
   ],
   "metadata": {
    "collapsed": false,
    "pycharm": {
     "name": "#%%\n"
    }
   }
  },
  {
   "cell_type": "code",
   "execution_count": null,
   "outputs": [],
   "source": [],
   "metadata": {
    "collapsed": false,
    "pycharm": {
     "name": "#%%\n"
    }
   }
  }
 ],
 "metadata": {
  "kernelspec": {
   "display_name": "Python 3",
   "language": "python",
   "name": "python3"
  },
  "language_info": {
   "codemirror_mode": {
    "name": "ipython",
    "version": 2
   },
   "file_extension": ".py",
   "mimetype": "text/x-python",
   "name": "python",
   "nbconvert_exporter": "python",
   "pygments_lexer": "ipython2",
   "version": "2.7.6"
  }
 },
 "nbformat": 4,
 "nbformat_minor": 0
}
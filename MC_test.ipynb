{
 "cells": [
  {
   "cell_type": "code",
   "execution_count": 1,
   "outputs": [],
   "source": [
    "import pandas as pd\n",
    "import uproot\n",
    "import awkward as ak\n",
    "import numpy as np\n",
    "import matplotlib\n",
    "import matplotlib.pyplot as plt\n",
    "import os\n",
    "import math\n",
    "from tqdm import tqdm\n",
    "from time import time\n",
    "import Filter\n",
    "import ProjectPackage.DataExtraction as de\n",
    "import ProjectPackage.Kinematic as km\n",
    "from ProjectPackage import Cut"
   ],
   "metadata": {
    "collapsed": false,
    "pycharm": {
     "name": "#%%\n"
    }
   }
  },
  {
   "cell_type": "code",
   "execution_count": 14,
   "outputs": [],
   "source": [
    "from collections import Counter"
   ],
   "metadata": {
    "collapsed": false,
    "pycharm": {
     "name": "#%%\n"
    }
   }
  },
  {
   "cell_type": "code",
   "execution_count": 2,
   "outputs": [],
   "source": [
    "data_folder = 'D:/Data_muons/dimuonData_LHC18mMC'\n",
    "run_number = 290350"
   ],
   "metadata": {
    "collapsed": false,
    "pycharm": {
     "name": "#%%\n"
    }
   }
  },
  {
   "cell_type": "code",
   "execution_count": 3,
   "outputs": [
    {
     "name": "stdout",
     "output_type": "stream",
     "text": [
      "Size of the data file : 6.83 Mo.\n",
      "Extraction took 1.0 s.\n",
      "Number of events : 40000.\n",
      "Size of the data file : 6.83 Mo.\n",
      "Extraction took 1.0 s.\n",
      "Number of events : 40000.\n"
     ]
    }
   ],
   "source": [
    "gen_events = de.read_root_file(data_folder, run_number, branch='genTree')\n",
    "events = de.read_root_file(data_folder, run_number)"
   ],
   "metadata": {
    "collapsed": false,
    "pycharm": {
     "name": "#%%\n"
    }
   }
  },
  {
   "cell_type": "code",
   "execution_count": 4,
   "outputs": [],
   "source": [
    "df_JPsi = de.MC_muons_from_JPsi(gen_events, events)"
   ],
   "metadata": {
    "collapsed": false,
    "pycharm": {
     "name": "#%%\n"
    }
   }
  },
  {
   "cell_type": "code",
   "execution_count": 51,
   "outputs": [
    {
     "data": {
      "text/plain": "Counter({100443: 16593, 443: 33407})"
     },
     "execution_count": 51,
     "metadata": {},
     "output_type": "execute_result"
    }
   ],
   "source": [
    "N_JPsi_generated =  Counter(gen_events['Muon']['GenMotherPDGCode'][:, 0])[443]"
   ],
   "metadata": {
    "collapsed": false,
    "pycharm": {
     "name": "#%%\n"
    }
   }
  },
  {
   "cell_type": "code",
   "execution_count": 5,
   "outputs": [],
   "source": [
    "df_JPsi= Cut.more_than_one_muon(df_JPsi)"
   ],
   "metadata": {
    "collapsed": false,
    "pycharm": {
     "name": "#%%\n"
    }
   }
  },
  {
   "cell_type": "code",
   "execution_count": 6,
   "outputs": [
    {
     "data": {
      "text/plain": "                        E        Px        Py         Pz  Charge  thetaAbs  \\\nentry subentry                                                               \n4     0         32.639103  0.898272 -2.246393 -32.549145      -1  4.356109   \n      1         12.560914  1.282863  0.857640 -12.465317       1  7.241020   \n8     0         44.965744 -4.125182  1.447606 -44.752590      -1  5.587151   \n      1          8.473455  0.162316 -0.625763  -8.448098       1  4.269989   \n15    0         17.779661  0.511636 -1.937725 -17.666031      -1  6.330056   \n...                   ...       ...       ...        ...     ...       ...   \n39988 1         20.137711 -0.383547 -0.664144 -20.122824      -1  2.173791   \n39989 0         29.315990  0.276409  1.644271 -29.268347       1  3.361345   \n      1         14.165579 -1.182077 -1.001817 -14.080182      -1  6.416943   \n39997 0          9.412484 -0.564705  0.943806  -9.347408      -1  6.987274   \n      1         21.762341  0.950925 -1.703994 -21.674419       1  5.081514   \n\n                     xDCA       yDCA       zDCA  matchedTrgThreshold  \\\nentry subentry                                                         \n4     0         -0.438410   3.873013  10.617554                    2   \n      1         -3.917211   2.590415  10.617554                    2   \n8     0          2.080722  -0.382406  -2.787759                    3   \n      1         -4.809096  -6.479955  -2.787759                    0   \n15    0          3.012422   0.058989  -7.586966                    2   \n...                   ...        ...        ...                  ...   \n39988 1         -0.507162   7.567567  -1.243141                    2   \n39989 0         -0.832773  -0.049870   8.092486                    3   \n      1          3.565193   4.464727   8.092486                    2   \n39997 0         19.466990 -11.121731   0.967598                    2   \n      1          2.113030  -1.407254   0.967598                    2   \n\n                MCHClusterMap  MTRHitMapTrg  MTRHitMapTrk  MCLabel  MCPDGCode  \\\nentry subentry                                                                  \n4     0                  1023    1074414591        672767        2         13   \n      1                   511    3224669183       3443711        1        -13   \n8     0                   991    1080415487       6661119        2         13   \n      1                  1023    1073741824         23552        1        -13   \n15    0                  1023    1074353271        606071        2         13   \n...                       ...           ...           ...      ...        ...   \n39988 1                  1021    1077751807       4009983        2         13   \n39989 0                   927    3221621759        396287        1        -13   \n      1                  1023    1080177663       6435839        2         13   \n39997 0                   991    1080435711       6693887        2         13   \n      1                  1023    3221968127        739327        1        -13   \n\n                GenMotherPDGCode  \nentry subentry                    \n4     0                      443  \n      1                      443  \n8     0                      443  \n      1                      443  \n15    0                      443  \n...                          ...  \n39988 1                      443  \n39989 0                      443  \n      1                      443  \n39997 0                      443  \n      1                      443  \n\n[14040 rows x 16 columns]",
      "text/html": "<div>\n<style scoped>\n    .dataframe tbody tr th:only-of-type {\n        vertical-align: middle;\n    }\n\n    .dataframe tbody tr th {\n        vertical-align: top;\n    }\n\n    .dataframe thead th {\n        text-align: right;\n    }\n</style>\n<table border=\"1\" class=\"dataframe\">\n  <thead>\n    <tr style=\"text-align: right;\">\n      <th></th>\n      <th></th>\n      <th>E</th>\n      <th>Px</th>\n      <th>Py</th>\n      <th>Pz</th>\n      <th>Charge</th>\n      <th>thetaAbs</th>\n      <th>xDCA</th>\n      <th>yDCA</th>\n      <th>zDCA</th>\n      <th>matchedTrgThreshold</th>\n      <th>MCHClusterMap</th>\n      <th>MTRHitMapTrg</th>\n      <th>MTRHitMapTrk</th>\n      <th>MCLabel</th>\n      <th>MCPDGCode</th>\n      <th>GenMotherPDGCode</th>\n    </tr>\n    <tr>\n      <th>entry</th>\n      <th>subentry</th>\n      <th></th>\n      <th></th>\n      <th></th>\n      <th></th>\n      <th></th>\n      <th></th>\n      <th></th>\n      <th></th>\n      <th></th>\n      <th></th>\n      <th></th>\n      <th></th>\n      <th></th>\n      <th></th>\n      <th></th>\n      <th></th>\n    </tr>\n  </thead>\n  <tbody>\n    <tr>\n      <th rowspan=\"2\" valign=\"top\">4</th>\n      <th>0</th>\n      <td>32.639103</td>\n      <td>0.898272</td>\n      <td>-2.246393</td>\n      <td>-32.549145</td>\n      <td>-1</td>\n      <td>4.356109</td>\n      <td>-0.438410</td>\n      <td>3.873013</td>\n      <td>10.617554</td>\n      <td>2</td>\n      <td>1023</td>\n      <td>1074414591</td>\n      <td>672767</td>\n      <td>2</td>\n      <td>13</td>\n      <td>443</td>\n    </tr>\n    <tr>\n      <th>1</th>\n      <td>12.560914</td>\n      <td>1.282863</td>\n      <td>0.857640</td>\n      <td>-12.465317</td>\n      <td>1</td>\n      <td>7.241020</td>\n      <td>-3.917211</td>\n      <td>2.590415</td>\n      <td>10.617554</td>\n      <td>2</td>\n      <td>511</td>\n      <td>3224669183</td>\n      <td>3443711</td>\n      <td>1</td>\n      <td>-13</td>\n      <td>443</td>\n    </tr>\n    <tr>\n      <th rowspan=\"2\" valign=\"top\">8</th>\n      <th>0</th>\n      <td>44.965744</td>\n      <td>-4.125182</td>\n      <td>1.447606</td>\n      <td>-44.752590</td>\n      <td>-1</td>\n      <td>5.587151</td>\n      <td>2.080722</td>\n      <td>-0.382406</td>\n      <td>-2.787759</td>\n      <td>3</td>\n      <td>991</td>\n      <td>1080415487</td>\n      <td>6661119</td>\n      <td>2</td>\n      <td>13</td>\n      <td>443</td>\n    </tr>\n    <tr>\n      <th>1</th>\n      <td>8.473455</td>\n      <td>0.162316</td>\n      <td>-0.625763</td>\n      <td>-8.448098</td>\n      <td>1</td>\n      <td>4.269989</td>\n      <td>-4.809096</td>\n      <td>-6.479955</td>\n      <td>-2.787759</td>\n      <td>0</td>\n      <td>1023</td>\n      <td>1073741824</td>\n      <td>23552</td>\n      <td>1</td>\n      <td>-13</td>\n      <td>443</td>\n    </tr>\n    <tr>\n      <th>15</th>\n      <th>0</th>\n      <td>17.779661</td>\n      <td>0.511636</td>\n      <td>-1.937725</td>\n      <td>-17.666031</td>\n      <td>-1</td>\n      <td>6.330056</td>\n      <td>3.012422</td>\n      <td>0.058989</td>\n      <td>-7.586966</td>\n      <td>2</td>\n      <td>1023</td>\n      <td>1074353271</td>\n      <td>606071</td>\n      <td>2</td>\n      <td>13</td>\n      <td>443</td>\n    </tr>\n    <tr>\n      <th>...</th>\n      <th>...</th>\n      <td>...</td>\n      <td>...</td>\n      <td>...</td>\n      <td>...</td>\n      <td>...</td>\n      <td>...</td>\n      <td>...</td>\n      <td>...</td>\n      <td>...</td>\n      <td>...</td>\n      <td>...</td>\n      <td>...</td>\n      <td>...</td>\n      <td>...</td>\n      <td>...</td>\n      <td>...</td>\n    </tr>\n    <tr>\n      <th>39988</th>\n      <th>1</th>\n      <td>20.137711</td>\n      <td>-0.383547</td>\n      <td>-0.664144</td>\n      <td>-20.122824</td>\n      <td>-1</td>\n      <td>2.173791</td>\n      <td>-0.507162</td>\n      <td>7.567567</td>\n      <td>-1.243141</td>\n      <td>2</td>\n      <td>1021</td>\n      <td>1077751807</td>\n      <td>4009983</td>\n      <td>2</td>\n      <td>13</td>\n      <td>443</td>\n    </tr>\n    <tr>\n      <th rowspan=\"2\" valign=\"top\">39989</th>\n      <th>0</th>\n      <td>29.315990</td>\n      <td>0.276409</td>\n      <td>1.644271</td>\n      <td>-29.268347</td>\n      <td>1</td>\n      <td>3.361345</td>\n      <td>-0.832773</td>\n      <td>-0.049870</td>\n      <td>8.092486</td>\n      <td>3</td>\n      <td>927</td>\n      <td>3221621759</td>\n      <td>396287</td>\n      <td>1</td>\n      <td>-13</td>\n      <td>443</td>\n    </tr>\n    <tr>\n      <th>1</th>\n      <td>14.165579</td>\n      <td>-1.182077</td>\n      <td>-1.001817</td>\n      <td>-14.080182</td>\n      <td>-1</td>\n      <td>6.416943</td>\n      <td>3.565193</td>\n      <td>4.464727</td>\n      <td>8.092486</td>\n      <td>2</td>\n      <td>1023</td>\n      <td>1080177663</td>\n      <td>6435839</td>\n      <td>2</td>\n      <td>13</td>\n      <td>443</td>\n    </tr>\n    <tr>\n      <th rowspan=\"2\" valign=\"top\">39997</th>\n      <th>0</th>\n      <td>9.412484</td>\n      <td>-0.564705</td>\n      <td>0.943806</td>\n      <td>-9.347408</td>\n      <td>-1</td>\n      <td>6.987274</td>\n      <td>19.466990</td>\n      <td>-11.121731</td>\n      <td>0.967598</td>\n      <td>2</td>\n      <td>991</td>\n      <td>1080435711</td>\n      <td>6693887</td>\n      <td>2</td>\n      <td>13</td>\n      <td>443</td>\n    </tr>\n    <tr>\n      <th>1</th>\n      <td>21.762341</td>\n      <td>0.950925</td>\n      <td>-1.703994</td>\n      <td>-21.674419</td>\n      <td>1</td>\n      <td>5.081514</td>\n      <td>2.113030</td>\n      <td>-1.407254</td>\n      <td>0.967598</td>\n      <td>2</td>\n      <td>1023</td>\n      <td>3221968127</td>\n      <td>739327</td>\n      <td>1</td>\n      <td>-13</td>\n      <td>443</td>\n    </tr>\n  </tbody>\n</table>\n<p>14040 rows × 16 columns</p>\n</div>"
     },
     "execution_count": 6,
     "metadata": {},
     "output_type": "execute_result"
    }
   ],
   "source": [
    "df_JPsi"
   ],
   "metadata": {
    "collapsed": false,
    "pycharm": {
     "name": "#%%\n"
    }
   }
  },
  {
   "cell_type": "code",
   "execution_count": 7,
   "outputs": [
    {
     "name": "stderr",
     "output_type": "stream",
     "text": [
      "100%|██████████| 7020/7020 [00:07<00:00, 927.46it/s] \n"
     ]
    },
    {
     "name": "stdout",
     "output_type": "stream",
     "text": [
      "Execution time : 9.67\n"
     ]
    }
   ],
   "source": [
    "df_MC_di_muons = de.di_muons_dataframe(df_JPsi)"
   ],
   "metadata": {
    "collapsed": false,
    "pycharm": {
     "name": "#%%\n"
    }
   }
  },
  {
   "cell_type": "code",
   "execution_count": 8,
   "outputs": [],
   "source": [
    "df_MC_di_muons['M_inv'] = df_MC_di_muons.apply(lambda x: km.inv_mass(x['E1'], x['E2'], x['P1'], x['P2']), axis=1)\n",
    "df_MC_di_muons['p_T'] = df_MC_di_muons.apply(lambda x: km.p_T_df(x['P1'], x['P2']), axis=1)\n",
    "df_MC_di_muons['y'] = df_MC_di_muons.apply(lambda x: km.y(x['E'], x['P1'][-1] + x['P2'][-1]), axis=1)"
   ],
   "metadata": {
    "collapsed": false,
    "pycharm": {
     "name": "#%%\n"
    }
   }
  },
  {
   "cell_type": "code",
   "execution_count": 9,
   "outputs": [
    {
     "data": {
      "text/plain": "<Figure size 864x576 with 1 Axes>",
      "image/png": "[encoded data removed]"
     },
     "metadata": {
      "needs_background": "light"
     },
     "output_type": "display_data"
    }
   ],
   "source": [
    "h = Filter.plot_M_inv(df_MC_di_muons['M_inv'], run_number)"
   ],
   "metadata": {
    "collapsed": false,
    "pycharm": {
     "name": "#%%\n"
    }
   }
  },
  {
   "cell_type": "code",
   "execution_count": 24,
   "outputs": [
    {
     "data": {
      "text/plain": "<Figure size 432x288 with 1 Axes>",
      "image/png": "[encoded data removed]"
     },
     "metadata": {
      "needs_background": "light"
     },
     "output_type": "display_data"
    }
   ],
   "source": [
    "width = 0.01\n",
    "m_min, m_max = 1.5, 15\n",
    "N = int((m_max - m_min) / width + 1)\n",
    "\n",
    "h = plt.hist(df_MC_di_muons['M_inv'], bins = np.linspace(1.5, 15, N), histtype='step', align='mid', density=True)"
   ],
   "metadata": {
    "collapsed": false,
    "pycharm": {
     "name": "#%%\n"
    }
   }
  },
  {
   "cell_type": "code",
   "execution_count": 57,
   "outputs": [
    {
     "data": {
      "text/plain": "                                                       P1  \\\nEvent id Muon id                                            \n2        (0, 1)       [0.48838058, -1.549988, -23.442211]   \n9        (0, 1)       [-0.7505853, 1.4225478, -15.246875]   \n17       (0, 1)       [0.97964764, 0.5533636, -29.717632]   \n26       (0, 1)   [-0.00038822155, 1.7020462, -49.012337]   \n30       (0, 1)      [-1.7471068, -0.8894406, -39.629425]   \n...                                                   ...   \n49984    (0, 1)      [0.107524626, 2.3083713, -21.120495]   \n49987    (0, 1)      [-0.92320424, 1.0444614, -12.145874]   \n49988    (0, 1)       [-0.94348377, 1.095878, -11.894768]   \n49992    (0, 1)         [0.8918729, 3.3177924, -98.53978]   \n49996    (0, 1)      [-2.1788988, -1.0558776, -46.875923]   \n\n                                                      P2         E1  \\\nEvent id Muon id                                                      \n2        (0, 1)      [-2.344716, -1.1761321, -17.190815]  23.498711   \n9        (0, 1)      [-2.197666, -1.5261581, -25.260548]  15.331842   \n17       (0, 1)       [-0.3067992, 5.672762, -61.932674]  29.739111   \n26       (0, 1)        [2.729288, 0.19492476, -69.75613]  49.041996   \n30       (0, 1)      [-0.01249517, 1.6643828, -36.21362]  39.678032   \n...                                                  ...        ...   \n49984    (0, 1)   [-0.17050265, -0.95133424, -14.561279]  21.246801   \n49987    (0, 1)       [-1.239963, -3.183386, -44.196224]  12.226064   \n49988    (0, 1)     [0.49313825, -1.3783118, -31.119955]  11.982812   \n49992    (0, 1)     [-0.15998629, -0.6905662, -7.250123]  98.599709   \n49996    (0, 1)       [0.7606453, 1.3536872, -38.449127]  46.938534   \n\n                         E2           E     M_inv       p_T         y  \nEvent id Muon id                                                       \n2        (0, 1)   17.390120   40.888832  3.151287  3.298138 -2.882104  \n9        (0, 1)   25.402075   40.733917  3.106514  2.950071 -2.941231  \n17       (0, 1)   62.192780   91.931892  3.525000  6.262377 -3.239990  \n26       (0, 1)   69.809853  118.851852  2.953247  3.323461 -3.977455  \n30       (0, 1)   36.252003   75.930038  3.075837  1.922689 -3.732172  \n...                     ...         ...       ...       ...       ...  \n49984    (0, 1)   14.593701   35.840504  3.075919  1.358498 -3.055281  \n49987    (0, 1)   44.328194   56.554256  3.825260  3.042087 -3.138447  \n49988    (0, 1)   31.154547   43.137360  3.198036  0.531582 -3.277329  \n49992    (0, 1)    7.285460  105.885170  3.543225  2.727265 -3.853056  \n49996    (0, 1)   38.480614   85.419144  3.731085  1.449184 -3.751817  \n\n[8967 rows x 8 columns]",
      "text/html": "<div>\n<style scoped>\n    .dataframe tbody tr th:only-of-type {\n        vertical-align: middle;\n    }\n\n    .dataframe tbody tr th {\n        vertical-align: top;\n    }\n\n    .dataframe thead th {\n        text-align: right;\n    }\n</style>\n<table border=\"1\" class=\"dataframe\">\n  <thead>\n    <tr style=\"text-align: right;\">\n      <th></th>\n      <th></th>\n      <th>P1</th>\n      <th>P2</th>\n      <th>E1</th>\n      <th>E2</th>\n      <th>E</th>\n      <th>M_inv</th>\n      <th>p_T</th>\n      <th>y</th>\n    </tr>\n    <tr>\n      <th>Event id</th>\n      <th>Muon id</th>\n      <th></th>\n      <th></th>\n      <th></th>\n      <th></th>\n      <th></th>\n      <th></th>\n      <th></th>\n      <th></th>\n    </tr>\n  </thead>\n  <tbody>\n    <tr>\n      <th>2</th>\n      <th>(0, 1)</th>\n      <td>[0.48838058, -1.549988, -23.442211]</td>\n      <td>[-2.344716, -1.1761321, -17.190815]</td>\n      <td>23.498711</td>\n      <td>17.390120</td>\n      <td>40.888832</td>\n      <td>3.151287</td>\n      <td>3.298138</td>\n      <td>-2.882104</td>\n    </tr>\n    <tr>\n      <th>9</th>\n      <th>(0, 1)</th>\n      <td>[-0.7505853, 1.4225478, -15.246875]</td>\n      <td>[-2.197666, -1.5261581, -25.260548]</td>\n      <td>15.331842</td>\n      <td>25.402075</td>\n      <td>40.733917</td>\n      <td>3.106514</td>\n      <td>2.950071</td>\n      <td>-2.941231</td>\n    </tr>\n    <tr>\n      <th>17</th>\n      <th>(0, 1)</th>\n      <td>[0.97964764, 0.5533636, -29.717632]</td>\n      <td>[-0.3067992, 5.672762, -61.932674]</td>\n      <td>29.739111</td>\n      <td>62.192780</td>\n      <td>91.931892</td>\n      <td>3.525000</td>\n      <td>6.262377</td>\n      <td>-3.239990</td>\n    </tr>\n    <tr>\n      <th>26</th>\n      <th>(0, 1)</th>\n      <td>[-0.00038822155, 1.7020462, -49.012337]</td>\n      <td>[2.729288, 0.19492476, -69.75613]</td>\n      <td>49.041996</td>\n      <td>69.809853</td>\n      <td>118.851852</td>\n      <td>2.953247</td>\n      <td>3.323461</td>\n      <td>-3.977455</td>\n    </tr>\n    <tr>\n      <th>30</th>\n      <th>(0, 1)</th>\n      <td>[-1.7471068, -0.8894406, -39.629425]</td>\n      <td>[-0.01249517, 1.6643828, -36.21362]</td>\n      <td>39.678032</td>\n      <td>36.252003</td>\n      <td>75.930038</td>\n      <td>3.075837</td>\n      <td>1.922689</td>\n      <td>-3.732172</td>\n    </tr>\n    <tr>\n      <th>...</th>\n      <th>...</th>\n      <td>...</td>\n      <td>...</td>\n      <td>...</td>\n      <td>...</td>\n      <td>...</td>\n      <td>...</td>\n      <td>...</td>\n      <td>...</td>\n    </tr>\n    <tr>\n      <th>49984</th>\n      <th>(0, 1)</th>\n      <td>[0.107524626, 2.3083713, -21.120495]</td>\n      <td>[-0.17050265, -0.95133424, -14.561279]</td>\n      <td>21.246801</td>\n      <td>14.593701</td>\n      <td>35.840504</td>\n      <td>3.075919</td>\n      <td>1.358498</td>\n      <td>-3.055281</td>\n    </tr>\n    <tr>\n      <th>49987</th>\n      <th>(0, 1)</th>\n      <td>[-0.92320424, 1.0444614, -12.145874]</td>\n      <td>[-1.239963, -3.183386, -44.196224]</td>\n      <td>12.226064</td>\n      <td>44.328194</td>\n      <td>56.554256</td>\n      <td>3.825260</td>\n      <td>3.042087</td>\n      <td>-3.138447</td>\n    </tr>\n    <tr>\n      <th>49988</th>\n      <th>(0, 1)</th>\n      <td>[-0.94348377, 1.095878, -11.894768]</td>\n      <td>[0.49313825, -1.3783118, -31.119955]</td>\n      <td>11.982812</td>\n      <td>31.154547</td>\n      <td>43.137360</td>\n      <td>3.198036</td>\n      <td>0.531582</td>\n      <td>-3.277329</td>\n    </tr>\n    <tr>\n      <th>49992</th>\n      <th>(0, 1)</th>\n      <td>[0.8918729, 3.3177924, -98.53978]</td>\n      <td>[-0.15998629, -0.6905662, -7.250123]</td>\n      <td>98.599709</td>\n      <td>7.285460</td>\n      <td>105.885170</td>\n      <td>3.543225</td>\n      <td>2.727265</td>\n      <td>-3.853056</td>\n    </tr>\n    <tr>\n      <th>49996</th>\n      <th>(0, 1)</th>\n      <td>[-2.1788988, -1.0558776, -46.875923]</td>\n      <td>[0.7606453, 1.3536872, -38.449127]</td>\n      <td>46.938534</td>\n      <td>38.480614</td>\n      <td>85.419144</td>\n      <td>3.731085</td>\n      <td>1.449184</td>\n      <td>-3.751817</td>\n    </tr>\n  </tbody>\n</table>\n<p>8967 rows × 8 columns</p>\n</div>"
     },
     "execution_count": 57,
     "metadata": {},
     "output_type": "execute_result"
    }
   ],
   "source": [
    "df_MC_di_muons"
   ],
   "metadata": {
    "collapsed": false,
    "pycharm": {
     "name": "#%%\n"
    }
   }
  },
  {
   "cell_type": "code",
   "execution_count": 59,
   "outputs": [],
   "source": [
    "rap_min = 2.5\n",
    "rap_max = 4\n",
    "\n",
    "pt_min = 0\n",
    "pt_max = 8\n",
    "\n",
    "rap_bin = np.linspace(rap_min, rap_max, 10)\n",
    "pt_bin = np.linspace(pt_min, pt_max, 9)"
   ],
   "metadata": {
    "collapsed": false,
    "pycharm": {
     "name": "#%%\n"
    }
   }
  },
  {
   "cell_type": "code",
   "execution_count": 60,
   "outputs": [
    {
     "data": {
      "text/plain": "(array([1263., 2334., 1889., 1350.,  828.,  519.,  308.,  166.]),\n array([0., 1., 2., 3., 4., 5., 6., 7., 8.]),\n <BarContainer object of 8 artists>)"
     },
     "execution_count": 60,
     "metadata": {},
     "output_type": "execute_result"
    },
    {
     "data": {
      "text/plain": "<Figure size 432x288 with 1 Axes>",
      "image/png": "[encoded data removed]"
     },
     "metadata": {
      "needs_background": "light"
     },
     "output_type": "display_data"
    }
   ],
   "source": [
    "plt.hist(df_MC_di_muons['p_T'], bins=pt_bin)"
   ],
   "metadata": {
    "collapsed": false,
    "pycharm": {
     "name": "#%%\n"
    }
   }
  },
  {
   "cell_type": "code",
   "execution_count": 61,
   "outputs": [
    {
     "data": {
      "text/plain": "(array([ 347.,  914., 1312., 1415., 1411., 1287., 1085.,  742.,  400.]),\n array([2.5       , 2.66666667, 2.83333333, 3.        , 3.16666667,\n        3.33333333, 3.5       , 3.66666667, 3.83333333, 4.        ]),\n <BarContainer object of 9 artists>)"
     },
     "execution_count": 61,
     "metadata": {},
     "output_type": "execute_result"
    },
    {
     "data": {
      "text/plain": "<Figure size 432x288 with 1 Axes>",
      "image/png": "[encoded data removed]"
     },
     "metadata": {
      "needs_background": "light"
     },
     "output_type": "display_data"
    }
   ],
   "source": [
    "plt.hist(np.abs(df_MC_di_muons['y']), bins=rap_bin)"
   ],
   "metadata": {
    "collapsed": false,
    "pycharm": {
     "name": "#%%\n"
    }
   }
  },
  {
   "cell_type": "code",
   "execution_count": 63,
   "outputs": [
    {
     "data": {
      "text/plain": "                        E        Px        Py         Pz  Charge  thetaAbs  \\\nentry subentry                                                               \n2     0         23.498711  0.488381 -1.549988 -23.442211      -1  4.002942   \n      1         17.390120 -2.344716 -1.176132 -17.190815       1  8.878577   \n3     0         30.201040  0.073157  1.652825 -30.155504       1  3.216525   \n4     0         45.413754 -3.071838  3.019731 -45.208881      -1  5.554925   \n5     0         16.946646  0.377813 -1.551373 -16.870926      -1  5.389262   \n...                   ...       ...       ...        ...     ...       ...   \n49992 1          7.285460 -0.159986 -0.690566  -7.250123      -1  5.615806   \n49993 0         48.442661  1.855868  1.510623 -48.383408       1  2.834220   \n49996 0         46.938534 -2.178899 -1.055878 -46.875923       1  2.865243   \n      1         38.480614  0.760645  1.353687 -38.449127      -1  2.312712   \n49997 0          9.842753  0.981072 -0.096803  -9.792689      -1  5.559794   \n\n                     xDCA      yDCA       zDCA  matchedTrgThreshold  \\\nentry subentry                                                        \n2     0         -0.846229 -0.185634  10.481424                    2   \n      1          5.866361 -1.477651  10.481424                    3   \n3     0         -0.614339  0.010723   4.917283                    3   \n4     0          2.691869 -1.404004   4.215640                    3   \n5     0          1.718890 -1.006364   4.095264                    3   \n...                   ...       ...        ...                  ...   \n49992 1         13.487918 -1.746244  -2.902555                    2   \n49993 0          3.282735  0.148156  -2.240387                    3   \n49996 0         -0.473000 -1.893596  -9.630126                    2   \n      1         -2.599837  1.752227  -9.630126                    2   \n49997 0         10.416901  2.100573  -5.321918                    2   \n\n                MCHClusterMap  MTRHitMapTrg  MTRHitMapTrk  MCLabel  MCPDGCode  \\\nentry subentry                                                                  \n2     0                  1023    1074447103        705279        2         13   \n      1                  1023    3228740607       7515135        1        -13   \n3     0                   927    2147898623        396287        1        -13   \n4     0                  1023    1079923967       6169599        2         13   \n5     0                  1023    1074380799        638975        2         13   \n...                       ...           ...           ...      ...        ...   \n49992 1                  1021    1078147071       4405247        2         13   \n49993 0                  1023    3222243327       1017855        1        -13   \n49996 0                  1005    3226658047         25855        1        -13   \n      1                  1023    1074746623        985087        2         13   \n49997 0                   943    1075925469       2183645        2         13   \n\n                GenMotherPDGCode  \nentry subentry                    \n2     0                    443.0  \n      1                    443.0  \n3     0                    443.0  \n4     0                    443.0  \n5     0                    443.0  \n...                          ...  \n49992 1                    443.0  \n49993 0                    443.0  \n49996 0                    443.0  \n      1                    443.0  \n49997 0                    443.0  \n\n[36883 rows x 16 columns]",
      "text/html": "<div>\n<style scoped>\n    .dataframe tbody tr th:only-of-type {\n        vertical-align: middle;\n    }\n\n    .dataframe tbody tr th {\n        vertical-align: top;\n    }\n\n    .dataframe thead th {\n        text-align: right;\n    }\n</style>\n<table border=\"1\" class=\"dataframe\">\n  <thead>\n    <tr style=\"text-align: right;\">\n      <th></th>\n      <th></th>\n      <th>E</th>\n      <th>Px</th>\n      <th>Py</th>\n      <th>Pz</th>\n      <th>Charge</th>\n      <th>thetaAbs</th>\n      <th>xDCA</th>\n      <th>yDCA</th>\n      <th>zDCA</th>\n      <th>matchedTrgThreshold</th>\n      <th>MCHClusterMap</th>\n      <th>MTRHitMapTrg</th>\n      <th>MTRHitMapTrk</th>\n      <th>MCLabel</th>\n      <th>MCPDGCode</th>\n      <th>GenMotherPDGCode</th>\n    </tr>\n    <tr>\n      <th>entry</th>\n      <th>subentry</th>\n      <th></th>\n      <th></th>\n      <th></th>\n      <th></th>\n      <th></th>\n      <th></th>\n      <th></th>\n      <th></th>\n      <th></th>\n      <th></th>\n      <th></th>\n      <th></th>\n      <th></th>\n      <th></th>\n      <th></th>\n      <th></th>\n    </tr>\n  </thead>\n  <tbody>\n    <tr>\n      <th rowspan=\"2\" valign=\"top\">2</th>\n      <th>0</th>\n      <td>23.498711</td>\n      <td>0.488381</td>\n      <td>-1.549988</td>\n      <td>-23.442211</td>\n      <td>-1</td>\n      <td>4.002942</td>\n      <td>-0.846229</td>\n      <td>-0.185634</td>\n      <td>10.481424</td>\n      <td>2</td>\n      <td>1023</td>\n      <td>1074447103</td>\n      <td>705279</td>\n      <td>2</td>\n      <td>13</td>\n      <td>443.0</td>\n    </tr>\n    <tr>\n      <th>1</th>\n      <td>17.390120</td>\n      <td>-2.344716</td>\n      <td>-1.176132</td>\n      <td>-17.190815</td>\n      <td>1</td>\n      <td>8.878577</td>\n      <td>5.866361</td>\n      <td>-1.477651</td>\n      <td>10.481424</td>\n      <td>3</td>\n      <td>1023</td>\n      <td>3228740607</td>\n      <td>7515135</td>\n      <td>1</td>\n      <td>-13</td>\n      <td>443.0</td>\n    </tr>\n    <tr>\n      <th>3</th>\n      <th>0</th>\n      <td>30.201040</td>\n      <td>0.073157</td>\n      <td>1.652825</td>\n      <td>-30.155504</td>\n      <td>1</td>\n      <td>3.216525</td>\n      <td>-0.614339</td>\n      <td>0.010723</td>\n      <td>4.917283</td>\n      <td>3</td>\n      <td>927</td>\n      <td>2147898623</td>\n      <td>396287</td>\n      <td>1</td>\n      <td>-13</td>\n      <td>443.0</td>\n    </tr>\n    <tr>\n      <th>4</th>\n      <th>0</th>\n      <td>45.413754</td>\n      <td>-3.071838</td>\n      <td>3.019731</td>\n      <td>-45.208881</td>\n      <td>-1</td>\n      <td>5.554925</td>\n      <td>2.691869</td>\n      <td>-1.404004</td>\n      <td>4.215640</td>\n      <td>3</td>\n      <td>1023</td>\n      <td>1079923967</td>\n      <td>6169599</td>\n      <td>2</td>\n      <td>13</td>\n      <td>443.0</td>\n    </tr>\n    <tr>\n      <th>5</th>\n      <th>0</th>\n      <td>16.946646</td>\n      <td>0.377813</td>\n      <td>-1.551373</td>\n      <td>-16.870926</td>\n      <td>-1</td>\n      <td>5.389262</td>\n      <td>1.718890</td>\n      <td>-1.006364</td>\n      <td>4.095264</td>\n      <td>3</td>\n      <td>1023</td>\n      <td>1074380799</td>\n      <td>638975</td>\n      <td>2</td>\n      <td>13</td>\n      <td>443.0</td>\n    </tr>\n    <tr>\n      <th>...</th>\n      <th>...</th>\n      <td>...</td>\n      <td>...</td>\n      <td>...</td>\n      <td>...</td>\n      <td>...</td>\n      <td>...</td>\n      <td>...</td>\n      <td>...</td>\n      <td>...</td>\n      <td>...</td>\n      <td>...</td>\n      <td>...</td>\n      <td>...</td>\n      <td>...</td>\n      <td>...</td>\n      <td>...</td>\n    </tr>\n    <tr>\n      <th>49992</th>\n      <th>1</th>\n      <td>7.285460</td>\n      <td>-0.159986</td>\n      <td>-0.690566</td>\n      <td>-7.250123</td>\n      <td>-1</td>\n      <td>5.615806</td>\n      <td>13.487918</td>\n      <td>-1.746244</td>\n      <td>-2.902555</td>\n      <td>2</td>\n      <td>1021</td>\n      <td>1078147071</td>\n      <td>4405247</td>\n      <td>2</td>\n      <td>13</td>\n      <td>443.0</td>\n    </tr>\n    <tr>\n      <th>49993</th>\n      <th>0</th>\n      <td>48.442661</td>\n      <td>1.855868</td>\n      <td>1.510623</td>\n      <td>-48.383408</td>\n      <td>1</td>\n      <td>2.834220</td>\n      <td>3.282735</td>\n      <td>0.148156</td>\n      <td>-2.240387</td>\n      <td>3</td>\n      <td>1023</td>\n      <td>3222243327</td>\n      <td>1017855</td>\n      <td>1</td>\n      <td>-13</td>\n      <td>443.0</td>\n    </tr>\n    <tr>\n      <th rowspan=\"2\" valign=\"top\">49996</th>\n      <th>0</th>\n      <td>46.938534</td>\n      <td>-2.178899</td>\n      <td>-1.055878</td>\n      <td>-46.875923</td>\n      <td>1</td>\n      <td>2.865243</td>\n      <td>-0.473000</td>\n      <td>-1.893596</td>\n      <td>-9.630126</td>\n      <td>2</td>\n      <td>1005</td>\n      <td>3226658047</td>\n      <td>25855</td>\n      <td>1</td>\n      <td>-13</td>\n      <td>443.0</td>\n    </tr>\n    <tr>\n      <th>1</th>\n      <td>38.480614</td>\n      <td>0.760645</td>\n      <td>1.353687</td>\n      <td>-38.449127</td>\n      <td>-1</td>\n      <td>2.312712</td>\n      <td>-2.599837</td>\n      <td>1.752227</td>\n      <td>-9.630126</td>\n      <td>2</td>\n      <td>1023</td>\n      <td>1074746623</td>\n      <td>985087</td>\n      <td>2</td>\n      <td>13</td>\n      <td>443.0</td>\n    </tr>\n    <tr>\n      <th>49997</th>\n      <th>0</th>\n      <td>9.842753</td>\n      <td>0.981072</td>\n      <td>-0.096803</td>\n      <td>-9.792689</td>\n      <td>-1</td>\n      <td>5.559794</td>\n      <td>10.416901</td>\n      <td>2.100573</td>\n      <td>-5.321918</td>\n      <td>2</td>\n      <td>943</td>\n      <td>1075925469</td>\n      <td>2183645</td>\n      <td>2</td>\n      <td>13</td>\n      <td>443.0</td>\n    </tr>\n  </tbody>\n</table>\n<p>36883 rows × 16 columns</p>\n</div>"
     },
     "execution_count": 63,
     "metadata": {},
     "output_type": "execute_result"
    }
   ],
   "source": [
    "df_JPsi"
   ],
   "metadata": {
    "collapsed": false,
    "pycharm": {
     "name": "#%%\n"
    }
   }
  },
  {
   "cell_type": "code",
   "execution_count": 64,
   "outputs": [
    {
     "name": "stdout",
     "output_type": "stream",
     "text": [
      "\n",
      "Cut nMuons [...] \n",
      " \n",
      "This cut rejects 73.27 % of the statistics\n",
      "\n",
      "Cut CMUL [...] \n",
      " \n",
      "This cut rejects 18.76 % of the statistics\n",
      "\n",
      "Cut zVtx [...] \n",
      " \n",
      "This cut rejects 3.25 % of the statistics\n"
     ]
    }
   ],
   "source": [
    "events = Filter.cut_events(events)"
   ],
   "metadata": {
    "collapsed": false,
    "pycharm": {
     "name": "#%%\n"
    }
   }
  },
  {
   "cell_type": "code",
   "execution_count": 65,
   "outputs": [],
   "source": [
    "df_JPsi = de.MC_muons_from_JPsi(gen_events, events)"
   ],
   "metadata": {
    "collapsed": false,
    "pycharm": {
     "name": "#%%\n"
    }
   }
  },
  {
   "cell_type": "code",
   "execution_count": 66,
   "outputs": [
    {
     "data": {
      "text/plain": "                        E        Px        Py         Pz  Charge  thetaAbs  \\\nentry subentry                                                               \n2     0         10.719228 -1.003180  0.136138 -10.670791       1  5.282767   \n      1         51.090294  2.801551 -0.029622 -51.013306      -1  3.107426   \n3     0         29.739111  0.979648  0.553364 -29.717632       1  2.172865   \n      1         62.192780 -0.306799  5.672762 -61.932674      -1  5.290217   \n4     0         39.678032 -1.747107 -0.889441 -39.629425      -1  2.852030   \n...                   ...       ...       ...        ...     ...       ...   \n10503 1          7.285460 -0.159986 -0.690566  -7.250123      -1  5.615806   \n10504 0         46.938534 -2.178899 -1.055878 -46.875923       1  2.865243   \n      1         38.480614  0.760645  1.353687 -38.449127      -1  2.312712   \n10505 0         15.705569 -0.910367 -0.438091 -15.672685      -1  3.564234   \n      1         57.897934  0.045639  3.358790 -57.800312       1  3.321338   \n\n                     xDCA      yDCA      zDCA  matchedTrgThreshold  \\\nentry subentry                                                       \n2     0         -3.709304 -5.265104 -6.227890                    2   \n      1          0.376798 -1.192809 -6.227890                    2   \n3     0          5.061636 -0.153052  1.478772                    2   \n      1         -0.514271  0.871412  1.478772                    3   \n4     0          4.586931 -0.229292  2.568538                    3   \n...                   ...       ...       ...                  ...   \n10503 1         13.487918 -1.746244 -2.902555                    2   \n10504 0         -0.473000 -1.893596 -9.630126                    2   \n      1         -2.599837  1.752227 -9.630126                    2   \n10505 0          0.008076 -6.558584 -9.264464                    2   \n      1         -0.274137 -0.597027 -9.264464                    3   \n\n                MCHClusterMap  MTRHitMapTrg  MTRHitMapTrk  MCLabel  MCPDGCode  \\\nentry subentry                                                                  \n2     0                   991    3227426815       6201343        1        -13   \n      1                  1007    1075369215       1606655        2         13   \n3     0                  1023    3222243327       1017855        1        -13   \n      1                   511    2151718911       4267775        2         13   \n4     0                  1005    2152846591       5352447        2         13   \n...                       ...           ...           ...      ...        ...   \n10503 1                  1021    1078147071       4405247        2         13   \n10504 0                  1005    3226658047         25855        1        -13   \n      1                  1023    1074746623        985087        2         13   \n10505 0                   943    1079061503       5319679        2         13   \n      1                   927    3221621759        396287        1        -13   \n\n                GenMotherPDGCode  \nentry subentry                    \n2     0                    443.0  \n      1                    443.0  \n3     0                    443.0  \n      1                    443.0  \n4     0                    443.0  \n...                          ...  \n10503 1                    443.0  \n10504 0                    443.0  \n      1                    443.0  \n10505 0                    443.0  \n      1                    443.0  \n\n[14036 rows x 16 columns]",
      "text/html": "<div>\n<style scoped>\n    .dataframe tbody tr th:only-of-type {\n        vertical-align: middle;\n    }\n\n    .dataframe tbody tr th {\n        vertical-align: top;\n    }\n\n    .dataframe thead th {\n        text-align: right;\n    }\n</style>\n<table border=\"1\" class=\"dataframe\">\n  <thead>\n    <tr style=\"text-align: right;\">\n      <th></th>\n      <th></th>\n      <th>E</th>\n      <th>Px</th>\n      <th>Py</th>\n      <th>Pz</th>\n      <th>Charge</th>\n      <th>thetaAbs</th>\n      <th>xDCA</th>\n      <th>yDCA</th>\n      <th>zDCA</th>\n      <th>matchedTrgThreshold</th>\n      <th>MCHClusterMap</th>\n      <th>MTRHitMapTrg</th>\n      <th>MTRHitMapTrk</th>\n      <th>MCLabel</th>\n      <th>MCPDGCode</th>\n      <th>GenMotherPDGCode</th>\n    </tr>\n    <tr>\n      <th>entry</th>\n      <th>subentry</th>\n      <th></th>\n      <th></th>\n      <th></th>\n      <th></th>\n      <th></th>\n      <th></th>\n      <th></th>\n      <th></th>\n      <th></th>\n      <th></th>\n      <th></th>\n      <th></th>\n      <th></th>\n      <th></th>\n      <th></th>\n      <th></th>\n    </tr>\n  </thead>\n  <tbody>\n    <tr>\n      <th rowspan=\"2\" valign=\"top\">2</th>\n      <th>0</th>\n      <td>10.719228</td>\n      <td>-1.003180</td>\n      <td>0.136138</td>\n      <td>-10.670791</td>\n      <td>1</td>\n      <td>5.282767</td>\n      <td>-3.709304</td>\n      <td>-5.265104</td>\n      <td>-6.227890</td>\n      <td>2</td>\n      <td>991</td>\n      <td>3227426815</td>\n      <td>6201343</td>\n      <td>1</td>\n      <td>-13</td>\n      <td>443.0</td>\n    </tr>\n    <tr>\n      <th>1</th>\n      <td>51.090294</td>\n      <td>2.801551</td>\n      <td>-0.029622</td>\n      <td>-51.013306</td>\n      <td>-1</td>\n      <td>3.107426</td>\n      <td>0.376798</td>\n      <td>-1.192809</td>\n      <td>-6.227890</td>\n      <td>2</td>\n      <td>1007</td>\n      <td>1075369215</td>\n      <td>1606655</td>\n      <td>2</td>\n      <td>13</td>\n      <td>443.0</td>\n    </tr>\n    <tr>\n      <th rowspan=\"2\" valign=\"top\">3</th>\n      <th>0</th>\n      <td>29.739111</td>\n      <td>0.979648</td>\n      <td>0.553364</td>\n      <td>-29.717632</td>\n      <td>1</td>\n      <td>2.172865</td>\n      <td>5.061636</td>\n      <td>-0.153052</td>\n      <td>1.478772</td>\n      <td>2</td>\n      <td>1023</td>\n      <td>3222243327</td>\n      <td>1017855</td>\n      <td>1</td>\n      <td>-13</td>\n      <td>443.0</td>\n    </tr>\n    <tr>\n      <th>1</th>\n      <td>62.192780</td>\n      <td>-0.306799</td>\n      <td>5.672762</td>\n      <td>-61.932674</td>\n      <td>-1</td>\n      <td>5.290217</td>\n      <td>-0.514271</td>\n      <td>0.871412</td>\n      <td>1.478772</td>\n      <td>3</td>\n      <td>511</td>\n      <td>2151718911</td>\n      <td>4267775</td>\n      <td>2</td>\n      <td>13</td>\n      <td>443.0</td>\n    </tr>\n    <tr>\n      <th>4</th>\n      <th>0</th>\n      <td>39.678032</td>\n      <td>-1.747107</td>\n      <td>-0.889441</td>\n      <td>-39.629425</td>\n      <td>-1</td>\n      <td>2.852030</td>\n      <td>4.586931</td>\n      <td>-0.229292</td>\n      <td>2.568538</td>\n      <td>3</td>\n      <td>1005</td>\n      <td>2152846591</td>\n      <td>5352447</td>\n      <td>2</td>\n      <td>13</td>\n      <td>443.0</td>\n    </tr>\n    <tr>\n      <th>...</th>\n      <th>...</th>\n      <td>...</td>\n      <td>...</td>\n      <td>...</td>\n      <td>...</td>\n      <td>...</td>\n      <td>...</td>\n      <td>...</td>\n      <td>...</td>\n      <td>...</td>\n      <td>...</td>\n      <td>...</td>\n      <td>...</td>\n      <td>...</td>\n      <td>...</td>\n      <td>...</td>\n      <td>...</td>\n    </tr>\n    <tr>\n      <th>10503</th>\n      <th>1</th>\n      <td>7.285460</td>\n      <td>-0.159986</td>\n      <td>-0.690566</td>\n      <td>-7.250123</td>\n      <td>-1</td>\n      <td>5.615806</td>\n      <td>13.487918</td>\n      <td>-1.746244</td>\n      <td>-2.902555</td>\n      <td>2</td>\n      <td>1021</td>\n      <td>1078147071</td>\n      <td>4405247</td>\n      <td>2</td>\n      <td>13</td>\n      <td>443.0</td>\n    </tr>\n    <tr>\n      <th rowspan=\"2\" valign=\"top\">10504</th>\n      <th>0</th>\n      <td>46.938534</td>\n      <td>-2.178899</td>\n      <td>-1.055878</td>\n      <td>-46.875923</td>\n      <td>1</td>\n      <td>2.865243</td>\n      <td>-0.473000</td>\n      <td>-1.893596</td>\n      <td>-9.630126</td>\n      <td>2</td>\n      <td>1005</td>\n      <td>3226658047</td>\n      <td>25855</td>\n      <td>1</td>\n      <td>-13</td>\n      <td>443.0</td>\n    </tr>\n    <tr>\n      <th>1</th>\n      <td>38.480614</td>\n      <td>0.760645</td>\n      <td>1.353687</td>\n      <td>-38.449127</td>\n      <td>-1</td>\n      <td>2.312712</td>\n      <td>-2.599837</td>\n      <td>1.752227</td>\n      <td>-9.630126</td>\n      <td>2</td>\n      <td>1023</td>\n      <td>1074746623</td>\n      <td>985087</td>\n      <td>2</td>\n      <td>13</td>\n      <td>443.0</td>\n    </tr>\n    <tr>\n      <th rowspan=\"2\" valign=\"top\">10505</th>\n      <th>0</th>\n      <td>15.705569</td>\n      <td>-0.910367</td>\n      <td>-0.438091</td>\n      <td>-15.672685</td>\n      <td>-1</td>\n      <td>3.564234</td>\n      <td>0.008076</td>\n      <td>-6.558584</td>\n      <td>-9.264464</td>\n      <td>2</td>\n      <td>943</td>\n      <td>1079061503</td>\n      <td>5319679</td>\n      <td>2</td>\n      <td>13</td>\n      <td>443.0</td>\n    </tr>\n    <tr>\n      <th>1</th>\n      <td>57.897934</td>\n      <td>0.045639</td>\n      <td>3.358790</td>\n      <td>-57.800312</td>\n      <td>1</td>\n      <td>3.321338</td>\n      <td>-0.274137</td>\n      <td>-0.597027</td>\n      <td>-9.264464</td>\n      <td>3</td>\n      <td>927</td>\n      <td>3221621759</td>\n      <td>396287</td>\n      <td>1</td>\n      <td>-13</td>\n      <td>443.0</td>\n    </tr>\n  </tbody>\n</table>\n<p>14036 rows × 16 columns</p>\n</div>"
     },
     "execution_count": 66,
     "metadata": {},
     "output_type": "execute_result"
    }
   ],
   "source": [
    "df_JPsi"
   ],
   "metadata": {
    "collapsed": false,
    "pycharm": {
     "name": "#%%\n"
    }
   }
  },
  {
   "cell_type": "code",
   "execution_count": 10,
   "outputs": [
    {
     "name": "stdout",
     "output_type": "stream",
     "text": [
      "\n",
      "Cut threshold [...] \n",
      "This cut rejects 44.66 % of the statistics\n",
      "\n",
      "Cut eta [...] \n",
      "This cut rejects 8.7 % of the statistics\n",
      "\n",
      "Cut pDCA [...] \n",
      " \n",
      "This cut rejects 6.37 % of the statistics\n",
      "Max number of possible muons pairs : 3321\n"
     ]
    }
   ],
   "source": [
    "df_JPsi_f = Filter.cut_tracks(df_JPsi)"
   ],
   "metadata": {
    "collapsed": false,
    "pycharm": {
     "name": "#%%\n"
    }
   }
  },
  {
   "cell_type": "code",
   "execution_count": 68,
   "outputs": [
    {
     "data": {
      "text/plain": "                        E        Px        Py         Pz  Charge  thetaAbs  \\\nentry subentry                                                               \n7     0         22.498255 -1.451546 -0.491136 -22.445761       1  3.912310   \n      1         30.130026  0.492095  1.976868 -30.060890      -1  3.886142   \n9     0         20.324820 -0.783968 -0.365113 -20.306137      -1  2.457329   \n      1         41.948536  2.340700 -2.749631 -41.792690       1  4.945306   \n13    0         41.678577 -1.675286 -1.165138 -41.628460      -1  2.763079   \n...                   ...       ...       ...        ...     ...       ...   \n10498 1         23.908455 -2.456419  1.583935 -23.728889      -1  6.945457   \n10502 0         12.226064 -0.923204  1.044461 -12.145874      -1  6.541676   \n      1         44.328194 -1.239963 -3.183386 -44.196224       1  4.362183   \n10504 0         46.938534 -2.178899 -1.055878 -46.875923       1  2.865243   \n      1         38.480614  0.760645  1.353687 -38.449127      -1  2.312712   \n\n                    xDCA      yDCA      zDCA  matchedTrgThreshold  ...  \\\nentry subentry                                                     ...   \n7     0         1.990693  4.311614 -3.687359                    2  ...   \n      1        -1.066869  1.094012 -3.687359                    2  ...   \n9     0         5.440750 -7.650695  2.036510                    2  ...   \n      1        -2.181740 -0.594950  2.036510                    2  ...   \n13    0        -2.289929  3.277928 -1.101494                    2  ...   \n...                  ...       ...       ...                  ...  ...   \n10498 1        -1.292333  4.276529 -3.059011                    2  ...   \n10502 0         1.527512  1.139989 -2.120121                    2  ...   \n      1         0.510287  0.269745 -2.120121                    2  ...   \n10504 0        -0.473000 -1.893596 -9.630126                    2  ...   \n      1        -2.599837  1.752227 -9.630126                    2  ...   \n\n                MTRHitMapTrg  MTRHitMapTrk  MCLabel  MCPDGCode  \\\nentry subentry                                                   \n7     0           3227297791       6072319        1        -13   \n      1           1074091263        329727        2         13   \n9     0           1079137535       5385215        2         13   \n      1           3222685559       1460087        1        -13   \n13    0           1078383871       4631295        2         13   \n...                      ...           ...      ...        ...   \n10498 1           1080415487       6661119        2         13   \n10502 0           1079923967       6169343        2         13   \n      1           3225791487       4566015        1        -13   \n10504 0           3226658047         25855        1        -13   \n      1           1074746623        985087        2         13   \n\n                GenMotherPDGCode       eta          P        DCA        pDCA  \\\nentry subentry                                                                 \n7     0                    443.0 -3.378588  20.098008   6.012444  120.838151   \n      1                    443.0 -3.385945  27.729840   3.991452  110.682325   \n9     0                    443.0 -3.849758  17.324545   9.606366  166.425923   \n      1                    443.0 -3.143744  39.548401   3.043243  120.355409   \n13    0                    443.0 -3.709278  38.678445   4.147514  160.419412   \n...                          ...       ...        ...        ...         ...   \n10498 1                    443.0 -2.791065  21.508221   5.414460  116.455395   \n10502 0                    443.0 -2.861244   9.825607   2.850927   28.012084   \n      1                    443.0 -3.254704  41.928069   2.197287   92.128002   \n10504 0                    443.0 -3.657032  43.938413   9.825923  431.735465   \n      1                    443.0 -3.902859  35.480468  10.127625  359.332863   \n\n                  s_pxDCA  \nentry subentry             \n7     0         56.427283  \n      1         57.475495  \n9     0         82.901561  \n      1         59.223773  \n13    0         86.807351  \n...                   ...  \n10498 1         56.615986  \n10502 0         55.123862  \n      1         59.593180  \n10504 0         87.820224  \n      1         86.200966  \n\n[8336 rows x 21 columns]",
      "text/html": "<div>\n<style scoped>\n    .dataframe tbody tr th:only-of-type {\n        vertical-align: middle;\n    }\n\n    .dataframe tbody tr th {\n        vertical-align: top;\n    }\n\n    .dataframe thead th {\n        text-align: right;\n    }\n</style>\n<table border=\"1\" class=\"dataframe\">\n  <thead>\n    <tr style=\"text-align: right;\">\n      <th></th>\n      <th></th>\n      <th>E</th>\n      <th>Px</th>\n      <th>Py</th>\n      <th>Pz</th>\n      <th>Charge</th>\n      <th>thetaAbs</th>\n      <th>xDCA</th>\n      <th>yDCA</th>\n      <th>zDCA</th>\n      <th>matchedTrgThreshold</th>\n      <th>...</th>\n      <th>MTRHitMapTrg</th>\n      <th>MTRHitMapTrk</th>\n      <th>MCLabel</th>\n      <th>MCPDGCode</th>\n      <th>GenMotherPDGCode</th>\n      <th>eta</th>\n      <th>P</th>\n      <th>DCA</th>\n      <th>pDCA</th>\n      <th>s_pxDCA</th>\n    </tr>\n    <tr>\n      <th>entry</th>\n      <th>subentry</th>\n      <th></th>\n      <th></th>\n      <th></th>\n      <th></th>\n      <th></th>\n      <th></th>\n      <th></th>\n      <th></th>\n      <th></th>\n      <th></th>\n      <th></th>\n      <th></th>\n      <th></th>\n      <th></th>\n      <th></th>\n      <th></th>\n      <th></th>\n      <th></th>\n      <th></th>\n      <th></th>\n      <th></th>\n    </tr>\n  </thead>\n  <tbody>\n    <tr>\n      <th rowspan=\"2\" valign=\"top\">7</th>\n      <th>0</th>\n      <td>22.498255</td>\n      <td>-1.451546</td>\n      <td>-0.491136</td>\n      <td>-22.445761</td>\n      <td>1</td>\n      <td>3.912310</td>\n      <td>1.990693</td>\n      <td>4.311614</td>\n      <td>-3.687359</td>\n      <td>2</td>\n      <td>...</td>\n      <td>3227297791</td>\n      <td>6072319</td>\n      <td>1</td>\n      <td>-13</td>\n      <td>443.0</td>\n      <td>-3.378588</td>\n      <td>20.098008</td>\n      <td>6.012444</td>\n      <td>120.838151</td>\n      <td>56.427283</td>\n    </tr>\n    <tr>\n      <th>1</th>\n      <td>30.130026</td>\n      <td>0.492095</td>\n      <td>1.976868</td>\n      <td>-30.060890</td>\n      <td>-1</td>\n      <td>3.886142</td>\n      <td>-1.066869</td>\n      <td>1.094012</td>\n      <td>-3.687359</td>\n      <td>2</td>\n      <td>...</td>\n      <td>1074091263</td>\n      <td>329727</td>\n      <td>2</td>\n      <td>13</td>\n      <td>443.0</td>\n      <td>-3.385945</td>\n      <td>27.729840</td>\n      <td>3.991452</td>\n      <td>110.682325</td>\n      <td>57.475495</td>\n    </tr>\n    <tr>\n      <th rowspan=\"2\" valign=\"top\">9</th>\n      <th>0</th>\n      <td>20.324820</td>\n      <td>-0.783968</td>\n      <td>-0.365113</td>\n      <td>-20.306137</td>\n      <td>-1</td>\n      <td>2.457329</td>\n      <td>5.440750</td>\n      <td>-7.650695</td>\n      <td>2.036510</td>\n      <td>2</td>\n      <td>...</td>\n      <td>1079137535</td>\n      <td>5385215</td>\n      <td>2</td>\n      <td>13</td>\n      <td>443.0</td>\n      <td>-3.849758</td>\n      <td>17.324545</td>\n      <td>9.606366</td>\n      <td>166.425923</td>\n      <td>82.901561</td>\n    </tr>\n    <tr>\n      <th>1</th>\n      <td>41.948536</td>\n      <td>2.340700</td>\n      <td>-2.749631</td>\n      <td>-41.792690</td>\n      <td>1</td>\n      <td>4.945306</td>\n      <td>-2.181740</td>\n      <td>-0.594950</td>\n      <td>2.036510</td>\n      <td>2</td>\n      <td>...</td>\n      <td>3222685559</td>\n      <td>1460087</td>\n      <td>1</td>\n      <td>-13</td>\n      <td>443.0</td>\n      <td>-3.143744</td>\n      <td>39.548401</td>\n      <td>3.043243</td>\n      <td>120.355409</td>\n      <td>59.223773</td>\n    </tr>\n    <tr>\n      <th>13</th>\n      <th>0</th>\n      <td>41.678577</td>\n      <td>-1.675286</td>\n      <td>-1.165138</td>\n      <td>-41.628460</td>\n      <td>-1</td>\n      <td>2.763079</td>\n      <td>-2.289929</td>\n      <td>3.277928</td>\n      <td>-1.101494</td>\n      <td>2</td>\n      <td>...</td>\n      <td>1078383871</td>\n      <td>4631295</td>\n      <td>2</td>\n      <td>13</td>\n      <td>443.0</td>\n      <td>-3.709278</td>\n      <td>38.678445</td>\n      <td>4.147514</td>\n      <td>160.419412</td>\n      <td>86.807351</td>\n    </tr>\n    <tr>\n      <th>...</th>\n      <th>...</th>\n      <td>...</td>\n      <td>...</td>\n      <td>...</td>\n      <td>...</td>\n      <td>...</td>\n      <td>...</td>\n      <td>...</td>\n      <td>...</td>\n      <td>...</td>\n      <td>...</td>\n      <td>...</td>\n      <td>...</td>\n      <td>...</td>\n      <td>...</td>\n      <td>...</td>\n      <td>...</td>\n      <td>...</td>\n      <td>...</td>\n      <td>...</td>\n      <td>...</td>\n      <td>...</td>\n    </tr>\n    <tr>\n      <th>10498</th>\n      <th>1</th>\n      <td>23.908455</td>\n      <td>-2.456419</td>\n      <td>1.583935</td>\n      <td>-23.728889</td>\n      <td>-1</td>\n      <td>6.945457</td>\n      <td>-1.292333</td>\n      <td>4.276529</td>\n      <td>-3.059011</td>\n      <td>2</td>\n      <td>...</td>\n      <td>1080415487</td>\n      <td>6661119</td>\n      <td>2</td>\n      <td>13</td>\n      <td>443.0</td>\n      <td>-2.791065</td>\n      <td>21.508221</td>\n      <td>5.414460</td>\n      <td>116.455395</td>\n      <td>56.615986</td>\n    </tr>\n    <tr>\n      <th rowspan=\"2\" valign=\"top\">10502</th>\n      <th>0</th>\n      <td>12.226064</td>\n      <td>-0.923204</td>\n      <td>1.044461</td>\n      <td>-12.145874</td>\n      <td>-1</td>\n      <td>6.541676</td>\n      <td>1.527512</td>\n      <td>1.139989</td>\n      <td>-2.120121</td>\n      <td>2</td>\n      <td>...</td>\n      <td>1079923967</td>\n      <td>6169343</td>\n      <td>2</td>\n      <td>13</td>\n      <td>443.0</td>\n      <td>-2.861244</td>\n      <td>9.825607</td>\n      <td>2.850927</td>\n      <td>28.012084</td>\n      <td>55.123862</td>\n    </tr>\n    <tr>\n      <th>1</th>\n      <td>44.328194</td>\n      <td>-1.239963</td>\n      <td>-3.183386</td>\n      <td>-44.196224</td>\n      <td>1</td>\n      <td>4.362183</td>\n      <td>0.510287</td>\n      <td>0.269745</td>\n      <td>-2.120121</td>\n      <td>2</td>\n      <td>...</td>\n      <td>3225791487</td>\n      <td>4566015</td>\n      <td>1</td>\n      <td>-13</td>\n      <td>443.0</td>\n      <td>-3.254704</td>\n      <td>41.928069</td>\n      <td>2.197287</td>\n      <td>92.128002</td>\n      <td>59.593180</td>\n    </tr>\n    <tr>\n      <th rowspan=\"2\" valign=\"top\">10504</th>\n      <th>0</th>\n      <td>46.938534</td>\n      <td>-2.178899</td>\n      <td>-1.055878</td>\n      <td>-46.875923</td>\n      <td>1</td>\n      <td>2.865243</td>\n      <td>-0.473000</td>\n      <td>-1.893596</td>\n      <td>-9.630126</td>\n      <td>2</td>\n      <td>...</td>\n      <td>3226658047</td>\n      <td>25855</td>\n      <td>1</td>\n      <td>-13</td>\n      <td>443.0</td>\n      <td>-3.657032</td>\n      <td>43.938413</td>\n      <td>9.825923</td>\n      <td>431.735465</td>\n      <td>87.820224</td>\n    </tr>\n    <tr>\n      <th>1</th>\n      <td>38.480614</td>\n      <td>0.760645</td>\n      <td>1.353687</td>\n      <td>-38.449127</td>\n      <td>-1</td>\n      <td>2.312712</td>\n      <td>-2.599837</td>\n      <td>1.752227</td>\n      <td>-9.630126</td>\n      <td>2</td>\n      <td>...</td>\n      <td>1074746623</td>\n      <td>985087</td>\n      <td>2</td>\n      <td>13</td>\n      <td>443.0</td>\n      <td>-3.902859</td>\n      <td>35.480468</td>\n      <td>10.127625</td>\n      <td>359.332863</td>\n      <td>86.200966</td>\n    </tr>\n  </tbody>\n</table>\n<p>8336 rows × 21 columns</p>\n</div>"
     },
     "execution_count": 68,
     "metadata": {},
     "output_type": "execute_result"
    }
   ],
   "source": [
    "df_JPsi_f"
   ],
   "metadata": {
    "collapsed": false,
    "pycharm": {
     "name": "#%%\n"
    }
   }
  },
  {
   "cell_type": "code",
   "execution_count": 11,
   "outputs": [
    {
     "name": "stderr",
     "output_type": "stream",
     "text": [
      "100%|██████████| 3321/3321 [00:03<00:00, 1022.69it/s]"
     ]
    },
    {
     "name": "stdout",
     "output_type": "stream",
     "text": [
      "Execution time : 4.47\n"
     ]
    },
    {
     "name": "stderr",
     "output_type": "stream",
     "text": [
      "\n"
     ]
    }
   ],
   "source": [
    "df_MC_di_muons_f = de.di_muons_dataframe(df_JPsi_f)"
   ],
   "metadata": {
    "collapsed": false,
    "pycharm": {
     "name": "#%%\n"
    }
   }
  },
  {
   "cell_type": "code",
   "execution_count": 12,
   "outputs": [],
   "source": [
    "df_MC_di_muons_f['M_inv'] = df_MC_di_muons.apply(lambda x: km.inv_mass(x['E1'], x['E2'], x['P1'], x['P2']), axis=1)"
   ],
   "metadata": {
    "collapsed": false,
    "pycharm": {
     "name": "#%%\n"
    }
   }
  },
  {
   "cell_type": "code",
   "execution_count": 13,
   "outputs": [
    {
     "data": {
      "text/plain": "<Figure size 864x576 with 1 Axes>",
      "image/png": "[encoded data removed]"
     },
     "metadata": {
      "needs_background": "light"
     },
     "output_type": "display_data"
    }
   ],
   "source": [
    "h = Filter.plot_M_inv(df_MC_di_muons_f['M_inv'], run_number)"
   ],
   "metadata": {
    "collapsed": false,
    "pycharm": {
     "name": "#%%\n"
    }
   }
  },
  {
   "cell_type": "code",
   "execution_count": 77,
   "outputs": [
    {
     "data": {
      "text/plain": "<Figure size 864x576 with 1 Axes>",
      "image/png": "[encoded data removed]"
     },
     "metadata": {
      "needs_background": "light"
     },
     "output_type": "display_data"
    }
   ],
   "source": [
    "h = Filter.plot_M_inv(df_MC_di_muons['M_inv'], run_number)"
   ],
   "metadata": {
    "collapsed": false,
    "pycharm": {
     "name": "#%%\n"
    }
   }
  },
  {
   "cell_type": "code",
   "execution_count": 78,
   "outputs": [
    {
     "data": {
      "text/plain": "                        E        Px        Py         Pz  Charge  thetaAbs  \\\nentry subentry                                                               \n2     0         10.719228 -1.003180  0.136138 -10.670791       1  5.282767   \n      1         51.090294  2.801551 -0.029622 -51.013306      -1  3.107426   \n3     0         29.739111  0.979648  0.553364 -29.717632       1  2.172865   \n      1         62.192780 -0.306799  5.672762 -61.932674      -1  5.290217   \n4     0         39.678032 -1.747107 -0.889441 -39.629425      -1  2.852030   \n...                   ...       ...       ...        ...     ...       ...   \n10503 1          7.285460 -0.159986 -0.690566  -7.250123      -1  5.615806   \n10504 0         46.938534 -2.178899 -1.055878 -46.875923       1  2.865243   \n      1         38.480614  0.760645  1.353687 -38.449127      -1  2.312712   \n10505 0         15.705569 -0.910367 -0.438091 -15.672685      -1  3.564234   \n      1         57.897934  0.045639  3.358790 -57.800312       1  3.321338   \n\n                     xDCA      yDCA      zDCA  matchedTrgThreshold  \\\nentry subentry                                                       \n2     0         -3.709304 -5.265104 -6.227890                    2   \n      1          0.376798 -1.192809 -6.227890                    2   \n3     0          5.061636 -0.153052  1.478772                    2   \n      1         -0.514271  0.871412  1.478772                    3   \n4     0          4.586931 -0.229292  2.568538                    3   \n...                   ...       ...       ...                  ...   \n10503 1         13.487918 -1.746244 -2.902555                    2   \n10504 0         -0.473000 -1.893596 -9.630126                    2   \n      1         -2.599837  1.752227 -9.630126                    2   \n10505 0          0.008076 -6.558584 -9.264464                    2   \n      1         -0.274137 -0.597027 -9.264464                    3   \n\n                MCHClusterMap  MTRHitMapTrg  MTRHitMapTrk  MCLabel  MCPDGCode  \\\nentry subentry                                                                  \n2     0                   991    3227426815       6201343        1        -13   \n      1                  1007    1075369215       1606655        2         13   \n3     0                  1023    3222243327       1017855        1        -13   \n      1                   511    2151718911       4267775        2         13   \n4     0                  1005    2152846591       5352447        2         13   \n...                       ...           ...           ...      ...        ...   \n10503 1                  1021    1078147071       4405247        2         13   \n10504 0                  1005    3226658047         25855        1        -13   \n      1                  1023    1074746623        985087        2         13   \n10505 0                   943    1079061503       5319679        2         13   \n      1                   927    3221621759        396287        1        -13   \n\n                GenMotherPDGCode  \nentry subentry                    \n2     0                    443.0  \n      1                    443.0  \n3     0                    443.0  \n      1                    443.0  \n4     0                    443.0  \n...                          ...  \n10503 1                    443.0  \n10504 0                    443.0  \n      1                    443.0  \n10505 0                    443.0  \n      1                    443.0  \n\n[14036 rows x 16 columns]",
      "text/html": "<div>\n<style scoped>\n    .dataframe tbody tr th:only-of-type {\n        vertical-align: middle;\n    }\n\n    .dataframe tbody tr th {\n        vertical-align: top;\n    }\n\n    .dataframe thead th {\n        text-align: right;\n    }\n</style>\n<table border=\"1\" class=\"dataframe\">\n  <thead>\n    <tr style=\"text-align: right;\">\n      <th></th>\n      <th></th>\n      <th>E</th>\n      <th>Px</th>\n      <th>Py</th>\n      <th>Pz</th>\n      <th>Charge</th>\n      <th>thetaAbs</th>\n      <th>xDCA</th>\n      <th>yDCA</th>\n      <th>zDCA</th>\n      <th>matchedTrgThreshold</th>\n      <th>MCHClusterMap</th>\n      <th>MTRHitMapTrg</th>\n      <th>MTRHitMapTrk</th>\n      <th>MCLabel</th>\n      <th>MCPDGCode</th>\n      <th>GenMotherPDGCode</th>\n    </tr>\n    <tr>\n      <th>entry</th>\n      <th>subentry</th>\n      <th></th>\n      <th></th>\n      <th></th>\n      <th></th>\n      <th></th>\n      <th></th>\n      <th></th>\n      <th></th>\n      <th></th>\n      <th></th>\n      <th></th>\n      <th></th>\n      <th></th>\n      <th></th>\n      <th></th>\n      <th></th>\n    </tr>\n  </thead>\n  <tbody>\n    <tr>\n      <th rowspan=\"2\" valign=\"top\">2</th>\n      <th>0</th>\n      <td>10.719228</td>\n      <td>-1.003180</td>\n      <td>0.136138</td>\n      <td>-10.670791</td>\n      <td>1</td>\n      <td>5.282767</td>\n      <td>-3.709304</td>\n      <td>-5.265104</td>\n      <td>-6.227890</td>\n      <td>2</td>\n      <td>991</td>\n      <td>3227426815</td>\n      <td>6201343</td>\n      <td>1</td>\n      <td>-13</td>\n      <td>443.0</td>\n    </tr>\n    <tr>\n      <th>1</th>\n      <td>51.090294</td>\n      <td>2.801551</td>\n      <td>-0.029622</td>\n      <td>-51.013306</td>\n      <td>-1</td>\n      <td>3.107426</td>\n      <td>0.376798</td>\n      <td>-1.192809</td>\n      <td>-6.227890</td>\n      <td>2</td>\n      <td>1007</td>\n      <td>1075369215</td>\n      <td>1606655</td>\n      <td>2</td>\n      <td>13</td>\n      <td>443.0</td>\n    </tr>\n    <tr>\n      <th rowspan=\"2\" valign=\"top\">3</th>\n      <th>0</th>\n      <td>29.739111</td>\n      <td>0.979648</td>\n      <td>0.553364</td>\n      <td>-29.717632</td>\n      <td>1</td>\n      <td>2.172865</td>\n      <td>5.061636</td>\n      <td>-0.153052</td>\n      <td>1.478772</td>\n      <td>2</td>\n      <td>1023</td>\n      <td>3222243327</td>\n      <td>1017855</td>\n      <td>1</td>\n      <td>-13</td>\n      <td>443.0</td>\n    </tr>\n    <tr>\n      <th>1</th>\n      <td>62.192780</td>\n      <td>-0.306799</td>\n      <td>5.672762</td>\n      <td>-61.932674</td>\n      <td>-1</td>\n      <td>5.290217</td>\n      <td>-0.514271</td>\n      <td>0.871412</td>\n      <td>1.478772</td>\n      <td>3</td>\n      <td>511</td>\n      <td>2151718911</td>\n      <td>4267775</td>\n      <td>2</td>\n      <td>13</td>\n      <td>443.0</td>\n    </tr>\n    <tr>\n      <th>4</th>\n      <th>0</th>\n      <td>39.678032</td>\n      <td>-1.747107</td>\n      <td>-0.889441</td>\n      <td>-39.629425</td>\n      <td>-1</td>\n      <td>2.852030</td>\n      <td>4.586931</td>\n      <td>-0.229292</td>\n      <td>2.568538</td>\n      <td>3</td>\n      <td>1005</td>\n      <td>2152846591</td>\n      <td>5352447</td>\n      <td>2</td>\n      <td>13</td>\n      <td>443.0</td>\n    </tr>\n    <tr>\n      <th>...</th>\n      <th>...</th>\n      <td>...</td>\n      <td>...</td>\n      <td>...</td>\n      <td>...</td>\n      <td>...</td>\n      <td>...</td>\n      <td>...</td>\n      <td>...</td>\n      <td>...</td>\n      <td>...</td>\n      <td>...</td>\n      <td>...</td>\n      <td>...</td>\n      <td>...</td>\n      <td>...</td>\n      <td>...</td>\n    </tr>\n    <tr>\n      <th>10503</th>\n      <th>1</th>\n      <td>7.285460</td>\n      <td>-0.159986</td>\n      <td>-0.690566</td>\n      <td>-7.250123</td>\n      <td>-1</td>\n      <td>5.615806</td>\n      <td>13.487918</td>\n      <td>-1.746244</td>\n      <td>-2.902555</td>\n      <td>2</td>\n      <td>1021</td>\n      <td>1078147071</td>\n      <td>4405247</td>\n      <td>2</td>\n      <td>13</td>\n      <td>443.0</td>\n    </tr>\n    <tr>\n      <th rowspan=\"2\" valign=\"top\">10504</th>\n      <th>0</th>\n      <td>46.938534</td>\n      <td>-2.178899</td>\n      <td>-1.055878</td>\n      <td>-46.875923</td>\n      <td>1</td>\n      <td>2.865243</td>\n      <td>-0.473000</td>\n      <td>-1.893596</td>\n      <td>-9.630126</td>\n      <td>2</td>\n      <td>1005</td>\n      <td>3226658047</td>\n      <td>25855</td>\n      <td>1</td>\n      <td>-13</td>\n      <td>443.0</td>\n    </tr>\n    <tr>\n      <th>1</th>\n      <td>38.480614</td>\n      <td>0.760645</td>\n      <td>1.353687</td>\n      <td>-38.449127</td>\n      <td>-1</td>\n      <td>2.312712</td>\n      <td>-2.599837</td>\n      <td>1.752227</td>\n      <td>-9.630126</td>\n      <td>2</td>\n      <td>1023</td>\n      <td>1074746623</td>\n      <td>985087</td>\n      <td>2</td>\n      <td>13</td>\n      <td>443.0</td>\n    </tr>\n    <tr>\n      <th rowspan=\"2\" valign=\"top\">10505</th>\n      <th>0</th>\n      <td>15.705569</td>\n      <td>-0.910367</td>\n      <td>-0.438091</td>\n      <td>-15.672685</td>\n      <td>-1</td>\n      <td>3.564234</td>\n      <td>0.008076</td>\n      <td>-6.558584</td>\n      <td>-9.264464</td>\n      <td>2</td>\n      <td>943</td>\n      <td>1079061503</td>\n      <td>5319679</td>\n      <td>2</td>\n      <td>13</td>\n      <td>443.0</td>\n    </tr>\n    <tr>\n      <th>1</th>\n      <td>57.897934</td>\n      <td>0.045639</td>\n      <td>3.358790</td>\n      <td>-57.800312</td>\n      <td>1</td>\n      <td>3.321338</td>\n      <td>-0.274137</td>\n      <td>-0.597027</td>\n      <td>-9.264464</td>\n      <td>3</td>\n      <td>927</td>\n      <td>3221621759</td>\n      <td>396287</td>\n      <td>1</td>\n      <td>-13</td>\n      <td>443.0</td>\n    </tr>\n  </tbody>\n</table>\n<p>14036 rows × 16 columns</p>\n</div>"
     },
     "execution_count": 78,
     "metadata": {},
     "output_type": "execute_result"
    }
   ],
   "source": [
    "df_JPsi"
   ],
   "metadata": {
    "collapsed": false,
    "pycharm": {
     "name": "#%%\n"
    }
   }
  },
  {
   "cell_type": "code",
   "execution_count": 80,
   "outputs": [
    {
     "data": {
      "text/plain": "[{'GenE': 16.9881534576416,\n  'GenPx': -2.2790162563323975,\n  'GenPy': -1.1857889890670776,\n  'GenPz': -16.792444229125977,\n  'GenLabel': 1,\n  'GenMotherPDGCode': 443},\n {'GenE': 23.36610984802246,\n  'GenPx': 0.48184284567832947,\n  'GenPy': -1.56119966506958,\n  'GenPz': -23.308677673339844,\n  'GenLabel': 2,\n  'GenMotherPDGCode': 443}]"
     },
     "execution_count": 80,
     "metadata": {},
     "output_type": "execute_result"
    }
   ],
   "source": [
    "gen_events['Muon'][2].to_list()"
   ],
   "metadata": {
    "collapsed": false,
    "pycharm": {
     "name": "#%%\n"
    }
   }
  },
  {
   "cell_type": "code",
   "execution_count": 83,
   "outputs": [
    {
     "data": {
      "text/plain": "                     GenE     GenPx     GenPy      GenPz  GenLabel  \\\nentry subentry                                                       \n0     0          4.670792 -1.263611  0.183771  -4.491620         1   \n      1         17.771795  2.310422  0.000437 -17.620655         2   \n1     0         11.439411  2.532304 -0.132445 -11.154320         1   \n      1         22.576473  0.738930 -0.901150 -22.546127         2   \n2     0         16.988153 -2.279016 -1.185789 -16.792444         1   \n...                   ...       ...       ...        ...       ...   \n49997 1          9.841384  0.977022 -0.107969  -9.791600         2   \n49998 0         20.012403 -1.068127  1.228619 -19.945795         1   \n      1          2.630139  0.108675 -0.914873  -2.461233         2   \n49999 0         58.068161 -0.019710  3.398420 -57.968529         1   \n      1         15.795700 -0.910794 -0.406150 -15.763835         2   \n\n                GenMotherPDGCode  \nentry subentry                    \n0     0                   100443  \n      1                   100443  \n1     0                      443  \n      1                      443  \n2     0                      443  \n...                          ...  \n49997 1                   100443  \n49998 0                      443  \n      1                      443  \n49999 0                      443  \n      1                      443  \n\n[100000 rows x 6 columns]",
      "text/html": "<div>\n<style scoped>\n    .dataframe tbody tr th:only-of-type {\n        vertical-align: middle;\n    }\n\n    .dataframe tbody tr th {\n        vertical-align: top;\n    }\n\n    .dataframe thead th {\n        text-align: right;\n    }\n</style>\n<table border=\"1\" class=\"dataframe\">\n  <thead>\n    <tr style=\"text-align: right;\">\n      <th></th>\n      <th></th>\n      <th>GenE</th>\n      <th>GenPx</th>\n      <th>GenPy</th>\n      <th>GenPz</th>\n      <th>GenLabel</th>\n      <th>GenMotherPDGCode</th>\n    </tr>\n    <tr>\n      <th>entry</th>\n      <th>subentry</th>\n      <th></th>\n      <th></th>\n      <th></th>\n      <th></th>\n      <th></th>\n      <th></th>\n    </tr>\n  </thead>\n  <tbody>\n    <tr>\n      <th rowspan=\"2\" valign=\"top\">0</th>\n      <th>0</th>\n      <td>4.670792</td>\n      <td>-1.263611</td>\n      <td>0.183771</td>\n      <td>-4.491620</td>\n      <td>1</td>\n      <td>100443</td>\n    </tr>\n    <tr>\n      <th>1</th>\n      <td>17.771795</td>\n      <td>2.310422</td>\n      <td>0.000437</td>\n      <td>-17.620655</td>\n      <td>2</td>\n      <td>100443</td>\n    </tr>\n    <tr>\n      <th rowspan=\"2\" valign=\"top\">1</th>\n      <th>0</th>\n      <td>11.439411</td>\n      <td>2.532304</td>\n      <td>-0.132445</td>\n      <td>-11.154320</td>\n      <td>1</td>\n      <td>443</td>\n    </tr>\n    <tr>\n      <th>1</th>\n      <td>22.576473</td>\n      <td>0.738930</td>\n      <td>-0.901150</td>\n      <td>-22.546127</td>\n      <td>2</td>\n      <td>443</td>\n    </tr>\n    <tr>\n      <th>2</th>\n      <th>0</th>\n      <td>16.988153</td>\n      <td>-2.279016</td>\n      <td>-1.185789</td>\n      <td>-16.792444</td>\n      <td>1</td>\n      <td>443</td>\n    </tr>\n    <tr>\n      <th>...</th>\n      <th>...</th>\n      <td>...</td>\n      <td>...</td>\n      <td>...</td>\n      <td>...</td>\n      <td>...</td>\n      <td>...</td>\n    </tr>\n    <tr>\n      <th>49997</th>\n      <th>1</th>\n      <td>9.841384</td>\n      <td>0.977022</td>\n      <td>-0.107969</td>\n      <td>-9.791600</td>\n      <td>2</td>\n      <td>100443</td>\n    </tr>\n    <tr>\n      <th rowspan=\"2\" valign=\"top\">49998</th>\n      <th>0</th>\n      <td>20.012403</td>\n      <td>-1.068127</td>\n      <td>1.228619</td>\n      <td>-19.945795</td>\n      <td>1</td>\n      <td>443</td>\n    </tr>\n    <tr>\n      <th>1</th>\n      <td>2.630139</td>\n      <td>0.108675</td>\n      <td>-0.914873</td>\n      <td>-2.461233</td>\n      <td>2</td>\n      <td>443</td>\n    </tr>\n    <tr>\n      <th rowspan=\"2\" valign=\"top\">49999</th>\n      <th>0</th>\n      <td>58.068161</td>\n      <td>-0.019710</td>\n      <td>3.398420</td>\n      <td>-57.968529</td>\n      <td>1</td>\n      <td>443</td>\n    </tr>\n    <tr>\n      <th>1</th>\n      <td>15.795700</td>\n      <td>-0.910794</td>\n      <td>-0.406150</td>\n      <td>-15.763835</td>\n      <td>2</td>\n      <td>443</td>\n    </tr>\n  </tbody>\n</table>\n<p>100000 rows × 6 columns</p>\n</div>"
     },
     "execution_count": 83,
     "metadata": {},
     "output_type": "execute_result"
    }
   ],
   "source": [
    "ak.to_pandas(gen_events['Muon'])"
   ],
   "metadata": {
    "collapsed": false,
    "pycharm": {
     "name": "#%%\n"
    }
   }
  },
  {
   "cell_type": "code",
   "execution_count": 85,
   "outputs": [],
   "source": [
    "id_JPsi = 443\n",
    "\n",
    "df_gen = ak.to_pandas(gen_events['Muon'])\n",
    "df_events = ak.to_pandas(events['Muon'])\n",
    "\n",
    "# we now have to add the information on the mother particle for each tracks\n",
    "C = Counter(df_events.index.get_level_values(0))\n",
    "\n"
   ],
   "metadata": {
    "collapsed": false,
    "pycharm": {
     "name": "#%%\n"
    }
   }
  },
  {
   "cell_type": "code",
   "execution_count": 86,
   "outputs": [],
   "source": [
    "PDGC_list = []\n",
    "for k, val in C.items():\n",
    "    # for each track, we look at the corresponding event in the dataframe of the generated events\n",
    "    id_gen = df_gen.iloc[k]['GenMotherPDGCode']\n",
    "    for _ in range(val):\n",
    "        PDGC_list.append(id_gen)\n",
    "\n",
    "df_events['GenMotherPDGCode'] = PDGC_list"
   ],
   "metadata": {
    "collapsed": false,
    "pycharm": {
     "name": "#%%\n"
    }
   }
  },
  {
   "cell_type": "code",
   "execution_count": 87,
   "outputs": [
    {
     "data": {
      "text/plain": "                        E        Px        Py         Pz  Charge  thetaAbs  \\\nentry subentry                                                               \n0     0         15.331842 -0.750585  1.422548 -15.246875      -1  6.005761   \n      1         25.402075 -2.197666 -1.526158 -25.260548       1  5.985357   \n1     0         18.248934 -0.205411  1.275412 -18.202845      -1  4.091113   \n      1         21.470314  2.963206  0.560311 -21.257204       1  8.074436   \n2     0         10.719228 -1.003180  0.136138 -10.670791       1  5.282767   \n...                   ...       ...       ...        ...     ...       ...   \n10503 1          7.285460 -0.159986 -0.690566  -7.250123      -1  5.615806   \n10504 0         46.938534 -2.178899 -1.055878 -46.875923       1  2.865243   \n      1         38.480614  0.760645  1.353687 -38.449127      -1  2.312712   \n10505 0         15.705569 -0.910367 -0.438091 -15.672685      -1  3.564234   \n      1         57.897934  0.045639  3.358790 -57.800312       1  3.321338   \n\n                     xDCA      yDCA      zDCA  matchedTrgThreshold  \\\nentry subentry                                                       \n0     0         -3.597257  0.952132 -2.086756                    2   \n      1          0.344791 -0.963024 -2.086756                    3   \n1     0         -1.589270  1.651826  1.285627                    2   \n      1          1.843531  2.199682  1.285627                    3   \n2     0         -3.709304 -5.265104 -6.227890                    2   \n...                   ...       ...       ...                  ...   \n10503 1         13.487918 -1.746244 -2.902555                    2   \n10504 0         -0.473000 -1.893596 -9.630126                    2   \n      1         -2.599837  1.752227 -9.630126                    2   \n10505 0          0.008076 -6.558584 -9.264464                    2   \n      1         -0.274137 -0.597027 -9.264464                    3   \n\n                MCHClusterMap  MTRHitMapTrg  MTRHitMapTrk  MCLabel  MCPDGCode  \\\nentry subentry                                                                  \n0     0                  1023    1079399679       5645311        2         13   \n      1                  1023    1080306431       6564607        1        -13   \n1     0                  1023    1077912575       4170751        2         13   \n      1                   751    2151221247       3737599        1        -13   \n2     0                   991    3227426815       6201343        1        -13   \n...                       ...           ...           ...      ...        ...   \n10503 1                  1021    1078147071       4405247        2         13   \n10504 0                  1005    3226658047         25855        1        -13   \n      1                  1023    1074746623        985087        2         13   \n10505 0                   943    1079061503       5319679        2         13   \n      1                   927    3221621759        396287        1        -13   \n\n                GenMotherPDGCode  \nentry subentry                    \n0     0                 100443.0  \n      1                 100443.0  \n1     0                 100443.0  \n      1                 100443.0  \n2     0                    443.0  \n...                          ...  \n10503 1                    443.0  \n10504 0                    443.0  \n      1                    443.0  \n10505 0                    443.0  \n      1                    443.0  \n\n[21012 rows x 16 columns]",
      "text/html": "<div>\n<style scoped>\n    .dataframe tbody tr th:only-of-type {\n        vertical-align: middle;\n    }\n\n    .dataframe tbody tr th {\n        vertical-align: top;\n    }\n\n    .dataframe thead th {\n        text-align: right;\n    }\n</style>\n<table border=\"1\" class=\"dataframe\">\n  <thead>\n    <tr style=\"text-align: right;\">\n      <th></th>\n      <th></th>\n      <th>E</th>\n      <th>Px</th>\n      <th>Py</th>\n      <th>Pz</th>\n      <th>Charge</th>\n      <th>thetaAbs</th>\n      <th>xDCA</th>\n      <th>yDCA</th>\n      <th>zDCA</th>\n      <th>matchedTrgThreshold</th>\n      <th>MCHClusterMap</th>\n      <th>MTRHitMapTrg</th>\n      <th>MTRHitMapTrk</th>\n      <th>MCLabel</th>\n      <th>MCPDGCode</th>\n      <th>GenMotherPDGCode</th>\n    </tr>\n    <tr>\n      <th>entry</th>\n      <th>subentry</th>\n      <th></th>\n      <th></th>\n      <th></th>\n      <th></th>\n      <th></th>\n      <th></th>\n      <th></th>\n      <th></th>\n      <th></th>\n      <th></th>\n      <th></th>\n      <th></th>\n      <th></th>\n      <th></th>\n      <th></th>\n      <th></th>\n    </tr>\n  </thead>\n  <tbody>\n    <tr>\n      <th rowspan=\"2\" valign=\"top\">0</th>\n      <th>0</th>\n      <td>15.331842</td>\n      <td>-0.750585</td>\n      <td>1.422548</td>\n      <td>-15.246875</td>\n      <td>-1</td>\n      <td>6.005761</td>\n      <td>-3.597257</td>\n      <td>0.952132</td>\n      <td>-2.086756</td>\n      <td>2</td>\n      <td>1023</td>\n      <td>1079399679</td>\n      <td>5645311</td>\n      <td>2</td>\n      <td>13</td>\n      <td>100443.0</td>\n    </tr>\n    <tr>\n      <th>1</th>\n      <td>25.402075</td>\n      <td>-2.197666</td>\n      <td>-1.526158</td>\n      <td>-25.260548</td>\n      <td>1</td>\n      <td>5.985357</td>\n      <td>0.344791</td>\n      <td>-0.963024</td>\n      <td>-2.086756</td>\n      <td>3</td>\n      <td>1023</td>\n      <td>1080306431</td>\n      <td>6564607</td>\n      <td>1</td>\n      <td>-13</td>\n      <td>100443.0</td>\n    </tr>\n    <tr>\n      <th rowspan=\"2\" valign=\"top\">1</th>\n      <th>0</th>\n      <td>18.248934</td>\n      <td>-0.205411</td>\n      <td>1.275412</td>\n      <td>-18.202845</td>\n      <td>-1</td>\n      <td>4.091113</td>\n      <td>-1.589270</td>\n      <td>1.651826</td>\n      <td>1.285627</td>\n      <td>2</td>\n      <td>1023</td>\n      <td>1077912575</td>\n      <td>4170751</td>\n      <td>2</td>\n      <td>13</td>\n      <td>100443.0</td>\n    </tr>\n    <tr>\n      <th>1</th>\n      <td>21.470314</td>\n      <td>2.963206</td>\n      <td>0.560311</td>\n      <td>-21.257204</td>\n      <td>1</td>\n      <td>8.074436</td>\n      <td>1.843531</td>\n      <td>2.199682</td>\n      <td>1.285627</td>\n      <td>3</td>\n      <td>751</td>\n      <td>2151221247</td>\n      <td>3737599</td>\n      <td>1</td>\n      <td>-13</td>\n      <td>100443.0</td>\n    </tr>\n    <tr>\n      <th>2</th>\n      <th>0</th>\n      <td>10.719228</td>\n      <td>-1.003180</td>\n      <td>0.136138</td>\n      <td>-10.670791</td>\n      <td>1</td>\n      <td>5.282767</td>\n      <td>-3.709304</td>\n      <td>-5.265104</td>\n      <td>-6.227890</td>\n      <td>2</td>\n      <td>991</td>\n      <td>3227426815</td>\n      <td>6201343</td>\n      <td>1</td>\n      <td>-13</td>\n      <td>443.0</td>\n    </tr>\n    <tr>\n      <th>...</th>\n      <th>...</th>\n      <td>...</td>\n      <td>...</td>\n      <td>...</td>\n      <td>...</td>\n      <td>...</td>\n      <td>...</td>\n      <td>...</td>\n      <td>...</td>\n      <td>...</td>\n      <td>...</td>\n      <td>...</td>\n      <td>...</td>\n      <td>...</td>\n      <td>...</td>\n      <td>...</td>\n      <td>...</td>\n    </tr>\n    <tr>\n      <th>10503</th>\n      <th>1</th>\n      <td>7.285460</td>\n      <td>-0.159986</td>\n      <td>-0.690566</td>\n      <td>-7.250123</td>\n      <td>-1</td>\n      <td>5.615806</td>\n      <td>13.487918</td>\n      <td>-1.746244</td>\n      <td>-2.902555</td>\n      <td>2</td>\n      <td>1021</td>\n      <td>1078147071</td>\n      <td>4405247</td>\n      <td>2</td>\n      <td>13</td>\n      <td>443.0</td>\n    </tr>\n    <tr>\n      <th rowspan=\"2\" valign=\"top\">10504</th>\n      <th>0</th>\n      <td>46.938534</td>\n      <td>-2.178899</td>\n      <td>-1.055878</td>\n      <td>-46.875923</td>\n      <td>1</td>\n      <td>2.865243</td>\n      <td>-0.473000</td>\n      <td>-1.893596</td>\n      <td>-9.630126</td>\n      <td>2</td>\n      <td>1005</td>\n      <td>3226658047</td>\n      <td>25855</td>\n      <td>1</td>\n      <td>-13</td>\n      <td>443.0</td>\n    </tr>\n    <tr>\n      <th>1</th>\n      <td>38.480614</td>\n      <td>0.760645</td>\n      <td>1.353687</td>\n      <td>-38.449127</td>\n      <td>-1</td>\n      <td>2.312712</td>\n      <td>-2.599837</td>\n      <td>1.752227</td>\n      <td>-9.630126</td>\n      <td>2</td>\n      <td>1023</td>\n      <td>1074746623</td>\n      <td>985087</td>\n      <td>2</td>\n      <td>13</td>\n      <td>443.0</td>\n    </tr>\n    <tr>\n      <th rowspan=\"2\" valign=\"top\">10505</th>\n      <th>0</th>\n      <td>15.705569</td>\n      <td>-0.910367</td>\n      <td>-0.438091</td>\n      <td>-15.672685</td>\n      <td>-1</td>\n      <td>3.564234</td>\n      <td>0.008076</td>\n      <td>-6.558584</td>\n      <td>-9.264464</td>\n      <td>2</td>\n      <td>943</td>\n      <td>1079061503</td>\n      <td>5319679</td>\n      <td>2</td>\n      <td>13</td>\n      <td>443.0</td>\n    </tr>\n    <tr>\n      <th>1</th>\n      <td>57.897934</td>\n      <td>0.045639</td>\n      <td>3.358790</td>\n      <td>-57.800312</td>\n      <td>1</td>\n      <td>3.321338</td>\n      <td>-0.274137</td>\n      <td>-0.597027</td>\n      <td>-9.264464</td>\n      <td>3</td>\n      <td>927</td>\n      <td>3221621759</td>\n      <td>396287</td>\n      <td>1</td>\n      <td>-13</td>\n      <td>443.0</td>\n    </tr>\n  </tbody>\n</table>\n<p>21012 rows × 16 columns</p>\n</div>"
     },
     "execution_count": 87,
     "metadata": {},
     "output_type": "execute_result"
    }
   ],
   "source": [
    "df_events"
   ],
   "metadata": {
    "collapsed": false,
    "pycharm": {
     "name": "#%%\n"
    }
   }
  },
  {
   "cell_type": "code",
   "execution_count": null,
   "outputs": [],
   "source": [],
   "metadata": {
    "collapsed": false,
    "pycharm": {
     "name": "#%%\n"
    }
   }
  }
 ],
 "metadata": {
  "kernelspec": {
   "display_name": "Python 3",
   "language": "python",
   "name": "python3"
  },
  "language_info": {
   "codemirror_mode": {
    "name": "ipython",
    "version": 2
   },
   "file_extension": ".py",
   "mimetype": "text/x-python",
   "name": "python",
   "nbconvert_exporter": "python",
   "pygments_lexer": "ipython2",
   "version": "2.7.6"
  }
 },
 "nbformat": 4,
 "nbformat_minor": 0
}
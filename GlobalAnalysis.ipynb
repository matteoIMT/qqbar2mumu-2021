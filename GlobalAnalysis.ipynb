{
 "cells": [
  {
   "cell_type": "markdown",
   "source": [
    "# Global analysis"
   ],
   "metadata": {
    "collapsed": false,
    "pycharm": {
     "name": "#%% md\n"
    }
   }
  },
  {
   "cell_type": "markdown",
   "source": [
    "Explanations on what we are doing here"
   ],
   "metadata": {
    "collapsed": false,
    "pycharm": {
     "name": "#%% md\n"
    }
   }
  },
  {
   "cell_type": "markdown",
   "source": [
    "## Importation of library and functions"
   ],
   "metadata": {
    "collapsed": false,
    "pycharm": {
     "name": "#%% md\n"
    }
   }
  },
  {
   "cell_type": "code",
   "execution_count": 1,
   "outputs": [],
   "source": [
    "import pandas as pd\n",
    "import uproot\n",
    "import awkward as ak\n",
    "import numpy as np\n",
    "import matplotlib\n",
    "import matplotlib.pyplot as plt\n",
    "import os\n",
    "import math"
   ],
   "metadata": {
    "collapsed": false,
    "pycharm": {
     "name": "#%%\n"
    }
   }
  },
  {
   "cell_type": "code",
   "execution_count": 2,
   "outputs": [],
   "source": [
    "from tqdm import tqdm\n",
    "from time import time"
   ],
   "metadata": {
    "collapsed": false,
    "pycharm": {
     "name": "#%%\n"
    }
   }
  },
  {
   "cell_type": "code",
   "execution_count": 3,
   "outputs": [],
   "source": [
    "import Filter"
   ],
   "metadata": {
    "collapsed": false,
    "pycharm": {
     "name": "#%%\n"
    }
   }
  },
  {
   "cell_type": "code",
   "execution_count": 4,
   "outputs": [],
   "source": [
    "import ProjectPackage.DataExtraction as de\n",
    "import ProjectPackage.Kinematic as km\n",
    "from ProjectPackage import Cut"
   ],
   "metadata": {
    "collapsed": false,
    "pycharm": {
     "name": "#%%\n"
    }
   }
  },
  {
   "cell_type": "markdown",
   "source": [
    "# First step : extraction and filtering of the data from measures"
   ],
   "metadata": {
    "collapsed": false
   }
  },
  {
   "cell_type": "code",
   "execution_count": 5,
   "outputs": [],
   "source": [
    "data_folder = 'D:/Data_muons/dimuonData_LHC18m'\n",
    "run_number = 291944"
   ],
   "metadata": {
    "collapsed": false,
    "pycharm": {
     "name": "#%%\n"
    }
   }
  },
  {
   "cell_type": "code",
   "execution_count": 6,
   "outputs": [
    {
     "name": "stdout",
     "output_type": "stream",
     "text": [
      "Size of the data file : 139.71 Mo.\n",
      "Extraction took 59.9 s.\n",
      "Number of events : 1638174.\n"
     ]
    }
   ],
   "source": [
    "events = de.read_root_file(data_folder, run=run_number)"
   ],
   "metadata": {
    "collapsed": false,
    "pycharm": {
     "name": "#%%\n"
    }
   }
  },
  {
   "cell_type": "markdown",
   "source": [
    "## Applications of cuts and filters"
   ],
   "metadata": {
    "collapsed": false,
    "pycharm": {
     "name": "#%% md\n"
    }
   }
  },
  {
   "cell_type": "code",
   "execution_count": 7,
   "outputs": [],
   "source": [
    "N_cut_pDCA=5"
   ],
   "metadata": {
    "collapsed": false,
    "pycharm": {
     "name": "#%%\n"
    }
   }
  },
  {
   "cell_type": "markdown",
   "source": [
    "### Cuts on events and tracks"
   ],
   "metadata": {
    "collapsed": false,
    "pycharm": {
     "name": "#%% md\n"
    }
   }
  },
  {
   "cell_type": "code",
   "execution_count": 8,
   "outputs": [
    {
     "name": "stdout",
     "output_type": "stream",
     "text": [
      "\n",
      "Cut nMuons [...] \n",
      " \n",
      "This cut rejects 91.15 % of the statistics\n",
      "\n",
      "Cut CMUL [...] \n",
      " \n",
      "This cut rejects 39.02 % of the statistics\n",
      "\n",
      "Cut zVtx [...] \n",
      " \n",
      "This cut rejects 2.91 % of the statistics\n",
      "Number of tracks : 181905.\n",
      "\n",
      "Cut eta [...] \n",
      "This cut rejects 13.45 % of the statistics\n",
      "\n",
      "Cut pDCA [...] \n",
      " \n",
      "This cut rejects 4.65 % of the statistics\n",
      "Max number of possible muons pairs : 85426\n",
      "\n",
      "Total time needed : 59.11 s.\n"
     ]
    }
   ],
   "source": [
    "df = Filter.all_filters_muons(events, N_cut=N_cut_pDCA)"
   ],
   "metadata": {
    "collapsed": false,
    "pycharm": {
     "name": "#%%\n"
    }
   }
  },
  {
   "cell_type": "code",
   "execution_count": 9,
   "outputs": [
    {
     "data": {
      "text/plain": "                        E        Px        Py         Pz  Charge  thetaAbs  \\\nentry subentry                                                               \n0     0         24.952721 -1.378636  1.039364 -24.892694      -1  3.947988   \n      1          7.629278 -0.342053 -0.248072  -7.616835       1  3.401121   \n2     0          6.179737  0.252741 -0.019221  -6.173632      -1  2.572474   \n      1         17.015997 -1.085680 -1.148373 -16.942123       1  5.207280   \n3     0         10.221761 -0.539462 -0.282722 -10.203053       1  3.385718   \n...                   ...       ...       ...        ...     ...       ...   \n85864 2          6.055975  0.298023  0.266691  -6.041831       1  3.975049   \n85866 0          6.571306 -0.273575 -0.017310  -6.564736      -1  2.490599   \n      1          5.076169 -0.159755  0.687732  -5.025717      -1  7.634235   \n85867 0         56.574596  2.817894  1.663009 -56.479801       1  3.336261   \n      1         32.024700  2.023036  0.518164 -31.956362      -1  3.756127   \n\n                     xDCA       yDCA      zDCA       eta          P  \\\nentry subentry                                                        \n0     0         -0.099592  -0.385877 -5.856949 -3.362807  22.552498   \n      1         18.861176   8.311524 -5.856949 -3.585748   5.228546   \n2     0         16.769291  35.193218 -4.562401 -3.886364   3.178833   \n      1         -1.455813  -1.843493 -4.562401 -3.067481  14.615669   \n3     0         15.012245 -19.045557  3.036174 -3.512566   7.821215   \n...                   ...        ...       ...       ...        ...   \n85864 2        -11.712676  -5.151886  0.976765 -3.409419   3.655053   \n85866 0         35.016857  30.287893 -3.547436 -3.869478   3.570457   \n      1         27.622868   9.959803 -3.547436 -2.660693   2.675069   \n85867 0         -0.272721  -0.221081 -2.165346 -3.542460  54.174500   \n      1         -0.813806  -0.307710 -2.165346 -3.422214  29.624525   \n\n                      DCA        pDCA    s_pxDCA  \nentry subentry                                    \n0     0          5.870492  132.394257  56.757197  \n      1         21.427301  112.033634  54.582605  \n2     0         39.250315  124.770209  80.513104  \n      1          5.131605   75.001837  55.715837  \n3     0         24.440113  191.151369  54.884582  \n...                   ...         ...        ...  \n85864 2         12.832879   46.904849  54.403532  \n85866 0         46.434051  165.790785  80.576934  \n      1         29.577099   79.120795  54.293623  \n85867 0          2.193622  118.838362  61.580293  \n      1          2.333600   69.131795  57.745784  \n\n[150118 rows x 14 columns]",
      "text/html": "<div>\n<style scoped>\n    .dataframe tbody tr th:only-of-type {\n        vertical-align: middle;\n    }\n\n    .dataframe tbody tr th {\n        vertical-align: top;\n    }\n\n    .dataframe thead th {\n        text-align: right;\n    }\n</style>\n<table border=\"1\" class=\"dataframe\">\n  <thead>\n    <tr style=\"text-align: right;\">\n      <th></th>\n      <th></th>\n      <th>E</th>\n      <th>Px</th>\n      <th>Py</th>\n      <th>Pz</th>\n      <th>Charge</th>\n      <th>thetaAbs</th>\n      <th>xDCA</th>\n      <th>yDCA</th>\n      <th>zDCA</th>\n      <th>eta</th>\n      <th>P</th>\n      <th>DCA</th>\n      <th>pDCA</th>\n      <th>s_pxDCA</th>\n    </tr>\n    <tr>\n      <th>entry</th>\n      <th>subentry</th>\n      <th></th>\n      <th></th>\n      <th></th>\n      <th></th>\n      <th></th>\n      <th></th>\n      <th></th>\n      <th></th>\n      <th></th>\n      <th></th>\n      <th></th>\n      <th></th>\n      <th></th>\n      <th></th>\n    </tr>\n  </thead>\n  <tbody>\n    <tr>\n      <th rowspan=\"2\" valign=\"top\">0</th>\n      <th>0</th>\n      <td>24.952721</td>\n      <td>-1.378636</td>\n      <td>1.039364</td>\n      <td>-24.892694</td>\n      <td>-1</td>\n      <td>3.947988</td>\n      <td>-0.099592</td>\n      <td>-0.385877</td>\n      <td>-5.856949</td>\n      <td>-3.362807</td>\n      <td>22.552498</td>\n      <td>5.870492</td>\n      <td>132.394257</td>\n      <td>56.757197</td>\n    </tr>\n    <tr>\n      <th>1</th>\n      <td>7.629278</td>\n      <td>-0.342053</td>\n      <td>-0.248072</td>\n      <td>-7.616835</td>\n      <td>1</td>\n      <td>3.401121</td>\n      <td>18.861176</td>\n      <td>8.311524</td>\n      <td>-5.856949</td>\n      <td>-3.585748</td>\n      <td>5.228546</td>\n      <td>21.427301</td>\n      <td>112.033634</td>\n      <td>54.582605</td>\n    </tr>\n    <tr>\n      <th rowspan=\"2\" valign=\"top\">2</th>\n      <th>0</th>\n      <td>6.179737</td>\n      <td>0.252741</td>\n      <td>-0.019221</td>\n      <td>-6.173632</td>\n      <td>-1</td>\n      <td>2.572474</td>\n      <td>16.769291</td>\n      <td>35.193218</td>\n      <td>-4.562401</td>\n      <td>-3.886364</td>\n      <td>3.178833</td>\n      <td>39.250315</td>\n      <td>124.770209</td>\n      <td>80.513104</td>\n    </tr>\n    <tr>\n      <th>1</th>\n      <td>17.015997</td>\n      <td>-1.085680</td>\n      <td>-1.148373</td>\n      <td>-16.942123</td>\n      <td>1</td>\n      <td>5.207280</td>\n      <td>-1.455813</td>\n      <td>-1.843493</td>\n      <td>-4.562401</td>\n      <td>-3.067481</td>\n      <td>14.615669</td>\n      <td>5.131605</td>\n      <td>75.001837</td>\n      <td>55.715837</td>\n    </tr>\n    <tr>\n      <th>3</th>\n      <th>0</th>\n      <td>10.221761</td>\n      <td>-0.539462</td>\n      <td>-0.282722</td>\n      <td>-10.203053</td>\n      <td>1</td>\n      <td>3.385718</td>\n      <td>15.012245</td>\n      <td>-19.045557</td>\n      <td>3.036174</td>\n      <td>-3.512566</td>\n      <td>7.821215</td>\n      <td>24.440113</td>\n      <td>191.151369</td>\n      <td>54.884582</td>\n    </tr>\n    <tr>\n      <th>...</th>\n      <th>...</th>\n      <td>...</td>\n      <td>...</td>\n      <td>...</td>\n      <td>...</td>\n      <td>...</td>\n      <td>...</td>\n      <td>...</td>\n      <td>...</td>\n      <td>...</td>\n      <td>...</td>\n      <td>...</td>\n      <td>...</td>\n      <td>...</td>\n      <td>...</td>\n    </tr>\n    <tr>\n      <th>85864</th>\n      <th>2</th>\n      <td>6.055975</td>\n      <td>0.298023</td>\n      <td>0.266691</td>\n      <td>-6.041831</td>\n      <td>1</td>\n      <td>3.975049</td>\n      <td>-11.712676</td>\n      <td>-5.151886</td>\n      <td>0.976765</td>\n      <td>-3.409419</td>\n      <td>3.655053</td>\n      <td>12.832879</td>\n      <td>46.904849</td>\n      <td>54.403532</td>\n    </tr>\n    <tr>\n      <th rowspan=\"2\" valign=\"top\">85866</th>\n      <th>0</th>\n      <td>6.571306</td>\n      <td>-0.273575</td>\n      <td>-0.017310</td>\n      <td>-6.564736</td>\n      <td>-1</td>\n      <td>2.490599</td>\n      <td>35.016857</td>\n      <td>30.287893</td>\n      <td>-3.547436</td>\n      <td>-3.869478</td>\n      <td>3.570457</td>\n      <td>46.434051</td>\n      <td>165.790785</td>\n      <td>80.576934</td>\n    </tr>\n    <tr>\n      <th>1</th>\n      <td>5.076169</td>\n      <td>-0.159755</td>\n      <td>0.687732</td>\n      <td>-5.025717</td>\n      <td>-1</td>\n      <td>7.634235</td>\n      <td>27.622868</td>\n      <td>9.959803</td>\n      <td>-3.547436</td>\n      <td>-2.660693</td>\n      <td>2.675069</td>\n      <td>29.577099</td>\n      <td>79.120795</td>\n      <td>54.293623</td>\n    </tr>\n    <tr>\n      <th rowspan=\"2\" valign=\"top\">85867</th>\n      <th>0</th>\n      <td>56.574596</td>\n      <td>2.817894</td>\n      <td>1.663009</td>\n      <td>-56.479801</td>\n      <td>1</td>\n      <td>3.336261</td>\n      <td>-0.272721</td>\n      <td>-0.221081</td>\n      <td>-2.165346</td>\n      <td>-3.542460</td>\n      <td>54.174500</td>\n      <td>2.193622</td>\n      <td>118.838362</td>\n      <td>61.580293</td>\n    </tr>\n    <tr>\n      <th>1</th>\n      <td>32.024700</td>\n      <td>2.023036</td>\n      <td>0.518164</td>\n      <td>-31.956362</td>\n      <td>-1</td>\n      <td>3.756127</td>\n      <td>-0.813806</td>\n      <td>-0.307710</td>\n      <td>-2.165346</td>\n      <td>-3.422214</td>\n      <td>29.624525</td>\n      <td>2.333600</td>\n      <td>69.131795</td>\n      <td>57.745784</td>\n    </tr>\n  </tbody>\n</table>\n<p>150118 rows × 14 columns</p>\n</div>"
     },
     "execution_count": 9,
     "metadata": {},
     "output_type": "execute_result"
    }
   ],
   "source": [
    "df"
   ],
   "metadata": {
    "collapsed": false,
    "pycharm": {
     "name": "#%%\n"
    }
   }
  },
  {
   "cell_type": "code",
   "execution_count": 9,
   "outputs": [
    {
     "name": "stderr",
     "output_type": "stream",
     "text": [
      "100%|██████████| 71807/71807 [01:16<00:00, 934.86it/s] \n"
     ]
    },
    {
     "name": "stdout",
     "output_type": "stream",
     "text": [
      "Execution time : 88.09\n"
     ]
    }
   ],
   "source": [
    "df_dm = de.di_muons_dataframe(df)"
   ],
   "metadata": {
    "collapsed": false,
    "pycharm": {
     "name": "#%%\n"
    }
   }
  },
  {
   "cell_type": "code",
   "execution_count": 10,
   "outputs": [],
   "source": [
    "y_range=(-2.5, -4)\n",
    "all_P_T=True\n",
    "p_T_range=(0, 8)"
   ],
   "metadata": {
    "collapsed": false,
    "pycharm": {
     "name": "#%%\n"
    }
   }
  },
  {
   "cell_type": "code",
   "execution_count": 11,
   "outputs": [
    {
     "name": "stdout",
     "output_type": "stream",
     "text": [
      "This cut rejects 0.0 % of the statistics.\n",
      "\n",
      "Number of di-muons pairs : 70992\n"
     ]
    }
   ],
   "source": [
    "df_dm = Filter.all_filters_di_muons(df_dm,  y_range=y_range, all_P_T=all_P_T, p_T_range=p_T_range)"
   ],
   "metadata": {
    "collapsed": false,
    "pycharm": {
     "name": "#%%\n"
    }
   }
  },
  {
   "cell_type": "code",
   "execution_count": 12,
   "outputs": [
    {
     "data": {
      "text/plain": "                                                      P1  \\\nEvent id Muon id                                           \n0        (0, 1)      [-1.3786359, 1.0393643, -24.892694]   \n2        (0, 1)     [0.2527406, -0.019221483, -6.173632]   \n3        (0, 1)   [-0.5394624, -0.28272158, -10.2030525]   \n5        (0, 1)     [-1.4094948, 0.42579043, -31.101734]   \n6        (0, 1)    [-2.1010506, -0.83825886, -21.426548]   \n...                                                  ...   \n85856    (0, 1)    [-0.36997738, 0.020858338, -7.599689]   \n85858    (0, 1)         [-0.2908406, -0.6317, -5.137554]   \n85860    (0, 1)     [-0.6582935, -1.5861212, -14.283012]   \n85862    (0, 1)   [-0.54783654, -0.38465524, -7.8687053]   \n85867    (0, 1)         [2.8178937, 1.6630094, -56.4798]   \n\n                                                     P2         E1         E2  \\\nEvent id Muon id                                                                \n0        (0, 1)    [-0.34205338, -0.2480717, -7.616835]  24.952721   7.629278   \n2        (0, 1)    [-1.0856804, -1.1483729, -16.942123]   6.179737  17.015997   \n3        (0, 1)   [-0.19868925, 0.06468074, -5.1197624]  10.221761   5.125113   \n5        (0, 1)       [1.4731202, 1.9928731, -40.62996]  31.136747  40.705608   \n6        (0, 1)        [0.5472196, 0.710655, -8.137241]  21.545887   8.187206   \n...                                                 ...        ...        ...   \n85856    (0, 1)    [-0.36542204, 0.23081651, -8.583038]   7.609452   8.594563   \n85858    (0, 1)   [0.013987565, -0.9723853, -11.005384]   5.185485  11.048773   \n85860    (0, 1)     [-0.7644689, -2.6283288, -43.22416]  14.386270  43.310875   \n85862    (0, 1)      [0.39374608, 0.5185021, -6.638813]   7.897833   6.671497   \n85867    (0, 1)       [2.023036, 0.5181638, -31.956362]  56.574596  32.024700   \n\n                          E         y  \nEvent id Muon id                       \n0        (0, 1)   32.581997 -3.400204  \n2        (0, 1)   23.195734 -3.180691  \n3        (0, 1)   15.346874 -3.575254  \n5        (0, 1)   71.842354 -3.584052  \n6        (0, 1)   29.733093 -2.929308  \n...                     ...       ...  \n85856    (0, 1)   16.204016 -3.663682  \n85858    (0, 1)   16.234259 -2.935420  \n85860    (0, 1)   57.697144 -3.203793  \n85862    (0, 1)   14.569330 -3.076804  \n85867    (0, 1)   88.599297 -3.494774  \n\n[70992 rows x 6 columns]",
      "text/html": "<div>\n<style scoped>\n    .dataframe tbody tr th:only-of-type {\n        vertical-align: middle;\n    }\n\n    .dataframe tbody tr th {\n        vertical-align: top;\n    }\n\n    .dataframe thead th {\n        text-align: right;\n    }\n</style>\n<table border=\"1\" class=\"dataframe\">\n  <thead>\n    <tr style=\"text-align: right;\">\n      <th></th>\n      <th></th>\n      <th>P1</th>\n      <th>P2</th>\n      <th>E1</th>\n      <th>E2</th>\n      <th>E</th>\n      <th>y</th>\n    </tr>\n    <tr>\n      <th>Event id</th>\n      <th>Muon id</th>\n      <th></th>\n      <th></th>\n      <th></th>\n      <th></th>\n      <th></th>\n      <th></th>\n    </tr>\n  </thead>\n  <tbody>\n    <tr>\n      <th>0</th>\n      <th>(0, 1)</th>\n      <td>[-1.3786359, 1.0393643, -24.892694]</td>\n      <td>[-0.34205338, -0.2480717, -7.616835]</td>\n      <td>24.952721</td>\n      <td>7.629278</td>\n      <td>32.581997</td>\n      <td>-3.400204</td>\n    </tr>\n    <tr>\n      <th>2</th>\n      <th>(0, 1)</th>\n      <td>[0.2527406, -0.019221483, -6.173632]</td>\n      <td>[-1.0856804, -1.1483729, -16.942123]</td>\n      <td>6.179737</td>\n      <td>17.015997</td>\n      <td>23.195734</td>\n      <td>-3.180691</td>\n    </tr>\n    <tr>\n      <th>3</th>\n      <th>(0, 1)</th>\n      <td>[-0.5394624, -0.28272158, -10.2030525]</td>\n      <td>[-0.19868925, 0.06468074, -5.1197624]</td>\n      <td>10.221761</td>\n      <td>5.125113</td>\n      <td>15.346874</td>\n      <td>-3.575254</td>\n    </tr>\n    <tr>\n      <th>5</th>\n      <th>(0, 1)</th>\n      <td>[-1.4094948, 0.42579043, -31.101734]</td>\n      <td>[1.4731202, 1.9928731, -40.62996]</td>\n      <td>31.136747</td>\n      <td>40.705608</td>\n      <td>71.842354</td>\n      <td>-3.584052</td>\n    </tr>\n    <tr>\n      <th>6</th>\n      <th>(0, 1)</th>\n      <td>[-2.1010506, -0.83825886, -21.426548]</td>\n      <td>[0.5472196, 0.710655, -8.137241]</td>\n      <td>21.545887</td>\n      <td>8.187206</td>\n      <td>29.733093</td>\n      <td>-2.929308</td>\n    </tr>\n    <tr>\n      <th>...</th>\n      <th>...</th>\n      <td>...</td>\n      <td>...</td>\n      <td>...</td>\n      <td>...</td>\n      <td>...</td>\n      <td>...</td>\n    </tr>\n    <tr>\n      <th>85856</th>\n      <th>(0, 1)</th>\n      <td>[-0.36997738, 0.020858338, -7.599689]</td>\n      <td>[-0.36542204, 0.23081651, -8.583038]</td>\n      <td>7.609452</td>\n      <td>8.594563</td>\n      <td>16.204016</td>\n      <td>-3.663682</td>\n    </tr>\n    <tr>\n      <th>85858</th>\n      <th>(0, 1)</th>\n      <td>[-0.2908406, -0.6317, -5.137554]</td>\n      <td>[0.013987565, -0.9723853, -11.005384]</td>\n      <td>5.185485</td>\n      <td>11.048773</td>\n      <td>16.234259</td>\n      <td>-2.935420</td>\n    </tr>\n    <tr>\n      <th>85860</th>\n      <th>(0, 1)</th>\n      <td>[-0.6582935, -1.5861212, -14.283012]</td>\n      <td>[-0.7644689, -2.6283288, -43.22416]</td>\n      <td>14.386270</td>\n      <td>43.310875</td>\n      <td>57.697144</td>\n      <td>-3.203793</td>\n    </tr>\n    <tr>\n      <th>85862</th>\n      <th>(0, 1)</th>\n      <td>[-0.54783654, -0.38465524, -7.8687053]</td>\n      <td>[0.39374608, 0.5185021, -6.638813]</td>\n      <td>7.897833</td>\n      <td>6.671497</td>\n      <td>14.569330</td>\n      <td>-3.076804</td>\n    </tr>\n    <tr>\n      <th>85867</th>\n      <th>(0, 1)</th>\n      <td>[2.8178937, 1.6630094, -56.4798]</td>\n      <td>[2.023036, 0.5181638, -31.956362]</td>\n      <td>56.574596</td>\n      <td>32.024700</td>\n      <td>88.599297</td>\n      <td>-3.494774</td>\n    </tr>\n  </tbody>\n</table>\n<p>70992 rows × 6 columns</p>\n</div>"
     },
     "execution_count": 12,
     "metadata": {},
     "output_type": "execute_result"
    }
   ],
   "source": [
    "df_dm"
   ],
   "metadata": {
    "collapsed": false,
    "pycharm": {
     "name": "#%%\n"
    }
   }
  },
  {
   "cell_type": "code",
   "execution_count": 13,
   "outputs": [],
   "source": [
    "df_dm['M_inv'] = df_dm.apply(lambda x: km.inv_mass(x['E1'], x['E2'], x['P1'], x['P2']), axis=1)"
   ],
   "metadata": {
    "collapsed": false,
    "pycharm": {
     "name": "#%%\n"
    }
   }
  },
  {
   "cell_type": "code",
   "execution_count": 14,
   "outputs": [
    {
     "data": {
      "text/plain": "<Figure size 864x576 with 1 Axes>",
      "image/png": "[encoded data removed]"
     },
     "metadata": {
      "needs_background": "light"
     },
     "output_type": "display_data"
    }
   ],
   "source": [
    "h = Filter.plot_M_inv(df_dm['M_inv'], run_number)"
   ],
   "metadata": {
    "collapsed": false,
    "pycharm": {
     "name": "#%%\n"
    }
   }
  },
  {
   "cell_type": "code",
   "execution_count": 51,
   "outputs": [
    {
     "name": "stdout",
     "output_type": "stream",
     "text": [
      "This cut rejects 0.0 % of the statistics.\n",
      "\n",
      "Number of di-muons pairs : 28186\n",
      "This cut rejects 0.0 % of the statistics.\n",
      "\n",
      "Number of di-muons pairs : 26853\n",
      "This cut rejects 0.0 % of the statistics.\n",
      "\n",
      "Number of di-muons pairs : 9391\n",
      "This cut rejects 0.0 % of the statistics.\n",
      "\n",
      "Number of di-muons pairs : 3507\n",
      "This cut rejects 0.0 % of the statistics.\n",
      "\n",
      "Number of di-muons pairs : 1487\n",
      "This cut rejects 0.0 % of the statistics.\n",
      "\n",
      "Number of di-muons pairs : 656\n"
     ]
    },
    {
     "data": {
      "text/plain": "<Figure size 864x576 with 6 Axes>",
      "image/png": "[encoded data removed]"
     },
     "metadata": {
      "needs_background": "light"
     },
     "output_type": "display_data"
    }
   ],
   "source": [
    "bins = np.linspace(1.5, 5, 36)\n",
    "fig, axes = plt.subplots(2,3, figsize=(12,8), sharex=True, sharey=True)\n",
    "\n",
    "p_T_bins = np.arange(0, 7)\n",
    "axes[0, 0].set_xlim(1.5,4.5)\n",
    "axes[0, 0].semilogy()\n",
    "\n",
    "\n",
    "for id, ax  in enumerate(axes.flatten()) :\n",
    "    p_min, p_max = p_T_bins[[id, id+1]]\n",
    "    ax.set_title(f'{p_min} < $p_T$ < {p_max}')\n",
    "\n",
    "    df_dm_selected = Filter.all_filters_di_muons(df_dm,  y_range=y_range, all_P_T=False, p_T_range=(p_min, p_max))\n",
    "    df_dm_selected['M_inv'] = df_dm_selected.apply(lambda x: km.inv_mass(x['E1'], x['E2'], x['P1'], x['P2']), axis=1)\n",
    "    ax.hist(df_dm_selected['M_inv'], bins=bins, range=[1.5,5], histtype='step', align='mid', color='b')\n",
    "\n",
    "fig.suptitle('$M_inv$ for different ranges of $p_T$', fontweight='bold', fontsize=15)\n",
    "plt.savefig('M_{inv} several P_t.pdf')"
   ],
   "metadata": {
    "collapsed": false,
    "pycharm": {
     "name": "#%%\n"
    }
   }
  },
  {
   "cell_type": "markdown",
   "source": [
    "Not really relevant right now, useful for later maybe but i want to keep this code somewhere"
   ],
   "metadata": {
    "collapsed": false,
    "pycharm": {
     "name": "#%% md\n"
    }
   }
  },
  {
   "cell_type": "code",
   "execution_count": 16,
   "outputs": [],
   "source": [
    "from scipy.optimize import curve_fit\n",
    "from itertools import pairwise\n",
    "\n",
    "x_c = np.array([(x1 + x2) / 2 for x1, x2 in pairwise(h[1])])\n",
    "m, y = np.array([(x1 + x2) / 2 for x1, x2 in pairwise(h[1])]), h[0]\n",
    "\n",
    "m_min, m_max = 2.7, 3.4  # range of the mass excess\n",
    "\n",
    "i_min = np.where(m > m_min)[0][0]\n",
    "i_max = np.where(m < m_max)[0][-1]\n",
    "\n",
    "x_JP, y_JP = m[i_min:i_max + 1], y[i_min:i_max + 1]\n",
    "idx = [i for i in range(i_min)] + [i for i in range(i_max, len(m))]\n",
    "x_without_JP = m[idx]\n",
    "y_without_JP = y[idx]\n",
    "\n"
   ],
   "metadata": {
    "collapsed": false,
    "pycharm": {
     "name": "#%%\n"
    }
   }
  },
  {
   "cell_type": "code",
   "execution_count": 26,
   "outputs": [],
   "source": [
    "\n",
    "def double_exp(z, A, k1, k2):\n",
    "    return A * np.exp(-k1 * z) + np.exp(-k2 * z)\n",
    "\n",
    "\n",
    "a, t1, t2 = curve_fit(double_exp, x_without_JP, y_without_JP, p0=(1000, 1,-1))[0]"
   ],
   "metadata": {
    "collapsed": false,
    "pycharm": {
     "name": "#%%\n"
    }
   }
  },
  {
   "cell_type": "code",
   "execution_count": 27,
   "outputs": [
    {
     "data": {
      "text/plain": "[]"
     },
     "execution_count": 27,
     "metadata": {},
     "output_type": "execute_result"
    },
    {
     "data": {
      "text/plain": "<Figure size 432x288 with 1 Axes>",
      "image/png": "[encoded data removed]"
     },
     "metadata": {
      "needs_background": "light"
     },
     "output_type": "display_data"
    }
   ],
   "source": [
    "plt.scatter(x_without_JP, y_without_JP)\n",
    "plt.plot(t, double_exp(t, a, t1, t2))\n",
    "plt.semilogy()"
   ],
   "metadata": {
    "collapsed": false,
    "pycharm": {
     "name": "#%%\n"
    }
   }
  },
  {
   "cell_type": "code",
   "execution_count": 28,
   "outputs": [
    {
     "data": {
      "text/plain": "(16337.799689184016, 1.4257329017901836, -0.48615042415371806)"
     },
     "execution_count": 28,
     "metadata": {},
     "output_type": "execute_result"
    }
   ],
   "source": [
    "a, t1, t2"
   ],
   "metadata": {
    "collapsed": false,
    "pycharm": {
     "name": "#%%\n"
    }
   }
  },
  {
   "cell_type": "code",
   "execution_count": 30,
   "outputs": [
    {
     "data": {
      "text/plain": "Text(0.05, 0.5, 'Counts per 0.1 GeV')"
     },
     "execution_count": 30,
     "metadata": {},
     "output_type": "execute_result"
    },
    {
     "data": {
      "text/plain": "<Figure size 864x576 with 2 Axes>",
      "image/png": "[encoded data removed]"
     },
     "metadata": {
      "needs_background": "light"
     },
     "output_type": "display_data"
    }
   ],
   "source": [
    "t = np.linspace(1.5, 5, 101)\n",
    "bins = np.linspace(1.5, 5, 36)\n",
    "fig, ax = plt.subplots(2,1, sharex=True, gridspec_kw={'height_ratios': [3,1]}, figsize=(12,8))\n",
    "fig.suptitle(f'Run number {run_number}', fontsize=15, fontweight='bold')\n",
    "\n",
    "ax[0].set_xlim(1.5,4.5)\n",
    "ax[0].semilogy()\n",
    "ax[0].set_ylim(9,3e3)\n",
    "ax[0].set_xlabel(\"$m_{\\mu\\mu}$ (GeV)\", fontweight='bold', fontsize=12)\n",
    "\n",
    "ax[0].hist(df_dm['M_inv'], bins=bins, range=[1.5,5], histtype='step', align='mid', color='b')\n",
    "ax[0].plot(t, double_exp(t, a, t1, t2), c='orange', linestyle='dashed', alpha=0.8, label='Background fit')\n",
    "\n",
    "leg = ax[0].legend(fontsize=12)\n",
    "leg.get_frame().set_linewidth(2.0)\n",
    "ax[0].grid(linestyle='dashed', alpha=0.8)\n",
    "\n",
    "ax[1].scatter(x_c, h[0] - double_exp(x_c, a, t1, t2), marker='s')\n",
    "ax[1].set_ylim(-100,890)\n",
    "ax[1].axhline(0, c='r', linestyle='dashed')\n",
    "ax[1].grid(linestyle='dashed', alpha=0.8)\n",
    "plt.subplots_adjust(wspace=0, hspace=0)\n",
    "\n",
    "fig.text(0.5, 0.01, '$M_{\\mu\\mu}$ (GeV/$c^2$)', ha='center', fontsize=15)\n",
    "fig.text(0.05, 0.5, 'Counts per 0.1 GeV', ha='center', fontsize=15, rotation='vertical')"
   ],
   "metadata": {
    "collapsed": false,
    "pycharm": {
     "name": "#%%\n"
    }
   }
  },
  {
   "cell_type": "code",
   "execution_count": null,
   "outputs": [],
   "source": [],
   "metadata": {
    "collapsed": false,
    "pycharm": {
     "name": "#%%\n"
    }
   }
  }
 ],
 "metadata": {
  "kernelspec": {
   "display_name": "Python 3",
   "language": "python",
   "name": "python3"
  },
  "language_info": {
   "codemirror_mode": {
    "name": "ipython",
    "version": 2
   },
   "file_extension": ".py",
   "mimetype": "text/x-python",
   "name": "python",
   "nbconvert_exporter": "python",
   "pygments_lexer": "ipython2",
   "version": "2.7.6"
  }
 },
 "nbformat": 4,
 "nbformat_minor": 0
}
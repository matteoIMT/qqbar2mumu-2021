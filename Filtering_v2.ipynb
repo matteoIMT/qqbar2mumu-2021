{
 "cells": [
  {
   "cell_type": "markdown",
   "source": [
    "This notebook gathers the different cuts and filtering apply to the raw data"
   ],
   "metadata": {
    "collapsed": false,
    "pycharm": {
     "name": "#%% md\n"
    }
   }
  },
  {
   "cell_type": "markdown",
   "source": [
    "Importation of the libraries"
   ],
   "metadata": {
    "collapsed": false
   }
  },
  {
   "cell_type": "code",
   "execution_count": 2,
   "outputs": [],
   "source": [
    "import pandas as pd\n",
    "import uproot\n",
    "import awkward as ak\n",
    "import numpy as np\n",
    "import matplotlib\n",
    "import matplotlib.pyplot as plt\n",
    "import os\n",
    "import math"
   ],
   "metadata": {
    "collapsed": false,
    "pycharm": {
     "name": "#%%\n"
    }
   }
  },
  {
   "cell_type": "code",
   "execution_count": 3,
   "outputs": [],
   "source": [
    "from collections import Counter\n",
    "from itertools import combinations\n",
    "from tqdm import tqdm\n",
    "from time import time"
   ],
   "metadata": {
    "collapsed": false,
    "pycharm": {
     "name": "#%%\n"
    }
   }
  },
  {
   "cell_type": "markdown",
   "source": [
    "Importation of the project modules containing functions from the project package"
   ],
   "metadata": {
    "collapsed": false,
    "pycharm": {
     "name": "#%% md\n"
    }
   }
  },
  {
   "cell_type": "code",
   "execution_count": 4,
   "outputs": [],
   "source": [
    "import ProjectPackage.DataExtraction as de\n",
    "import ProjectPackage.Kinematic as km\n",
    "from ProjectPackage import Cut"
   ],
   "metadata": {
    "collapsed": false,
    "pycharm": {
     "name": "#%%\n"
    }
   }
  },
  {
   "cell_type": "markdown",
   "source": [
    "Importing data"
   ],
   "metadata": {
    "collapsed": false,
    "pycharm": {
     "name": "#%% md\n"
    }
   }
  },
  {
   "cell_type": "code",
   "execution_count": 5,
   "outputs": [],
   "source": [
    "data_folder = 'D:/Data_muons/dimuonData_LHC18m'\n",
    "run_number = 291944"
   ],
   "metadata": {
    "collapsed": false,
    "pycharm": {
     "name": "#%%\n"
    }
   }
  },
  {
   "cell_type": "code",
   "execution_count": 6,
   "outputs": [
    {
     "name": "stdout",
     "output_type": "stream",
     "text": [
      "Size of the data file : 139.71 Mo.\n",
      "Extraction took 44.7 s.\n",
      "Number of events : 1638174.\n"
     ]
    }
   ],
   "source": [
    "events = de.read_root_file(data_folder, run=run_number)"
   ],
   "metadata": {
    "collapsed": false,
    "pycharm": {
     "name": "#%%\n"
    }
   }
  },
  {
   "cell_type": "markdown",
   "source": [
    "Cuts on the events (see Cut.py file)"
   ],
   "metadata": {
    "collapsed": false,
    "pycharm": {
     "name": "#%% md\n"
    }
   }
  },
  {
   "cell_type": "code",
   "execution_count": 5,
   "outputs": [
    {
     "name": "stdout",
     "output_type": "stream",
     "text": [
      "This cut rejects 91.15 % of the statistics\n",
      "This cut rejects 39.02 % of the statistics\n",
      "This cut rejects 2.91 % of the statistics\n",
      "\n",
      "Events remaining : 85869\n"
     ]
    }
   ],
   "source": [
    "events = Cut.cut_nMuons(events)\n",
    "events = Cut.cut_CMUL(events)\n",
    "events = Cut.z_cut(events)\n",
    "print(f\"\\nEvents remaining : {len(events)}\")"
   ],
   "metadata": {
    "collapsed": false,
    "pycharm": {
     "name": "#%%\n"
    }
   }
  },
  {
   "cell_type": "markdown",
   "source": [
    "All data on muon is merge in one table (dataframe object)"
   ],
   "metadata": {
    "collapsed": false,
    "pycharm": {
     "name": "#%% md\n"
    }
   }
  },
  {
   "cell_type": "code",
   "execution_count": 7,
   "outputs": [
    {
     "name": "stdout",
     "output_type": "stream",
     "text": [
      "Number of tracks : 1095270.\n",
      "Max number of possible muons pairs : 181436\n"
     ]
    }
   ],
   "source": [
    "df = de.muon_df(events)"
   ],
   "metadata": {
    "collapsed": false,
    "pycharm": {
     "name": "#%%\n"
    }
   }
  },
  {
   "cell_type": "code",
   "execution_count": 12,
   "outputs": [
    {
     "data": {
      "text/plain": "                        E        Px        Py         Pz  Charge  thetaAbs  \\\nentry subentry                                                               \n0     0         24.952721 -1.378636  1.039364 -24.892694      -1  3.947988   \n      1          7.629278 -0.342053 -0.248072  -7.616835       1  3.401121   \n1     0         40.948765 -3.209173 -1.853931 -40.780560      -1  5.094156   \n      1         64.867142  1.026864  7.215225 -64.456345       1  6.399544   \n2     0          6.179737  0.252741 -0.019221  -6.173632      -1  2.572474   \n...                   ...       ...       ...        ...     ...       ...   \n149   1          5.447241  0.258892 -0.273852  -5.433162      -1  3.767282   \n150   0         26.937788  0.372978  1.396290 -26.898783      -1  3.092885   \n      1          9.183164 -0.736523 -0.851128  -9.113312       1  7.148636   \n151   0          8.875800 -1.015173 -0.810806  -8.779560       1  8.354705   \n      1          8.251497  0.359323 -0.231717  -8.239736       1  3.137516   \n\n                     xDCA       yDCA      zDCA  \nentry subentry                                  \n0     0         -0.099592  -0.385877 -5.856949  \n      1         18.861176   8.311524 -5.856949  \n1     0          0.765852   0.340823 -7.874046  \n      1         -1.038053   0.416923 -7.874046  \n2     0         16.769291  35.193218 -4.562401  \n...                   ...        ...       ...  \n149   1         -4.301780 -11.161263  1.739015  \n150   0          1.691764   0.871692 -1.780730  \n      1          8.179032   8.753128 -1.780730  \n151   0         -2.423713  -1.433025  0.486756  \n      1        -11.028284   1.926348  0.486756  \n\n[319 rows x 9 columns]",
      "text/html": "<div>\n<style scoped>\n    .dataframe tbody tr th:only-of-type {\n        vertical-align: middle;\n    }\n\n    .dataframe tbody tr th {\n        vertical-align: top;\n    }\n\n    .dataframe thead th {\n        text-align: right;\n    }\n</style>\n<table border=\"1\" class=\"dataframe\">\n  <thead>\n    <tr style=\"text-align: right;\">\n      <th></th>\n      <th></th>\n      <th>E</th>\n      <th>Px</th>\n      <th>Py</th>\n      <th>Pz</th>\n      <th>Charge</th>\n      <th>thetaAbs</th>\n      <th>xDCA</th>\n      <th>yDCA</th>\n      <th>zDCA</th>\n    </tr>\n    <tr>\n      <th>entry</th>\n      <th>subentry</th>\n      <th></th>\n      <th></th>\n      <th></th>\n      <th></th>\n      <th></th>\n      <th></th>\n      <th></th>\n      <th></th>\n      <th></th>\n    </tr>\n  </thead>\n  <tbody>\n    <tr>\n      <th rowspan=\"2\" valign=\"top\">0</th>\n      <th>0</th>\n      <td>24.952721</td>\n      <td>-1.378636</td>\n      <td>1.039364</td>\n      <td>-24.892694</td>\n      <td>-1</td>\n      <td>3.947988</td>\n      <td>-0.099592</td>\n      <td>-0.385877</td>\n      <td>-5.856949</td>\n    </tr>\n    <tr>\n      <th>1</th>\n      <td>7.629278</td>\n      <td>-0.342053</td>\n      <td>-0.248072</td>\n      <td>-7.616835</td>\n      <td>1</td>\n      <td>3.401121</td>\n      <td>18.861176</td>\n      <td>8.311524</td>\n      <td>-5.856949</td>\n    </tr>\n    <tr>\n      <th rowspan=\"2\" valign=\"top\">1</th>\n      <th>0</th>\n      <td>40.948765</td>\n      <td>-3.209173</td>\n      <td>-1.853931</td>\n      <td>-40.780560</td>\n      <td>-1</td>\n      <td>5.094156</td>\n      <td>0.765852</td>\n      <td>0.340823</td>\n      <td>-7.874046</td>\n    </tr>\n    <tr>\n      <th>1</th>\n      <td>64.867142</td>\n      <td>1.026864</td>\n      <td>7.215225</td>\n      <td>-64.456345</td>\n      <td>1</td>\n      <td>6.399544</td>\n      <td>-1.038053</td>\n      <td>0.416923</td>\n      <td>-7.874046</td>\n    </tr>\n    <tr>\n      <th>2</th>\n      <th>0</th>\n      <td>6.179737</td>\n      <td>0.252741</td>\n      <td>-0.019221</td>\n      <td>-6.173632</td>\n      <td>-1</td>\n      <td>2.572474</td>\n      <td>16.769291</td>\n      <td>35.193218</td>\n      <td>-4.562401</td>\n    </tr>\n    <tr>\n      <th>...</th>\n      <th>...</th>\n      <td>...</td>\n      <td>...</td>\n      <td>...</td>\n      <td>...</td>\n      <td>...</td>\n      <td>...</td>\n      <td>...</td>\n      <td>...</td>\n      <td>...</td>\n    </tr>\n    <tr>\n      <th>149</th>\n      <th>1</th>\n      <td>5.447241</td>\n      <td>0.258892</td>\n      <td>-0.273852</td>\n      <td>-5.433162</td>\n      <td>-1</td>\n      <td>3.767282</td>\n      <td>-4.301780</td>\n      <td>-11.161263</td>\n      <td>1.739015</td>\n    </tr>\n    <tr>\n      <th rowspan=\"2\" valign=\"top\">150</th>\n      <th>0</th>\n      <td>26.937788</td>\n      <td>0.372978</td>\n      <td>1.396290</td>\n      <td>-26.898783</td>\n      <td>-1</td>\n      <td>3.092885</td>\n      <td>1.691764</td>\n      <td>0.871692</td>\n      <td>-1.780730</td>\n    </tr>\n    <tr>\n      <th>1</th>\n      <td>9.183164</td>\n      <td>-0.736523</td>\n      <td>-0.851128</td>\n      <td>-9.113312</td>\n      <td>1</td>\n      <td>7.148636</td>\n      <td>8.179032</td>\n      <td>8.753128</td>\n      <td>-1.780730</td>\n    </tr>\n    <tr>\n      <th rowspan=\"2\" valign=\"top\">151</th>\n      <th>0</th>\n      <td>8.875800</td>\n      <td>-1.015173</td>\n      <td>-0.810806</td>\n      <td>-8.779560</td>\n      <td>1</td>\n      <td>8.354705</td>\n      <td>-2.423713</td>\n      <td>-1.433025</td>\n      <td>0.486756</td>\n    </tr>\n    <tr>\n      <th>1</th>\n      <td>8.251497</td>\n      <td>0.359323</td>\n      <td>-0.231717</td>\n      <td>-8.239736</td>\n      <td>1</td>\n      <td>3.137516</td>\n      <td>-11.028284</td>\n      <td>1.926348</td>\n      <td>0.486756</td>\n    </tr>\n  </tbody>\n</table>\n<p>319 rows × 9 columns</p>\n</div>"
     },
     "execution_count": 12,
     "metadata": {},
     "output_type": "execute_result"
    }
   ],
   "source": [
    "df"
   ],
   "metadata": {
    "collapsed": false,
    "pycharm": {
     "name": "#%%\n"
    }
   }
  },
  {
   "cell_type": "markdown",
   "source": [
    "Cut on the acceptance of the detector ($-4.5 < \\eta < -2.5$)"
   ],
   "metadata": {
    "collapsed": false,
    "pycharm": {
     "name": "#%% md\n"
    }
   }
  },
  {
   "cell_type": "code",
   "execution_count": 8,
   "outputs": [
    {
     "name": "stdout",
     "output_type": "stream",
     "text": [
      "This cut rejects 76.47 % of the statistics\n"
     ]
    }
   ],
   "source": [
    "df[\"eta\"] = df.apply(lambda x: km.eta(x[\"Px\"], x[\"Py\"], x[\"Pz\"]), axis=1)\n",
    "df = Cut.cut_eta(df)"
   ],
   "metadata": {
    "collapsed": false,
    "pycharm": {
     "name": "#%%\n"
    }
   }
  },
  {
   "cell_type": "markdown",
   "source": [
    "At this point, we have :"
   ],
   "metadata": {
    "collapsed": false,
    "pycharm": {
     "name": "#%% md\n"
    }
   }
  },
  {
   "cell_type": "code",
   "execution_count": 8,
   "outputs": [
    {
     "name": "stdout",
     "output_type": "stream",
     "text": [
      "Number of tracks : 157441.\n",
      "Max number of possible muons pairs : 91269\n"
     ]
    }
   ],
   "source": [
    "print(f'Number of tracks : {len(df)}.')\n",
    "de.max_muons_pairs(df)"
   ],
   "metadata": {
    "collapsed": false,
    "pycharm": {
     "name": "#%%\n"
    }
   }
  },
  {
   "cell_type": "code",
   "execution_count": 9,
   "outputs": [
    {
     "data": {
      "text/plain": "                        E        Px        Py         Pz  Charge  thetaAbs  \\\nentry subentry                                                               \n0     0         24.952721 -1.378636  1.039364 -24.892694      -1  3.947988   \n      1          7.629278 -0.342053 -0.248072  -7.616835       1  3.401121   \n1     0         40.948765 -3.209173 -1.853931 -40.780560      -1  5.094156   \n      1         64.867142  1.026864  7.215225 -64.456345       1  6.399544   \n2     0          6.179737  0.252741 -0.019221  -6.173632      -1  2.572474   \n...                   ...       ...       ...        ...     ...       ...   \n149   1          5.447241  0.258892 -0.273852  -5.433162      -1  3.767282   \n150   0         26.937788  0.372978  1.396290 -26.898783      -1  3.092885   \n      1          9.183164 -0.736523 -0.851128  -9.113312       1  7.148636   \n151   0          8.875800 -1.015173 -0.810806  -8.779560       1  8.354705   \n      1          8.251497  0.359323 -0.231717  -8.239736       1  3.137516   \n\n                     xDCA       yDCA      zDCA       eta  \nentry subentry                                            \n0     0         -0.099592  -0.385877 -5.856949 -3.362807  \n      1         18.861176   8.311524 -5.856949 -3.585748  \n1     0          0.765852   0.340823 -7.874046 -3.093406  \n      1         -1.038053   0.416923 -7.874046 -2.876097  \n2     0         16.769291  35.193218 -4.562401 -3.886364  \n...                   ...        ...       ...       ...  \n149   1         -4.301780 -11.161263  1.739015 -3.362762  \n150   0          1.691764   0.871692 -1.780730 -3.617669  \n      1          8.179032   8.753128 -1.780730 -2.788395  \n151   0         -2.423713  -1.433025  0.486756 -2.609237  \n      1        -11.028284   1.926348  0.486756 -3.652452  \n\n[272 rows x 10 columns]",
      "text/html": "<div>\n<style scoped>\n    .dataframe tbody tr th:only-of-type {\n        vertical-align: middle;\n    }\n\n    .dataframe tbody tr th {\n        vertical-align: top;\n    }\n\n    .dataframe thead th {\n        text-align: right;\n    }\n</style>\n<table border=\"1\" class=\"dataframe\">\n  <thead>\n    <tr style=\"text-align: right;\">\n      <th></th>\n      <th></th>\n      <th>E</th>\n      <th>Px</th>\n      <th>Py</th>\n      <th>Pz</th>\n      <th>Charge</th>\n      <th>thetaAbs</th>\n      <th>xDCA</th>\n      <th>yDCA</th>\n      <th>zDCA</th>\n      <th>eta</th>\n    </tr>\n    <tr>\n      <th>entry</th>\n      <th>subentry</th>\n      <th></th>\n      <th></th>\n      <th></th>\n      <th></th>\n      <th></th>\n      <th></th>\n      <th></th>\n      <th></th>\n      <th></th>\n      <th></th>\n    </tr>\n  </thead>\n  <tbody>\n    <tr>\n      <th rowspan=\"2\" valign=\"top\">0</th>\n      <th>0</th>\n      <td>24.952721</td>\n      <td>-1.378636</td>\n      <td>1.039364</td>\n      <td>-24.892694</td>\n      <td>-1</td>\n      <td>3.947988</td>\n      <td>-0.099592</td>\n      <td>-0.385877</td>\n      <td>-5.856949</td>\n      <td>-3.362807</td>\n    </tr>\n    <tr>\n      <th>1</th>\n      <td>7.629278</td>\n      <td>-0.342053</td>\n      <td>-0.248072</td>\n      <td>-7.616835</td>\n      <td>1</td>\n      <td>3.401121</td>\n      <td>18.861176</td>\n      <td>8.311524</td>\n      <td>-5.856949</td>\n      <td>-3.585748</td>\n    </tr>\n    <tr>\n      <th rowspan=\"2\" valign=\"top\">1</th>\n      <th>0</th>\n      <td>40.948765</td>\n      <td>-3.209173</td>\n      <td>-1.853931</td>\n      <td>-40.780560</td>\n      <td>-1</td>\n      <td>5.094156</td>\n      <td>0.765852</td>\n      <td>0.340823</td>\n      <td>-7.874046</td>\n      <td>-3.093406</td>\n    </tr>\n    <tr>\n      <th>1</th>\n      <td>64.867142</td>\n      <td>1.026864</td>\n      <td>7.215225</td>\n      <td>-64.456345</td>\n      <td>1</td>\n      <td>6.399544</td>\n      <td>-1.038053</td>\n      <td>0.416923</td>\n      <td>-7.874046</td>\n      <td>-2.876097</td>\n    </tr>\n    <tr>\n      <th>2</th>\n      <th>0</th>\n      <td>6.179737</td>\n      <td>0.252741</td>\n      <td>-0.019221</td>\n      <td>-6.173632</td>\n      <td>-1</td>\n      <td>2.572474</td>\n      <td>16.769291</td>\n      <td>35.193218</td>\n      <td>-4.562401</td>\n      <td>-3.886364</td>\n    </tr>\n    <tr>\n      <th>...</th>\n      <th>...</th>\n      <td>...</td>\n      <td>...</td>\n      <td>...</td>\n      <td>...</td>\n      <td>...</td>\n      <td>...</td>\n      <td>...</td>\n      <td>...</td>\n      <td>...</td>\n      <td>...</td>\n    </tr>\n    <tr>\n      <th>149</th>\n      <th>1</th>\n      <td>5.447241</td>\n      <td>0.258892</td>\n      <td>-0.273852</td>\n      <td>-5.433162</td>\n      <td>-1</td>\n      <td>3.767282</td>\n      <td>-4.301780</td>\n      <td>-11.161263</td>\n      <td>1.739015</td>\n      <td>-3.362762</td>\n    </tr>\n    <tr>\n      <th rowspan=\"2\" valign=\"top\">150</th>\n      <th>0</th>\n      <td>26.937788</td>\n      <td>0.372978</td>\n      <td>1.396290</td>\n      <td>-26.898783</td>\n      <td>-1</td>\n      <td>3.092885</td>\n      <td>1.691764</td>\n      <td>0.871692</td>\n      <td>-1.780730</td>\n      <td>-3.617669</td>\n    </tr>\n    <tr>\n      <th>1</th>\n      <td>9.183164</td>\n      <td>-0.736523</td>\n      <td>-0.851128</td>\n      <td>-9.113312</td>\n      <td>1</td>\n      <td>7.148636</td>\n      <td>8.179032</td>\n      <td>8.753128</td>\n      <td>-1.780730</td>\n      <td>-2.788395</td>\n    </tr>\n    <tr>\n      <th rowspan=\"2\" valign=\"top\">151</th>\n      <th>0</th>\n      <td>8.875800</td>\n      <td>-1.015173</td>\n      <td>-0.810806</td>\n      <td>-8.779560</td>\n      <td>1</td>\n      <td>8.354705</td>\n      <td>-2.423713</td>\n      <td>-1.433025</td>\n      <td>0.486756</td>\n      <td>-2.609237</td>\n    </tr>\n    <tr>\n      <th>1</th>\n      <td>8.251497</td>\n      <td>0.359323</td>\n      <td>-0.231717</td>\n      <td>-8.239736</td>\n      <td>1</td>\n      <td>3.137516</td>\n      <td>-11.028284</td>\n      <td>1.926348</td>\n      <td>0.486756</td>\n      <td>-3.652452</td>\n    </tr>\n  </tbody>\n</table>\n<p>272 rows × 10 columns</p>\n</div>"
     },
     "execution_count": 9,
     "metadata": {},
     "output_type": "execute_result"
    }
   ],
   "source": [
    "df"
   ],
   "metadata": {
    "collapsed": false,
    "pycharm": {
     "name": "#%%\n"
    }
   }
  },
  {
   "cell_type": "code",
   "execution_count": 9,
   "outputs": [
    {
     "data": {
      "text/plain": "(157441, 10)"
     },
     "execution_count": 9,
     "metadata": {},
     "output_type": "execute_result"
    }
   ],
   "source": [
    "df.shape"
   ],
   "metadata": {
    "collapsed": false,
    "pycharm": {
     "name": "#%%\n"
    }
   }
  },
  {
   "cell_type": "markdown",
   "source": [
    "**PDA Cut**"
   ],
   "metadata": {
    "collapsed": false,
    "pycharm": {
     "name": "#%% md\n"
    }
   }
  },
  {
   "cell_type": "code",
   "execution_count": 10,
   "outputs": [],
   "source": [
    "df[\"P\"] = df.apply(lambda x: Cut.p_fc(math.sqrt(x[\"Px\"]**2 +  x[\"Py\"]**2 + x[\"Pz\"]**2), x['thetaAbs']) , axis=1)"
   ],
   "metadata": {
    "collapsed": false,
    "pycharm": {
     "name": "#%%\n"
    }
   }
  },
  {
   "cell_type": "code",
   "execution_count": 12,
   "outputs": [],
   "source": [
    "df[\"DCA\"] = df.apply(lambda x: math.sqrt(x[\"xDCA\"]**2 +  x[\"yDCA\"]**2 + x[\"zDCA\"]**2), axis=1)\n",
    "df['pDCA'] = df.P * df.DCA"
   ],
   "metadata": {
    "collapsed": false,
    "pycharm": {
     "name": "#%%\n"
    }
   }
  },
  {
   "cell_type": "code",
   "execution_count": 11,
   "outputs": [
    {
     "data": {
      "text/plain": "                        P        DCA        pDCA\nentry subentry                                  \n0     0         22.552498   5.870492  132.394257\n      1          5.228546  21.427301  112.033634\n1     0         38.548625   7.918541  305.248878\n      1         62.467051   7.953112  496.807424\n2     0          3.178833  39.250315  124.770209\n...                   ...        ...         ...\n1579  0          3.493772   4.570633   15.968747\n      1         18.792630   4.675777   87.870153\n      2         16.111396   5.033818   81.101840\n1580  0          6.328077  19.473932  123.232546\n      1          7.377625  15.924335  117.483770\n\n[2906 rows x 3 columns]",
      "text/html": "<div>\n<style scoped>\n    .dataframe tbody tr th:only-of-type {\n        vertical-align: middle;\n    }\n\n    .dataframe tbody tr th {\n        vertical-align: top;\n    }\n\n    .dataframe thead th {\n        text-align: right;\n    }\n</style>\n<table border=\"1\" class=\"dataframe\">\n  <thead>\n    <tr style=\"text-align: right;\">\n      <th></th>\n      <th></th>\n      <th>P</th>\n      <th>DCA</th>\n      <th>pDCA</th>\n    </tr>\n    <tr>\n      <th>entry</th>\n      <th>subentry</th>\n      <th></th>\n      <th></th>\n      <th></th>\n    </tr>\n  </thead>\n  <tbody>\n    <tr>\n      <th rowspan=\"2\" valign=\"top\">0</th>\n      <th>0</th>\n      <td>22.552498</td>\n      <td>5.870492</td>\n      <td>132.394257</td>\n    </tr>\n    <tr>\n      <th>1</th>\n      <td>5.228546</td>\n      <td>21.427301</td>\n      <td>112.033634</td>\n    </tr>\n    <tr>\n      <th rowspan=\"2\" valign=\"top\">1</th>\n      <th>0</th>\n      <td>38.548625</td>\n      <td>7.918541</td>\n      <td>305.248878</td>\n    </tr>\n    <tr>\n      <th>1</th>\n      <td>62.467051</td>\n      <td>7.953112</td>\n      <td>496.807424</td>\n    </tr>\n    <tr>\n      <th>2</th>\n      <th>0</th>\n      <td>3.178833</td>\n      <td>39.250315</td>\n      <td>124.770209</td>\n    </tr>\n    <tr>\n      <th>...</th>\n      <th>...</th>\n      <td>...</td>\n      <td>...</td>\n      <td>...</td>\n    </tr>\n    <tr>\n      <th rowspan=\"3\" valign=\"top\">1579</th>\n      <th>0</th>\n      <td>3.493772</td>\n      <td>4.570633</td>\n      <td>15.968747</td>\n    </tr>\n    <tr>\n      <th>1</th>\n      <td>18.792630</td>\n      <td>4.675777</td>\n      <td>87.870153</td>\n    </tr>\n    <tr>\n      <th>2</th>\n      <td>16.111396</td>\n      <td>5.033818</td>\n      <td>81.101840</td>\n    </tr>\n    <tr>\n      <th rowspan=\"2\" valign=\"top\">1580</th>\n      <th>0</th>\n      <td>6.328077</td>\n      <td>19.473932</td>\n      <td>123.232546</td>\n    </tr>\n    <tr>\n      <th>1</th>\n      <td>7.377625</td>\n      <td>15.924335</td>\n      <td>117.483770</td>\n    </tr>\n  </tbody>\n</table>\n<p>2906 rows × 3 columns</p>\n</div>"
     },
     "execution_count": 11,
     "metadata": {},
     "output_type": "execute_result"
    }
   ],
   "source": [
    "df[['P', 'DCA', 'pDCA']]"
   ],
   "metadata": {
    "collapsed": false,
    "pycharm": {
     "name": "#%%\n"
    }
   }
  },
  {
   "cell_type": "code",
   "execution_count": 13,
   "outputs": [],
   "source": [
    "N_cut = 4\n",
    "df['s_pxDCA'] = df.apply(lambda x : Cut.sigma_pxDCA(x['P'], x['thetaAbs'], N=N_cut), axis=1)"
   ],
   "metadata": {
    "collapsed": false,
    "pycharm": {
     "name": "#%%\n"
    }
   }
  },
  {
   "cell_type": "code",
   "execution_count": 14,
   "outputs": [
    {
     "name": "stdout",
     "output_type": "stream",
     "text": [
      "This cut rejects 7.46 % of the statistics\n",
      "Max number of possible muons pairs : 82321\n"
     ]
    }
   ],
   "source": [
    "df = Cut.cut_pDCA(df, N_cut)\n",
    "de.max_muons_pairs(df)"
   ],
   "metadata": {
    "collapsed": false,
    "pycharm": {
     "name": "#%%\n"
    }
   }
  },
  {
   "cell_type": "code",
   "execution_count": 32,
   "outputs": [
    {
     "data": {
      "text/plain": "                        E        Px        Py         Pz  Charge  thetaAbs  \\\nentry subentry                                                               \n0     0         24.952721 -1.378636  1.039364 -24.892694      -1  3.947988   \n      1          7.629278 -0.342053 -0.248072  -7.616835       1  3.401121   \n2     0          6.179737  0.252741 -0.019221  -6.173632      -1  2.572474   \n      1         17.015997 -1.085680 -1.148373 -16.942123       1  5.207280   \n3     0         10.221761 -0.539462 -0.282722 -10.203053       1  3.385718   \n...                   ...       ...       ...        ...     ...       ...   \n85864 2          6.055975  0.298023  0.266691  -6.041831       1  3.975049   \n85866 0          6.571306 -0.273575 -0.017310  -6.564736      -1  2.490599   \n      1          5.076169 -0.159755  0.687732  -5.025717      -1  7.634235   \n85867 0         56.574596  2.817894  1.663009 -56.479801       1  3.336261   \n      1         32.024700  2.023036  0.518164 -31.956362      -1  3.756127   \n\n                     xDCA       yDCA      zDCA       eta          P  \\\nentry subentry                                                        \n0     0         -0.099592  -0.385877 -5.856949 -3.362807  22.552498   \n      1         18.861176   8.311524 -5.856949 -3.585748   5.228546   \n2     0         16.769291  35.193218 -4.562401 -3.886364   3.178833   \n      1         -1.455813  -1.843493 -4.562401 -3.067481  14.615669   \n3     0         15.012245 -19.045557  3.036174 -3.512566   7.821215   \n...                   ...        ...       ...       ...        ...   \n85864 2        -11.712676  -5.151886  0.976765 -3.409419   3.655053   \n85866 0         35.016857  30.287893 -3.547436 -3.869478   3.570457   \n      1         27.622868   9.959803 -3.547436 -2.660693   2.675069   \n85867 0         -0.272721  -0.221081 -2.165346 -3.542460  54.174500   \n      1         -0.813806  -0.307710 -2.165346 -3.422214  29.624525   \n\n                      DCA        pDCA    s_pxDCA  \nentry subentry                                    \n0     0          5.870492  132.394257  56.272847  \n      1         21.427301  112.033634  54.469706  \n2     0         39.250315  124.770209  80.411387  \n      1          5.131605   75.001837  55.400921  \n3     0         24.440113  191.151369  54.715767  \n...                   ...         ...        ...  \n85864 2         12.832879   46.904849  54.324596  \n85866 0         46.434051  165.790785  80.462687  \n      1         29.577099   79.120795  54.235847  \n85867 0          2.193622  118.838362  60.443615  \n      1          2.333600   69.131795  57.112016  \n\n[145690 rows x 14 columns]",
      "text/html": "<div>\n<style scoped>\n    .dataframe tbody tr th:only-of-type {\n        vertical-align: middle;\n    }\n\n    .dataframe tbody tr th {\n        vertical-align: top;\n    }\n\n    .dataframe thead th {\n        text-align: right;\n    }\n</style>\n<table border=\"1\" class=\"dataframe\">\n  <thead>\n    <tr style=\"text-align: right;\">\n      <th></th>\n      <th></th>\n      <th>E</th>\n      <th>Px</th>\n      <th>Py</th>\n      <th>Pz</th>\n      <th>Charge</th>\n      <th>thetaAbs</th>\n      <th>xDCA</th>\n      <th>yDCA</th>\n      <th>zDCA</th>\n      <th>eta</th>\n      <th>P</th>\n      <th>DCA</th>\n      <th>pDCA</th>\n      <th>s_pxDCA</th>\n    </tr>\n    <tr>\n      <th>entry</th>\n      <th>subentry</th>\n      <th></th>\n      <th></th>\n      <th></th>\n      <th></th>\n      <th></th>\n      <th></th>\n      <th></th>\n      <th></th>\n      <th></th>\n      <th></th>\n      <th></th>\n      <th></th>\n      <th></th>\n      <th></th>\n    </tr>\n  </thead>\n  <tbody>\n    <tr>\n      <th rowspan=\"2\" valign=\"top\">0</th>\n      <th>0</th>\n      <td>24.952721</td>\n      <td>-1.378636</td>\n      <td>1.039364</td>\n      <td>-24.892694</td>\n      <td>-1</td>\n      <td>3.947988</td>\n      <td>-0.099592</td>\n      <td>-0.385877</td>\n      <td>-5.856949</td>\n      <td>-3.362807</td>\n      <td>22.552498</td>\n      <td>5.870492</td>\n      <td>132.394257</td>\n      <td>56.272847</td>\n    </tr>\n    <tr>\n      <th>1</th>\n      <td>7.629278</td>\n      <td>-0.342053</td>\n      <td>-0.248072</td>\n      <td>-7.616835</td>\n      <td>1</td>\n      <td>3.401121</td>\n      <td>18.861176</td>\n      <td>8.311524</td>\n      <td>-5.856949</td>\n      <td>-3.585748</td>\n      <td>5.228546</td>\n      <td>21.427301</td>\n      <td>112.033634</td>\n      <td>54.469706</td>\n    </tr>\n    <tr>\n      <th rowspan=\"2\" valign=\"top\">2</th>\n      <th>0</th>\n      <td>6.179737</td>\n      <td>0.252741</td>\n      <td>-0.019221</td>\n      <td>-6.173632</td>\n      <td>-1</td>\n      <td>2.572474</td>\n      <td>16.769291</td>\n      <td>35.193218</td>\n      <td>-4.562401</td>\n      <td>-3.886364</td>\n      <td>3.178833</td>\n      <td>39.250315</td>\n      <td>124.770209</td>\n      <td>80.411387</td>\n    </tr>\n    <tr>\n      <th>1</th>\n      <td>17.015997</td>\n      <td>-1.085680</td>\n      <td>-1.148373</td>\n      <td>-16.942123</td>\n      <td>1</td>\n      <td>5.207280</td>\n      <td>-1.455813</td>\n      <td>-1.843493</td>\n      <td>-4.562401</td>\n      <td>-3.067481</td>\n      <td>14.615669</td>\n      <td>5.131605</td>\n      <td>75.001837</td>\n      <td>55.400921</td>\n    </tr>\n    <tr>\n      <th>3</th>\n      <th>0</th>\n      <td>10.221761</td>\n      <td>-0.539462</td>\n      <td>-0.282722</td>\n      <td>-10.203053</td>\n      <td>1</td>\n      <td>3.385718</td>\n      <td>15.012245</td>\n      <td>-19.045557</td>\n      <td>3.036174</td>\n      <td>-3.512566</td>\n      <td>7.821215</td>\n      <td>24.440113</td>\n      <td>191.151369</td>\n      <td>54.715767</td>\n    </tr>\n    <tr>\n      <th>...</th>\n      <th>...</th>\n      <td>...</td>\n      <td>...</td>\n      <td>...</td>\n      <td>...</td>\n      <td>...</td>\n      <td>...</td>\n      <td>...</td>\n      <td>...</td>\n      <td>...</td>\n      <td>...</td>\n      <td>...</td>\n      <td>...</td>\n      <td>...</td>\n      <td>...</td>\n    </tr>\n    <tr>\n      <th>85864</th>\n      <th>2</th>\n      <td>6.055975</td>\n      <td>0.298023</td>\n      <td>0.266691</td>\n      <td>-6.041831</td>\n      <td>1</td>\n      <td>3.975049</td>\n      <td>-11.712676</td>\n      <td>-5.151886</td>\n      <td>0.976765</td>\n      <td>-3.409419</td>\n      <td>3.655053</td>\n      <td>12.832879</td>\n      <td>46.904849</td>\n      <td>54.324596</td>\n    </tr>\n    <tr>\n      <th rowspan=\"2\" valign=\"top\">85866</th>\n      <th>0</th>\n      <td>6.571306</td>\n      <td>-0.273575</td>\n      <td>-0.017310</td>\n      <td>-6.564736</td>\n      <td>-1</td>\n      <td>2.490599</td>\n      <td>35.016857</td>\n      <td>30.287893</td>\n      <td>-3.547436</td>\n      <td>-3.869478</td>\n      <td>3.570457</td>\n      <td>46.434051</td>\n      <td>165.790785</td>\n      <td>80.462687</td>\n    </tr>\n    <tr>\n      <th>1</th>\n      <td>5.076169</td>\n      <td>-0.159755</td>\n      <td>0.687732</td>\n      <td>-5.025717</td>\n      <td>-1</td>\n      <td>7.634235</td>\n      <td>27.622868</td>\n      <td>9.959803</td>\n      <td>-3.547436</td>\n      <td>-2.660693</td>\n      <td>2.675069</td>\n      <td>29.577099</td>\n      <td>79.120795</td>\n      <td>54.235847</td>\n    </tr>\n    <tr>\n      <th rowspan=\"2\" valign=\"top\">85867</th>\n      <th>0</th>\n      <td>56.574596</td>\n      <td>2.817894</td>\n      <td>1.663009</td>\n      <td>-56.479801</td>\n      <td>1</td>\n      <td>3.336261</td>\n      <td>-0.272721</td>\n      <td>-0.221081</td>\n      <td>-2.165346</td>\n      <td>-3.542460</td>\n      <td>54.174500</td>\n      <td>2.193622</td>\n      <td>118.838362</td>\n      <td>60.443615</td>\n    </tr>\n    <tr>\n      <th>1</th>\n      <td>32.024700</td>\n      <td>2.023036</td>\n      <td>0.518164</td>\n      <td>-31.956362</td>\n      <td>-1</td>\n      <td>3.756127</td>\n      <td>-0.813806</td>\n      <td>-0.307710</td>\n      <td>-2.165346</td>\n      <td>-3.422214</td>\n      <td>29.624525</td>\n      <td>2.333600</td>\n      <td>69.131795</td>\n      <td>57.112016</td>\n    </tr>\n  </tbody>\n</table>\n<p>145690 rows × 14 columns</p>\n</div>"
     },
     "execution_count": 32,
     "metadata": {},
     "output_type": "execute_result"
    }
   ],
   "source": [
    "df"
   ],
   "metadata": {
    "collapsed": false,
    "pycharm": {
     "name": "#%%\n"
    }
   }
  },
  {
   "cell_type": "code",
   "execution_count": null,
   "outputs": [],
   "source": [
    "counts = Counter(list(df.index.get_level_values(0)))\n",
    "\n",
    "ind_2 = [k for k, v in counts.items() if v ==2 ]\n",
    "ind_others = [k for k, v in counts.items() if v > 2 ]"
   ],
   "metadata": {
    "collapsed": false,
    "pycharm": {
     "name": "#%%\n"
    }
   }
  },
  {
   "cell_type": "markdown",
   "source": [
    "**Di-muons filtering and computation of the invariance mass $M_{inv}$**"
   ],
   "metadata": {
    "collapsed": false
   }
  },
  {
   "cell_type": "code",
   "execution_count": 18,
   "outputs": [],
   "source": [
    "args = ['E', 'Px', 'Py', 'Pz', 'Charge']"
   ],
   "metadata": {
    "collapsed": false,
    "pycharm": {
     "name": "#%%\n"
    }
   }
  },
  {
   "cell_type": "markdown",
   "source": [
    "We can now compute the invariance mass of each di-muons."
   ],
   "metadata": {
    "collapsed": false,
    "pycharm": {
     "name": "#%% md\n"
    }
   }
  },
  {
   "cell_type": "code",
   "execution_count": 19,
   "outputs": [
    {
     "name": "stderr",
     "output_type": "stream",
     "text": [
      "100%|██████████| 69848/69848 [04:27<00:00, 260.63it/s]\n"
     ]
    },
    {
     "name": "stdout",
     "output_type": "stream",
     "text": [
      "Execution time : 276.04\n",
      "Total number of di-muons event  68806\n"
     ]
    }
   ],
   "source": [
    "t0 = time()\n",
    "M_inv = []\n",
    "for idx, data in tqdm(df[args].groupby(level=0)):\n",
    "    if len(data) == 2:\n",
    "        if data.Charge.sum() == 0:\n",
    "            y = km.y(data.E.sum(), data.Pz.sum())\n",
    "            if Cut.y_cut(y):\n",
    "                tab = data.to_numpy()[:, 0:-1]\n",
    "                E1, E2 = tab[:,0]\n",
    "                P1, P2 = tab[0, 1:],tab[1, 1:]\n",
    "                M_inv.append(km.inv_mass(E1, E2, P1, P2))\n",
    "    else:\n",
    "        tab = data.to_numpy()\n",
    "        for c in combinations(np.arange(len(data)), 2): # we try every combination of di-muons\n",
    "            if tab[c, -1].sum()==0: # opposite charges\n",
    "                # r1, r2 = c\n",
    "                E1, E2 = tab[c, 0] # extraction of the energy\n",
    "                P1, P2 = tab[c, 1:-1] # extraction of the impulsion\n",
    "                M_inv.append(km.inv_mass(E1, E2, P1, P2))\n",
    "\n",
    "print(f'Execution time : {round(time()-t0, 2)}')\n",
    "print(f'Total number of di-muons event : {len(M_inv)}')"
   ],
   "metadata": {
    "collapsed": false,
    "pycharm": {
     "name": "#%%\n"
    }
   }
  },
  {
   "cell_type": "code",
   "execution_count": 20,
   "outputs": [],
   "source": [
    "M_inv = np.array(M_inv)\n",
    "np.savetxt('M_inv', M_inv)"
   ],
   "metadata": {
    "collapsed": false,
    "pycharm": {
     "name": "#%%\n"
    }
   }
  },
  {
   "cell_type": "markdown",
   "source": [
    "**Plot of the invariance mass**"
   ],
   "metadata": {
    "collapsed": false,
    "pycharm": {
     "name": "#%% md\n"
    }
   }
  },
  {
   "cell_type": "code",
   "execution_count": 31,
   "outputs": [
    {
     "data": {
      "text/plain": "<Figure size 864x576 with 1 Axes>",
      "image/png": "[encoded data removed]"
     },
     "metadata": {
      "needs_background": "light"
     },
     "output_type": "display_data"
    }
   ],
   "source": [
    "bins = np.linspace(1.5, 5, 36) # width = 0.1 GeV\n",
    "plt.figure(figsize=(12,8))\n",
    "plt.xlim(1.5,5)\n",
    "plt.semilogy()\n",
    "plt.xlabel(\"$m_{\\mu\\mu}$ (GeV)\", fontweight='bold', fontsize=12)\n",
    "h = plt.hist(M_inv, bins=bins, range=[1.5,5], histtype='step', align='mid')"
   ],
   "metadata": {
    "collapsed": false,
    "pycharm": {
     "name": "#%%\n"
    }
   }
  },
  {
   "cell_type": "markdown",
   "source": [
    "**Let's fit that a bit**"
   ],
   "metadata": {
    "collapsed": false,
    "pycharm": {
     "name": "#%% md\n"
    }
   }
  },
  {
   "cell_type": "code",
   "execution_count": 22,
   "outputs": [],
   "source": [
    "from scipy.optimize import curve_fit\n",
    "from scipy.stats import crystalball\n",
    "from itertools import pairwise"
   ],
   "metadata": {
    "collapsed": false,
    "pycharm": {
     "name": "#%%\n"
    }
   }
  },
  {
   "cell_type": "markdown",
   "source": [
    "First we select the data corresponding to the mass excess"
   ],
   "metadata": {
    "collapsed": false,
    "pycharm": {
     "name": "#%% md\n"
    }
   }
  },
  {
   "cell_type": "code",
   "execution_count": 23,
   "outputs": [],
   "source": [
    "x_c = np.array([(x1 + x2)/2 for x1, x2 in pairwise(h[1])])"
   ],
   "metadata": {
    "collapsed": false,
    "pycharm": {
     "name": "#%%\n"
    }
   }
  },
  {
   "cell_type": "code",
   "execution_count": 24,
   "outputs": [],
   "source": [
    "m, y = np.array([(x1 + x2)/2 for x1, x2 in pairwise(h[1])]), h[0]\n",
    "\n",
    "m_min, m_max = 2.7, 3.4 # range of the mass excess\n",
    "\n",
    "i_min = np.where(m > m_min)[0][0]\n",
    "i_max = np.where(m < m_max)[0][-1]\n",
    "\n",
    "x_JP, y_JP = m[i_min:i_max+1], y[i_min:i_max+1]"
   ],
   "metadata": {
    "collapsed": false,
    "pycharm": {
     "name": "#%%\n"
    }
   }
  },
  {
   "cell_type": "code",
   "execution_count": 25,
   "outputs": [],
   "source": [
    "idx = [i for i in range(i_min)] + [i for i in range(i_max, len(x))]\n",
    "x_without_JP = m[idx]\n",
    "y_without_JP = y[idx]"
   ],
   "metadata": {
    "collapsed": false,
    "pycharm": {
     "name": "#%%\n"
    }
   }
  },
  {
   "cell_type": "markdown",
   "source": [
    "We now want to fit the background with a double exponential function"
   ],
   "metadata": {
    "collapsed": false,
    "pycharm": {
     "name": "#%% md\n"
    }
   }
  },
  {
   "cell_type": "code",
   "execution_count": 26,
   "outputs": [],
   "source": [
    "def double_exp(z, A, k1, k2):\n",
    "    return A * np.exp(-k1 * z) + np.exp(-k2 * z)"
   ],
   "metadata": {
    "collapsed": false,
    "pycharm": {
     "name": "#%%\n"
    }
   }
  },
  {
   "cell_type": "code",
   "execution_count": 27,
   "outputs": [
    {
     "name": "stderr",
     "output_type": "stream",
     "text": [
      "C:\\Users\\matte\\AppData\\Local\\Programs\\Python\\Python310\\lib\\site-packages\\scipy\\optimize\\minpack.py:833: OptimizeWarning: Covariance of the parameters could not be estimated\n",
      "  warnings.warn('Covariance of the parameters could not be estimated',\n"
     ]
    }
   ],
   "source": [
    "a, t1, t2 = curve_fit(double_exp, x_without_JP, y_without_JP)[0]"
   ],
   "metadata": {
    "collapsed": false,
    "pycharm": {
     "name": "#%%\n"
    }
   }
  },
  {
   "cell_type": "code",
   "execution_count": 29,
   "outputs": [
    {
     "data": {
      "text/plain": "Text(0.5, 1.0, 'Fit of the background')"
     },
     "execution_count": 29,
     "metadata": {},
     "output_type": "execute_result"
    },
    {
     "data": {
      "text/plain": "<Figure size 432x288 with 1 Axes>",
      "image/png": "[encoded data removed]"
     },
     "metadata": {
      "needs_background": "light"
     },
     "output_type": "display_data"
    }
   ],
   "source": [
    "plt.scatter(x_without_JP, y_without_JP, marker='s')\n",
    "plt.plot(x_without_JP, double_exp(x_without_JP, a, t1, t2), c='r')\n",
    "plt.semilogy()\n",
    "plt.title('Fit of the background')"
   ],
   "metadata": {
    "collapsed": false,
    "pycharm": {
     "name": "#%%\n"
    }
   }
  },
  {
   "cell_type": "markdown",
   "source": [
    "We can now plot the histogram and the difference between the signal and the fitted background"
   ],
   "metadata": {
    "collapsed": false,
    "pycharm": {
     "name": "#%% md\n"
    }
   }
  },
  {
   "cell_type": "code",
   "execution_count": 30,
   "outputs": [
    {
     "data": {
      "text/plain": "Text(0.05, 0.5, 'Counts per 0.1 GeV')"
     },
     "execution_count": 30,
     "metadata": {},
     "output_type": "execute_result"
    },
    {
     "data": {
      "text/plain": "<Figure size 864x576 with 2 Axes>",
      "image/png": "[encoded data removed]"
     },
     "metadata": {
      "needs_background": "light"
     },
     "output_type": "display_data"
    }
   ],
   "source": [
    "t = np.linspace(1.5, 5, 101)\n",
    "fig, ax = plt.subplots(2,1, sharex=True, gridspec_kw={'height_ratios': [3,1]}, figsize=(12,8))\n",
    "fig.suptitle(f'Run number {run_number}', fontsize=15, fontweight='bold')\n",
    "ax[0].set_xlim(1.5,4.5)\n",
    "ax[0].semilogy()\n",
    "ax[0].set_ylim(9,3e3)\n",
    "ax[0].set_xlabel(\"$m_{\\mu\\mu}$ (GeV)\", fontweight='bold', fontsize=12)\n",
    "ax[0].hist(M_inv, bins=bins, range=[1.5,5], histtype='step', align='mid')\n",
    "ax[0].plot(t, double_exp(t, a, t1, t2), c='orange', linestyle='dashed', alpha=0.8, label='Background fit')\n",
    "leg = ax[0].legend(fontsize=12)\n",
    "leg.get_frame().set_linewidth(2.0)\n",
    "ax[0].grid(linestyle='dashed', alpha=0.8)\n",
    "\n",
    "ax[1].scatter(x_c, h[0] - double_exp(x, a, t1, t2), marker='s')\n",
    "ax[1].set_ylim(-100,890)\n",
    "ax[1].axhline(0, c='r', linestyle='dashed')\n",
    "ax[1].grid(linestyle='dashed', alpha=0.8)\n",
    "plt.subplots_adjust(wspace=0, hspace=0)\n",
    "\n",
    "fig.text(0.5, 0.01, '$M_{\\mu\\mu}$ (GeV/$c^2$)', ha='center', fontsize=15)\n",
    "fig.text(0.05, 0.5, 'Counts per 0.1 GeV', ha='center', fontsize=15, rotation='vertical')"
   ],
   "metadata": {
    "collapsed": false,
    "pycharm": {
     "name": "#%%\n"
    }
   }
  },
  {
   "cell_type": "code",
   "execution_count": 33,
   "outputs": [
    {
     "data": {
      "text/plain": "                        E        Px        Py         Pz  Charge  thetaAbs  \\\nentry subentry                                                               \n0     0         24.952721 -1.378636  1.039364 -24.892694      -1  3.947988   \n      1          7.629278 -0.342053 -0.248072  -7.616835       1  3.401121   \n2     0          6.179737  0.252741 -0.019221  -6.173632      -1  2.572474   \n      1         17.015997 -1.085680 -1.148373 -16.942123       1  5.207280   \n3     0         10.221761 -0.539462 -0.282722 -10.203053       1  3.385718   \n...                   ...       ...       ...        ...     ...       ...   \n85864 2          6.055975  0.298023  0.266691  -6.041831       1  3.975049   \n85866 0          6.571306 -0.273575 -0.017310  -6.564736      -1  2.490599   \n      1          5.076169 -0.159755  0.687732  -5.025717      -1  7.634235   \n85867 0         56.574596  2.817894  1.663009 -56.479801       1  3.336261   \n      1         32.024700  2.023036  0.518164 -31.956362      -1  3.756127   \n\n                     xDCA       yDCA      zDCA       eta          P  \\\nentry subentry                                                        \n0     0         -0.099592  -0.385877 -5.856949 -3.362807  22.552498   \n      1         18.861176   8.311524 -5.856949 -3.585748   5.228546   \n2     0         16.769291  35.193218 -4.562401 -3.886364   3.178833   \n      1         -1.455813  -1.843493 -4.562401 -3.067481  14.615669   \n3     0         15.012245 -19.045557  3.036174 -3.512566   7.821215   \n...                   ...        ...       ...       ...        ...   \n85864 2        -11.712676  -5.151886  0.976765 -3.409419   3.655053   \n85866 0         35.016857  30.287893 -3.547436 -3.869478   3.570457   \n      1         27.622868   9.959803 -3.547436 -2.660693   2.675069   \n85867 0         -0.272721  -0.221081 -2.165346 -3.542460  54.174500   \n      1         -0.813806  -0.307710 -2.165346 -3.422214  29.624525   \n\n                      DCA        pDCA    s_pxDCA  \nentry subentry                                    \n0     0          5.870492  132.394257  56.272847  \n      1         21.427301  112.033634  54.469706  \n2     0         39.250315  124.770209  80.411387  \n      1          5.131605   75.001837  55.400921  \n3     0         24.440113  191.151369  54.715767  \n...                   ...         ...        ...  \n85864 2         12.832879   46.904849  54.324596  \n85866 0         46.434051  165.790785  80.462687  \n      1         29.577099   79.120795  54.235847  \n85867 0          2.193622  118.838362  60.443615  \n      1          2.333600   69.131795  57.112016  \n\n[145690 rows x 14 columns]",
      "text/html": "<div>\n<style scoped>\n    .dataframe tbody tr th:only-of-type {\n        vertical-align: middle;\n    }\n\n    .dataframe tbody tr th {\n        vertical-align: top;\n    }\n\n    .dataframe thead th {\n        text-align: right;\n    }\n</style>\n<table border=\"1\" class=\"dataframe\">\n  <thead>\n    <tr style=\"text-align: right;\">\n      <th></th>\n      <th></th>\n      <th>E</th>\n      <th>Px</th>\n      <th>Py</th>\n      <th>Pz</th>\n      <th>Charge</th>\n      <th>thetaAbs</th>\n      <th>xDCA</th>\n      <th>yDCA</th>\n      <th>zDCA</th>\n      <th>eta</th>\n      <th>P</th>\n      <th>DCA</th>\n      <th>pDCA</th>\n      <th>s_pxDCA</th>\n    </tr>\n    <tr>\n      <th>entry</th>\n      <th>subentry</th>\n      <th></th>\n      <th></th>\n      <th></th>\n      <th></th>\n      <th></th>\n      <th></th>\n      <th></th>\n      <th></th>\n      <th></th>\n      <th></th>\n      <th></th>\n      <th></th>\n      <th></th>\n      <th></th>\n    </tr>\n  </thead>\n  <tbody>\n    <tr>\n      <th rowspan=\"2\" valign=\"top\">0</th>\n      <th>0</th>\n      <td>24.952721</td>\n      <td>-1.378636</td>\n      <td>1.039364</td>\n      <td>-24.892694</td>\n      <td>-1</td>\n      <td>3.947988</td>\n      <td>-0.099592</td>\n      <td>-0.385877</td>\n      <td>-5.856949</td>\n      <td>-3.362807</td>\n      <td>22.552498</td>\n      <td>5.870492</td>\n      <td>132.394257</td>\n      <td>56.272847</td>\n    </tr>\n    <tr>\n      <th>1</th>\n      <td>7.629278</td>\n      <td>-0.342053</td>\n      <td>-0.248072</td>\n      <td>-7.616835</td>\n      <td>1</td>\n      <td>3.401121</td>\n      <td>18.861176</td>\n      <td>8.311524</td>\n      <td>-5.856949</td>\n      <td>-3.585748</td>\n      <td>5.228546</td>\n      <td>21.427301</td>\n      <td>112.033634</td>\n      <td>54.469706</td>\n    </tr>\n    <tr>\n      <th rowspan=\"2\" valign=\"top\">2</th>\n      <th>0</th>\n      <td>6.179737</td>\n      <td>0.252741</td>\n      <td>-0.019221</td>\n      <td>-6.173632</td>\n      <td>-1</td>\n      <td>2.572474</td>\n      <td>16.769291</td>\n      <td>35.193218</td>\n      <td>-4.562401</td>\n      <td>-3.886364</td>\n      <td>3.178833</td>\n      <td>39.250315</td>\n      <td>124.770209</td>\n      <td>80.411387</td>\n    </tr>\n    <tr>\n      <th>1</th>\n      <td>17.015997</td>\n      <td>-1.085680</td>\n      <td>-1.148373</td>\n      <td>-16.942123</td>\n      <td>1</td>\n      <td>5.207280</td>\n      <td>-1.455813</td>\n      <td>-1.843493</td>\n      <td>-4.562401</td>\n      <td>-3.067481</td>\n      <td>14.615669</td>\n      <td>5.131605</td>\n      <td>75.001837</td>\n      <td>55.400921</td>\n    </tr>\n    <tr>\n      <th>3</th>\n      <th>0</th>\n      <td>10.221761</td>\n      <td>-0.539462</td>\n      <td>-0.282722</td>\n      <td>-10.203053</td>\n      <td>1</td>\n      <td>3.385718</td>\n      <td>15.012245</td>\n      <td>-19.045557</td>\n      <td>3.036174</td>\n      <td>-3.512566</td>\n      <td>7.821215</td>\n      <td>24.440113</td>\n      <td>191.151369</td>\n      <td>54.715767</td>\n    </tr>\n    <tr>\n      <th>...</th>\n      <th>...</th>\n      <td>...</td>\n      <td>...</td>\n      <td>...</td>\n      <td>...</td>\n      <td>...</td>\n      <td>...</td>\n      <td>...</td>\n      <td>...</td>\n      <td>...</td>\n      <td>...</td>\n      <td>...</td>\n      <td>...</td>\n      <td>...</td>\n      <td>...</td>\n    </tr>\n    <tr>\n      <th>85864</th>\n      <th>2</th>\n      <td>6.055975</td>\n      <td>0.298023</td>\n      <td>0.266691</td>\n      <td>-6.041831</td>\n      <td>1</td>\n      <td>3.975049</td>\n      <td>-11.712676</td>\n      <td>-5.151886</td>\n      <td>0.976765</td>\n      <td>-3.409419</td>\n      <td>3.655053</td>\n      <td>12.832879</td>\n      <td>46.904849</td>\n      <td>54.324596</td>\n    </tr>\n    <tr>\n      <th rowspan=\"2\" valign=\"top\">85866</th>\n      <th>0</th>\n      <td>6.571306</td>\n      <td>-0.273575</td>\n      <td>-0.017310</td>\n      <td>-6.564736</td>\n      <td>-1</td>\n      <td>2.490599</td>\n      <td>35.016857</td>\n      <td>30.287893</td>\n      <td>-3.547436</td>\n      <td>-3.869478</td>\n      <td>3.570457</td>\n      <td>46.434051</td>\n      <td>165.790785</td>\n      <td>80.462687</td>\n    </tr>\n    <tr>\n      <th>1</th>\n      <td>5.076169</td>\n      <td>-0.159755</td>\n      <td>0.687732</td>\n      <td>-5.025717</td>\n      <td>-1</td>\n      <td>7.634235</td>\n      <td>27.622868</td>\n      <td>9.959803</td>\n      <td>-3.547436</td>\n      <td>-2.660693</td>\n      <td>2.675069</td>\n      <td>29.577099</td>\n      <td>79.120795</td>\n      <td>54.235847</td>\n    </tr>\n    <tr>\n      <th rowspan=\"2\" valign=\"top\">85867</th>\n      <th>0</th>\n      <td>56.574596</td>\n      <td>2.817894</td>\n      <td>1.663009</td>\n      <td>-56.479801</td>\n      <td>1</td>\n      <td>3.336261</td>\n      <td>-0.272721</td>\n      <td>-0.221081</td>\n      <td>-2.165346</td>\n      <td>-3.542460</td>\n      <td>54.174500</td>\n      <td>2.193622</td>\n      <td>118.838362</td>\n      <td>60.443615</td>\n    </tr>\n    <tr>\n      <th>1</th>\n      <td>32.024700</td>\n      <td>2.023036</td>\n      <td>0.518164</td>\n      <td>-31.956362</td>\n      <td>-1</td>\n      <td>3.756127</td>\n      <td>-0.813806</td>\n      <td>-0.307710</td>\n      <td>-2.165346</td>\n      <td>-3.422214</td>\n      <td>29.624525</td>\n      <td>2.333600</td>\n      <td>69.131795</td>\n      <td>57.112016</td>\n    </tr>\n  </tbody>\n</table>\n<p>145690 rows × 14 columns</p>\n</div>"
     },
     "execution_count": 33,
     "metadata": {},
     "output_type": "execute_result"
    }
   ],
   "source": [
    "df"
   ],
   "metadata": {
    "collapsed": false,
    "pycharm": {
     "name": "#%%\n"
    }
   }
  },
  {
   "cell_type": "code",
   "execution_count": 34,
   "outputs": [
    {
     "ename": "AttributeError",
     "evalue": "module 'ProjectPackage.Kinematic' has no attribute 'p_T'",
     "output_type": "error",
     "traceback": [
      "\u001B[1;31m---------------------------------------------------------------------------\u001B[0m",
      "\u001B[1;31mAttributeError\u001B[0m                            Traceback (most recent call last)",
      "\u001B[1;32m~\\AppData\\Local\\Temp/ipykernel_9512/1305006994.py\u001B[0m in \u001B[0;36m<module>\u001B[1;34m\u001B[0m\n\u001B[1;32m----> 1\u001B[1;33m \u001B[0mdf\u001B[0m\u001B[1;33m[\u001B[0m\u001B[1;34m'p_T'\u001B[0m\u001B[1;33m]\u001B[0m \u001B[1;33m=\u001B[0m \u001B[0mdf\u001B[0m\u001B[1;33m.\u001B[0m\u001B[0mapply\u001B[0m\u001B[1;33m(\u001B[0m\u001B[1;32mlambda\u001B[0m \u001B[0mx\u001B[0m \u001B[1;33m:\u001B[0m \u001B[0mkm\u001B[0m\u001B[1;33m.\u001B[0m\u001B[0mp_T\u001B[0m\u001B[1;33m(\u001B[0m\u001B[0mx\u001B[0m\u001B[1;33m[\u001B[0m\u001B[1;34m\"Px\"\u001B[0m\u001B[1;33m]\u001B[0m\u001B[1;33m,\u001B[0m \u001B[0mx\u001B[0m\u001B[1;33m[\u001B[0m\u001B[1;34m\"Py\"\u001B[0m\u001B[1;33m]\u001B[0m\u001B[1;33m)\u001B[0m\u001B[1;33m)\u001B[0m\u001B[1;33m\u001B[0m\u001B[1;33m\u001B[0m\u001B[0m\n\u001B[0m",
      "\u001B[1;32m~\\AppData\\Local\\Programs\\Python\\Python310\\lib\\site-packages\\pandas\\core\\frame.py\u001B[0m in \u001B[0;36mapply\u001B[1;34m(self, func, axis, raw, result_type, args, **kwargs)\u001B[0m\n\u001B[0;32m   8738\u001B[0m             \u001B[0mkwargs\u001B[0m\u001B[1;33m=\u001B[0m\u001B[0mkwargs\u001B[0m\u001B[1;33m,\u001B[0m\u001B[1;33m\u001B[0m\u001B[1;33m\u001B[0m\u001B[0m\n\u001B[0;32m   8739\u001B[0m         )\n\u001B[1;32m-> 8740\u001B[1;33m         \u001B[1;32mreturn\u001B[0m \u001B[0mop\u001B[0m\u001B[1;33m.\u001B[0m\u001B[0mapply\u001B[0m\u001B[1;33m(\u001B[0m\u001B[1;33m)\u001B[0m\u001B[1;33m\u001B[0m\u001B[1;33m\u001B[0m\u001B[0m\n\u001B[0m\u001B[0;32m   8741\u001B[0m \u001B[1;33m\u001B[0m\u001B[0m\n\u001B[0;32m   8742\u001B[0m     def applymap(\n",
      "\u001B[1;32m~\\AppData\\Local\\Programs\\Python\\Python310\\lib\\site-packages\\pandas\\core\\apply.py\u001B[0m in \u001B[0;36mapply\u001B[1;34m(self)\u001B[0m\n\u001B[0;32m    686\u001B[0m             \u001B[1;32mreturn\u001B[0m \u001B[0mself\u001B[0m\u001B[1;33m.\u001B[0m\u001B[0mapply_raw\u001B[0m\u001B[1;33m(\u001B[0m\u001B[1;33m)\u001B[0m\u001B[1;33m\u001B[0m\u001B[1;33m\u001B[0m\u001B[0m\n\u001B[0;32m    687\u001B[0m \u001B[1;33m\u001B[0m\u001B[0m\n\u001B[1;32m--> 688\u001B[1;33m         \u001B[1;32mreturn\u001B[0m \u001B[0mself\u001B[0m\u001B[1;33m.\u001B[0m\u001B[0mapply_standard\u001B[0m\u001B[1;33m(\u001B[0m\u001B[1;33m)\u001B[0m\u001B[1;33m\u001B[0m\u001B[1;33m\u001B[0m\u001B[0m\n\u001B[0m\u001B[0;32m    689\u001B[0m \u001B[1;33m\u001B[0m\u001B[0m\n\u001B[0;32m    690\u001B[0m     \u001B[1;32mdef\u001B[0m \u001B[0magg\u001B[0m\u001B[1;33m(\u001B[0m\u001B[0mself\u001B[0m\u001B[1;33m)\u001B[0m\u001B[1;33m:\u001B[0m\u001B[1;33m\u001B[0m\u001B[1;33m\u001B[0m\u001B[0m\n",
      "\u001B[1;32m~\\AppData\\Local\\Programs\\Python\\Python310\\lib\\site-packages\\pandas\\core\\apply.py\u001B[0m in \u001B[0;36mapply_standard\u001B[1;34m(self)\u001B[0m\n\u001B[0;32m    810\u001B[0m \u001B[1;33m\u001B[0m\u001B[0m\n\u001B[0;32m    811\u001B[0m     \u001B[1;32mdef\u001B[0m \u001B[0mapply_standard\u001B[0m\u001B[1;33m(\u001B[0m\u001B[0mself\u001B[0m\u001B[1;33m)\u001B[0m\u001B[1;33m:\u001B[0m\u001B[1;33m\u001B[0m\u001B[1;33m\u001B[0m\u001B[0m\n\u001B[1;32m--> 812\u001B[1;33m         \u001B[0mresults\u001B[0m\u001B[1;33m,\u001B[0m \u001B[0mres_index\u001B[0m \u001B[1;33m=\u001B[0m \u001B[0mself\u001B[0m\u001B[1;33m.\u001B[0m\u001B[0mapply_series_generator\u001B[0m\u001B[1;33m(\u001B[0m\u001B[1;33m)\u001B[0m\u001B[1;33m\u001B[0m\u001B[1;33m\u001B[0m\u001B[0m\n\u001B[0m\u001B[0;32m    813\u001B[0m \u001B[1;33m\u001B[0m\u001B[0m\n\u001B[0;32m    814\u001B[0m         \u001B[1;31m# wrap results\u001B[0m\u001B[1;33m\u001B[0m\u001B[1;33m\u001B[0m\u001B[0m\n",
      "\u001B[1;32m~\\AppData\\Local\\Programs\\Python\\Python310\\lib\\site-packages\\pandas\\core\\apply.py\u001B[0m in \u001B[0;36mapply_series_generator\u001B[1;34m(self)\u001B[0m\n\u001B[0;32m    826\u001B[0m             \u001B[1;32mfor\u001B[0m \u001B[0mi\u001B[0m\u001B[1;33m,\u001B[0m \u001B[0mv\u001B[0m \u001B[1;32min\u001B[0m \u001B[0menumerate\u001B[0m\u001B[1;33m(\u001B[0m\u001B[0mseries_gen\u001B[0m\u001B[1;33m)\u001B[0m\u001B[1;33m:\u001B[0m\u001B[1;33m\u001B[0m\u001B[1;33m\u001B[0m\u001B[0m\n\u001B[0;32m    827\u001B[0m                 \u001B[1;31m# ignore SettingWithCopy here in case the user mutates\u001B[0m\u001B[1;33m\u001B[0m\u001B[1;33m\u001B[0m\u001B[0m\n\u001B[1;32m--> 828\u001B[1;33m                 \u001B[0mresults\u001B[0m\u001B[1;33m[\u001B[0m\u001B[0mi\u001B[0m\u001B[1;33m]\u001B[0m \u001B[1;33m=\u001B[0m \u001B[0mself\u001B[0m\u001B[1;33m.\u001B[0m\u001B[0mf\u001B[0m\u001B[1;33m(\u001B[0m\u001B[0mv\u001B[0m\u001B[1;33m)\u001B[0m\u001B[1;33m\u001B[0m\u001B[1;33m\u001B[0m\u001B[0m\n\u001B[0m\u001B[0;32m    829\u001B[0m                 \u001B[1;32mif\u001B[0m \u001B[0misinstance\u001B[0m\u001B[1;33m(\u001B[0m\u001B[0mresults\u001B[0m\u001B[1;33m[\u001B[0m\u001B[0mi\u001B[0m\u001B[1;33m]\u001B[0m\u001B[1;33m,\u001B[0m \u001B[0mABCSeries\u001B[0m\u001B[1;33m)\u001B[0m\u001B[1;33m:\u001B[0m\u001B[1;33m\u001B[0m\u001B[1;33m\u001B[0m\u001B[0m\n\u001B[0;32m    830\u001B[0m                     \u001B[1;31m# If we have a view on v, we need to make a copy because\u001B[0m\u001B[1;33m\u001B[0m\u001B[1;33m\u001B[0m\u001B[0m\n",
      "\u001B[1;32m~\\AppData\\Local\\Temp/ipykernel_9512/1305006994.py\u001B[0m in \u001B[0;36m<lambda>\u001B[1;34m(x)\u001B[0m\n\u001B[1;32m----> 1\u001B[1;33m \u001B[0mdf\u001B[0m\u001B[1;33m[\u001B[0m\u001B[1;34m'p_T'\u001B[0m\u001B[1;33m]\u001B[0m \u001B[1;33m=\u001B[0m \u001B[0mdf\u001B[0m\u001B[1;33m.\u001B[0m\u001B[0mapply\u001B[0m\u001B[1;33m(\u001B[0m\u001B[1;32mlambda\u001B[0m \u001B[0mx\u001B[0m \u001B[1;33m:\u001B[0m \u001B[0mkm\u001B[0m\u001B[1;33m.\u001B[0m\u001B[0mp_T\u001B[0m\u001B[1;33m(\u001B[0m\u001B[0mx\u001B[0m\u001B[1;33m[\u001B[0m\u001B[1;34m\"Px\"\u001B[0m\u001B[1;33m]\u001B[0m\u001B[1;33m,\u001B[0m \u001B[0mx\u001B[0m\u001B[1;33m[\u001B[0m\u001B[1;34m\"Py\"\u001B[0m\u001B[1;33m]\u001B[0m\u001B[1;33m)\u001B[0m\u001B[1;33m)\u001B[0m\u001B[1;33m\u001B[0m\u001B[1;33m\u001B[0m\u001B[0m\n\u001B[0m",
      "\u001B[1;31mAttributeError\u001B[0m: module 'ProjectPackage.Kinematic' has no attribute 'p_T'"
     ]
    }
   ],
   "source": [
    "df['p_T'] = df.apply(lambda x : km.p_T(x[\"Px\"], x[\"Py\"]))"
   ],
   "metadata": {
    "collapsed": false,
    "pycharm": {
     "name": "#%%\n"
    }
   }
  },
  {
   "cell_type": "code",
   "execution_count": null,
   "outputs": [],
   "source": [],
   "metadata": {
    "collapsed": false,
    "pycharm": {
     "name": "#%%\n"
    }
   }
  }
 ],
 "metadata": {
  "kernelspec": {
   "display_name": "Python 3",
   "language": "python",
   "name": "python3"
  },
  "language_info": {
   "codemirror_mode": {
    "name": "ipython",
    "version": 2
   },
   "file_extension": ".py",
   "mimetype": "text/x-python",
   "name": "python",
   "nbconvert_exporter": "python",
   "pygments_lexer": "ipython2",
   "version": "2.7.6"
  }
 },
 "nbformat": 4,
 "nbformat_minor": 0
}
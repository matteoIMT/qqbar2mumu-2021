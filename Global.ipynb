{
 "cells": [
  {
   "cell_type": "markdown",
   "source": [
    "# Global analysis"
   ],
   "metadata": {
    "collapsed": false,
    "pycharm": {
     "name": "#%% md\n"
    }
   }
  },
  {
   "cell_type": "markdown",
   "source": [
    "Explanations on what we are doing here"
   ],
   "metadata": {
    "collapsed": false,
    "pycharm": {
     "name": "#%% md\n"
    }
   }
  },
  {
   "cell_type": "markdown",
   "source": [
    "## Importation of library and functions"
   ],
   "metadata": {
    "collapsed": false,
    "pycharm": {
     "name": "#%% md\n"
    }
   }
  },
  {
   "cell_type": "code",
   "execution_count": 1,
   "outputs": [],
   "source": [
    "import pandas as pd\n",
    "import uproot\n",
    "import awkward as ak\n",
    "import numpy as np\n",
    "import matplotlib\n",
    "import matplotlib.pyplot as plt\n",
    "import os\n",
    "import math"
   ],
   "metadata": {
    "collapsed": false,
    "pycharm": {
     "name": "#%%\n"
    }
   }
  },
  {
   "cell_type": "code",
   "execution_count": 2,
   "outputs": [],
   "source": [
    "from tqdm import tqdm\n",
    "from time import time"
   ],
   "metadata": {
    "collapsed": false,
    "pycharm": {
     "name": "#%%\n"
    }
   }
  },
  {
   "cell_type": "code",
   "execution_count": 3,
   "outputs": [],
   "source": [
    "import Filter"
   ],
   "metadata": {
    "collapsed": false,
    "pycharm": {
     "name": "#%%\n"
    }
   }
  },
  {
   "cell_type": "code",
   "execution_count": 4,
   "outputs": [],
   "source": [
    "import ProjectPackage.DataExtraction as de\n",
    "import ProjectPackage.Kinematic as km\n",
    "from ProjectPackage import Cut"
   ],
   "metadata": {
    "collapsed": false,
    "pycharm": {
     "name": "#%%\n"
    }
   }
  },
  {
   "cell_type": "markdown",
   "source": [
    "# First step : extraction and filtering of the data from measures"
   ],
   "metadata": {
    "collapsed": false
   }
  },
  {
   "cell_type": "code",
   "execution_count": 6,
   "outputs": [],
   "source": [
    "data_folder = 'D:/Data_muons/dimuonData_LHC18m'\n",
    "# run_number = 291397\n",
    "run_number = 291944"
   ],
   "metadata": {
    "collapsed": false,
    "pycharm": {
     "name": "#%%\n"
    }
   }
  },
  {
   "cell_type": "code",
   "execution_count": 7,
   "outputs": [
    {
     "name": "stdout",
     "output_type": "stream",
     "text": [
      "Size of the data file : 139.71 Mo.\n",
      "Extraction took 56.1 s.\n",
      "Number of events : 1638174.\n"
     ]
    }
   ],
   "source": [
    "events = de.read_root_file(data_folder, run=run_number)"
   ],
   "metadata": {
    "collapsed": false,
    "pycharm": {
     "name": "#%%\n"
    }
   }
  },
  {
   "cell_type": "markdown",
   "source": [
    "## Applications of cuts and filters"
   ],
   "metadata": {
    "collapsed": false,
    "pycharm": {
     "name": "#%% md\n"
    }
   }
  },
  {
   "cell_type": "markdown",
   "source": [
    "### Cuts on events and tracks"
   ],
   "metadata": {
    "collapsed": false,
    "pycharm": {
     "name": "#%% md\n"
    }
   }
  },
  {
   "cell_type": "code",
   "execution_count": 9,
   "outputs": [],
   "source": [
    "N_cut_pDCA=5"
   ],
   "metadata": {
    "collapsed": false,
    "pycharm": {
     "name": "#%%\n"
    }
   }
  },
  {
   "cell_type": "code",
   "execution_count": 10,
   "outputs": [
    {
     "name": "stdout",
     "output_type": "stream",
     "text": [
      "\n",
      "Cut nMuons [...] \n",
      " \n",
      "This cut rejects 91.15 % of the statistics\n",
      "\n",
      "Cut CMUL [...] \n",
      " \n",
      "This cut rejects 39.02 % of the statistics\n",
      "\n",
      "Cut zVtx [...] \n",
      " \n",
      "This cut rejects 2.91 % of the statistics\n",
      "Number of tracks : 181905.\n",
      "\n",
      "Cut threshold [...] \n",
      "This cut rejects 27.41 % of the statistics\n",
      "\n",
      "Cut eta [...] \n",
      "This cut rejects 12.58 % of the statistics\n",
      "\n",
      "Cut pDCA [...] \n",
      " \n",
      "This cut rejects 1.36 % of the statistics\n",
      "Max number of possible muons pairs : 58697\n",
      "\n",
      "Total time needed : 35.71 s.\n"
     ]
    }
   ],
   "source": [
    "df = Filter.all_filters_muons(events, N_cut=N_cut_pDCA)"
   ],
   "metadata": {
    "collapsed": false,
    "pycharm": {
     "name": "#%%\n"
    }
   }
  },
  {
   "cell_type": "code",
   "execution_count": 10,
   "outputs": [
    {
     "data": {
      "text/plain": "                         E        Px        Py         Pz  Charge  thetaAbs  \\\nentry  subentry                                                               \n1      0          9.824776 -0.729350 -0.203351  -9.794986      -1  4.358090   \n       1         21.081375 -0.628978  0.527052 -21.065132       1  2.251225   \n2      1          8.141747  0.797963  0.291070  -8.096630      -1  6.225300   \n       2          6.068054  0.368661  0.082491  -6.055361       1  3.529547   \n3      0         20.110891 -0.931190 -0.081186 -20.088879      -1  2.666264   \n...                    ...       ...       ...        ...     ...       ...   \n611830 1         11.001936  0.207673  0.468197 -10.989499      -1  2.921972   \n611831 0          6.011849  0.174243  0.210826  -6.004695       1  2.801206   \n       1          7.970018  0.470683  0.370930  -7.946754      -1  4.522176   \n611833 0         11.082841 -0.628493 -0.232921 -11.062050       1  3.296780   \n       1         21.886776 -0.800251 -0.419314 -21.867867      -1  2.300253   \n\n                      xDCA       yDCA      zDCA  matchedTrgThreshold  \\\nentry  subentry                                                        \n1      0         -0.112560  -8.373335 -4.295027                    2   \n       1         -1.458795  -6.554580 -4.295027                    2   \n2      1        -11.111036  10.088162  2.018164                    2   \n       2         -6.938339  13.598840  2.018164                    2   \n3      0          2.355364   4.221308  1.725246                    2   \n...                    ...        ...       ...                  ...   \n611830 1        -12.434606 -17.856960  2.464451                    2   \n611831 0         17.131769  -8.746505  2.782665                    2   \n       1        -12.365128  11.916137  2.782665                    2   \n611833 0         -7.721399  -1.516054 -4.144609                    2   \n       1         -0.955772  -2.385545 -4.144609                    2   \n\n                      eta          P        DCA        pDCA    s_pxDCA  \nentry  subentry                                                         \n1      0        -3.254679   7.424207   9.411305   69.871481  54.837788  \n       1        -3.938856  18.081110   7.971064  144.125687  83.033965  \n2      1        -2.950570   5.741062  15.142626   86.934753  54.641620  \n       2        -3.468512   3.667134  15.399415   56.471719  54.404895  \n3      0        -3.761360  17.110613   5.132607   87.822051  82.864205  \n...                   ...        ...        ...         ...        ...  \n611830 1        -3.759694   8.001428  21.898949  175.222872  81.308405  \n611831 0        -3.782620   3.010921  19.435588   58.519018  80.485777  \n       1        -3.279363   5.569318  17.396377   96.885954  54.621807  \n611833 0        -3.497665   8.682337   8.893605   77.217277  54.986764  \n       1        -3.880124  18.886521   4.876690   92.103714  83.175421  \n\n[812520 rows x 15 columns]",
      "text/html": "<div>\n<style scoped>\n    .dataframe tbody tr th:only-of-type {\n        vertical-align: middle;\n    }\n\n    .dataframe tbody tr th {\n        vertical-align: top;\n    }\n\n    .dataframe thead th {\n        text-align: right;\n    }\n</style>\n<table border=\"1\" class=\"dataframe\">\n  <thead>\n    <tr style=\"text-align: right;\">\n      <th></th>\n      <th></th>\n      <th>E</th>\n      <th>Px</th>\n      <th>Py</th>\n      <th>Pz</th>\n      <th>Charge</th>\n      <th>thetaAbs</th>\n      <th>xDCA</th>\n      <th>yDCA</th>\n      <th>zDCA</th>\n      <th>matchedTrgThreshold</th>\n      <th>eta</th>\n      <th>P</th>\n      <th>DCA</th>\n      <th>pDCA</th>\n      <th>s_pxDCA</th>\n    </tr>\n    <tr>\n      <th>entry</th>\n      <th>subentry</th>\n      <th></th>\n      <th></th>\n      <th></th>\n      <th></th>\n      <th></th>\n      <th></th>\n      <th></th>\n      <th></th>\n      <th></th>\n      <th></th>\n      <th></th>\n      <th></th>\n      <th></th>\n      <th></th>\n      <th></th>\n    </tr>\n  </thead>\n  <tbody>\n    <tr>\n      <th rowspan=\"2\" valign=\"top\">1</th>\n      <th>0</th>\n      <td>9.824776</td>\n      <td>-0.729350</td>\n      <td>-0.203351</td>\n      <td>-9.794986</td>\n      <td>-1</td>\n      <td>4.358090</td>\n      <td>-0.112560</td>\n      <td>-8.373335</td>\n      <td>-4.295027</td>\n      <td>2</td>\n      <td>-3.254679</td>\n      <td>7.424207</td>\n      <td>9.411305</td>\n      <td>69.871481</td>\n      <td>54.837788</td>\n    </tr>\n    <tr>\n      <th>1</th>\n      <td>21.081375</td>\n      <td>-0.628978</td>\n      <td>0.527052</td>\n      <td>-21.065132</td>\n      <td>1</td>\n      <td>2.251225</td>\n      <td>-1.458795</td>\n      <td>-6.554580</td>\n      <td>-4.295027</td>\n      <td>2</td>\n      <td>-3.938856</td>\n      <td>18.081110</td>\n      <td>7.971064</td>\n      <td>144.125687</td>\n      <td>83.033965</td>\n    </tr>\n    <tr>\n      <th rowspan=\"2\" valign=\"top\">2</th>\n      <th>1</th>\n      <td>8.141747</td>\n      <td>0.797963</td>\n      <td>0.291070</td>\n      <td>-8.096630</td>\n      <td>-1</td>\n      <td>6.225300</td>\n      <td>-11.111036</td>\n      <td>10.088162</td>\n      <td>2.018164</td>\n      <td>2</td>\n      <td>-2.950570</td>\n      <td>5.741062</td>\n      <td>15.142626</td>\n      <td>86.934753</td>\n      <td>54.641620</td>\n    </tr>\n    <tr>\n      <th>2</th>\n      <td>6.068054</td>\n      <td>0.368661</td>\n      <td>0.082491</td>\n      <td>-6.055361</td>\n      <td>1</td>\n      <td>3.529547</td>\n      <td>-6.938339</td>\n      <td>13.598840</td>\n      <td>2.018164</td>\n      <td>2</td>\n      <td>-3.468512</td>\n      <td>3.667134</td>\n      <td>15.399415</td>\n      <td>56.471719</td>\n      <td>54.404895</td>\n    </tr>\n    <tr>\n      <th>3</th>\n      <th>0</th>\n      <td>20.110891</td>\n      <td>-0.931190</td>\n      <td>-0.081186</td>\n      <td>-20.088879</td>\n      <td>-1</td>\n      <td>2.666264</td>\n      <td>2.355364</td>\n      <td>4.221308</td>\n      <td>1.725246</td>\n      <td>2</td>\n      <td>-3.761360</td>\n      <td>17.110613</td>\n      <td>5.132607</td>\n      <td>87.822051</td>\n      <td>82.864205</td>\n    </tr>\n    <tr>\n      <th>...</th>\n      <th>...</th>\n      <td>...</td>\n      <td>...</td>\n      <td>...</td>\n      <td>...</td>\n      <td>...</td>\n      <td>...</td>\n      <td>...</td>\n      <td>...</td>\n      <td>...</td>\n      <td>...</td>\n      <td>...</td>\n      <td>...</td>\n      <td>...</td>\n      <td>...</td>\n      <td>...</td>\n    </tr>\n    <tr>\n      <th>611830</th>\n      <th>1</th>\n      <td>11.001936</td>\n      <td>0.207673</td>\n      <td>0.468197</td>\n      <td>-10.989499</td>\n      <td>-1</td>\n      <td>2.921972</td>\n      <td>-12.434606</td>\n      <td>-17.856960</td>\n      <td>2.464451</td>\n      <td>2</td>\n      <td>-3.759694</td>\n      <td>8.001428</td>\n      <td>21.898949</td>\n      <td>175.222872</td>\n      <td>81.308405</td>\n    </tr>\n    <tr>\n      <th rowspan=\"2\" valign=\"top\">611831</th>\n      <th>0</th>\n      <td>6.011849</td>\n      <td>0.174243</td>\n      <td>0.210826</td>\n      <td>-6.004695</td>\n      <td>1</td>\n      <td>2.801206</td>\n      <td>17.131769</td>\n      <td>-8.746505</td>\n      <td>2.782665</td>\n      <td>2</td>\n      <td>-3.782620</td>\n      <td>3.010921</td>\n      <td>19.435588</td>\n      <td>58.519018</td>\n      <td>80.485777</td>\n    </tr>\n    <tr>\n      <th>1</th>\n      <td>7.970018</td>\n      <td>0.470683</td>\n      <td>0.370930</td>\n      <td>-7.946754</td>\n      <td>-1</td>\n      <td>4.522176</td>\n      <td>-12.365128</td>\n      <td>11.916137</td>\n      <td>2.782665</td>\n      <td>2</td>\n      <td>-3.279363</td>\n      <td>5.569318</td>\n      <td>17.396377</td>\n      <td>96.885954</td>\n      <td>54.621807</td>\n    </tr>\n    <tr>\n      <th rowspan=\"2\" valign=\"top\">611833</th>\n      <th>0</th>\n      <td>11.082841</td>\n      <td>-0.628493</td>\n      <td>-0.232921</td>\n      <td>-11.062050</td>\n      <td>1</td>\n      <td>3.296780</td>\n      <td>-7.721399</td>\n      <td>-1.516054</td>\n      <td>-4.144609</td>\n      <td>2</td>\n      <td>-3.497665</td>\n      <td>8.682337</td>\n      <td>8.893605</td>\n      <td>77.217277</td>\n      <td>54.986764</td>\n    </tr>\n    <tr>\n      <th>1</th>\n      <td>21.886776</td>\n      <td>-0.800251</td>\n      <td>-0.419314</td>\n      <td>-21.867867</td>\n      <td>-1</td>\n      <td>2.300253</td>\n      <td>-0.955772</td>\n      <td>-2.385545</td>\n      <td>-4.144609</td>\n      <td>2</td>\n      <td>-3.880124</td>\n      <td>18.886521</td>\n      <td>4.876690</td>\n      <td>92.103714</td>\n      <td>83.175421</td>\n    </tr>\n  </tbody>\n</table>\n<p>812520 rows × 15 columns</p>\n</div>"
     },
     "execution_count": 10,
     "metadata": {},
     "output_type": "execute_result"
    }
   ],
   "source": [
    "df"
   ],
   "metadata": {
    "collapsed": false,
    "pycharm": {
     "name": "#%%\n"
    }
   }
  },
  {
   "cell_type": "code",
   "execution_count": 11,
   "outputs": [
    {
     "ename": "NameError",
     "evalue": "name 'df' is not defined",
     "output_type": "error",
     "traceback": [
      "\u001B[1;31m---------------------------------------------------------------------------\u001B[0m",
      "\u001B[1;31mNameError\u001B[0m                                 Traceback (most recent call last)",
      "\u001B[1;32m~\\AppData\\Local\\Temp/ipykernel_57724/1796413258.py\u001B[0m in \u001B[0;36m<module>\u001B[1;34m\u001B[0m\n\u001B[1;32m----> 1\u001B[1;33m \u001B[0mdf\u001B[0m\u001B[1;33m.\u001B[0m\u001B[0mto_csv\u001B[0m\u001B[1;33m(\u001B[0m\u001B[1;34mf'{run_number}_muons.csv'\u001B[0m\u001B[1;33m)\u001B[0m\u001B[1;33m\u001B[0m\u001B[1;33m\u001B[0m\u001B[0m\n\u001B[0m",
      "\u001B[1;31mNameError\u001B[0m: name 'df' is not defined"
     ]
    }
   ],
   "source": [
    "df.to_csv(f'{run_number}_muons.csv')"
   ],
   "metadata": {
    "collapsed": false,
    "pycharm": {
     "name": "#%%\n"
    }
   }
  },
  {
   "cell_type": "code",
   "execution_count": 11,
   "outputs": [
    {
     "name": "stderr",
     "output_type": "stream",
     "text": [
      "100%|██████████| 56345/56345 [00:59<00:00, 947.21it/s] \n"
     ]
    },
    {
     "name": "stdout",
     "output_type": "stream",
     "text": [
      "Execution time : 69.57\n"
     ]
    }
   ],
   "source": [
    "df_dm = de.di_muons_dataframe(df)"
   ],
   "metadata": {
    "collapsed": false,
    "pycharm": {
     "name": "#%%\n"
    }
   }
  },
  {
   "cell_type": "code",
   "execution_count": 13,
   "outputs": [],
   "source": [
    "df_dm.to_csv(f'{run_number}_dimuons.csv')"
   ],
   "metadata": {
    "collapsed": false,
    "pycharm": {
     "name": "#%%\n"
    }
   }
  },
  {
   "cell_type": "code",
   "execution_count": 13,
   "outputs": [
    {
     "name": "stdout",
     "output_type": "stream",
     "text": [
      "This cut rejects 0.0 % of the statistics.\n",
      "\n",
      "Number of di-muons pairs : 22592\n",
      "This cut rejects 0.0 % of the statistics.\n",
      "\n",
      "Number of di-muons pairs : 22254\n",
      "This cut rejects 0.0 % of the statistics.\n",
      "\n",
      "Number of di-muons pairs : 7478\n",
      "This cut rejects 0.0 % of the statistics.\n",
      "\n",
      "Number of di-muons pairs : 2375\n",
      "This cut rejects 0.0 % of the statistics.\n",
      "\n",
      "Number of di-muons pairs : 792\n",
      "This cut rejects 0.0 % of the statistics.\n",
      "\n",
      "Number of di-muons pairs : 275\n",
      "This cut rejects 0.0 % of the statistics.\n",
      "\n",
      "Number of di-muons pairs : 152\n"
     ]
    }
   ],
   "source": [
    "all_hist = Filter.hist_M_inv_PT(df_dm)"
   ],
   "metadata": {
    "collapsed": false,
    "pycharm": {
     "name": "#%%\n"
    }
   }
  },
  {
   "cell_type": "code",
   "execution_count": null,
   "outputs": [],
   "source": [
    "all_hist[(0,1)]"
   ],
   "metadata": {
    "collapsed": false,
    "pycharm": {
     "name": "#%%\n"
    }
   }
  },
  {
   "cell_type": "code",
   "execution_count": 14,
   "outputs": [],
   "source": [
    "y_range=(-2.5, -4)\n",
    "all_P_T=True\n",
    "p_T_range=(0, 8)"
   ],
   "metadata": {
    "collapsed": false,
    "pycharm": {
     "name": "#%%\n"
    }
   }
  },
  {
   "cell_type": "code",
   "execution_count": 15,
   "outputs": [
    {
     "name": "stdout",
     "output_type": "stream",
     "text": [
      "This cut rejects 0.0 % of the statistics.\n",
      "\n",
      "Number of di-muons pairs : 55945\n"
     ]
    }
   ],
   "source": [
    "df_dm = Filter.all_filters_di_muons(df_dm,  y_range=y_range, all_P_T=all_P_T, p_T_range=p_T_range)"
   ],
   "metadata": {
    "collapsed": false,
    "pycharm": {
     "name": "#%%\n"
    }
   }
  },
  {
   "cell_type": "code",
   "execution_count": 21,
   "outputs": [],
   "source": [
    "df_dm['M_inv'] = df_dm.apply(lambda x: km.inv_mass(x['E1'], x['E2'], x['P1'], x['P2']), axis=1)"
   ],
   "metadata": {
    "collapsed": false,
    "pycharm": {
     "name": "#%%\n"
    }
   }
  },
  {
   "cell_type": "code",
   "execution_count": 17,
   "outputs": [],
   "source": [
    "df_dm['cos'] = df_dm.apply(lambda x: km.cos_theta(x['P1'], x['P2']), axis=1)"
   ],
   "metadata": {
    "collapsed": false,
    "pycharm": {
     "name": "#%%\n"
    }
   }
  },
  {
   "cell_type": "code",
   "execution_count": 19,
   "outputs": [
    {
     "data": {
      "text/plain": "                                                      P1  \\\nEvent id Muon id                                           \n21393    (0, 1)      [0.98848575, 0.4242309, -11.312893]   \n50025    (0, 1)      [0.974985, -0.18288563, -17.309855]   \n77458    (0, 1)     [-0.5370087, 0.15611891, -14.932998]   \n102617   (0, 1)      [-0.6019567, 0.3424592, -12.588481]   \n167080   (0, 1)    [-0.42892045, 0.16159356, -10.495794]   \n207833   (0, 1)     [-0.41293773, 0.8903236, -20.045689]   \n213583   (0, 1)       [0.6654219, -0.382509, -19.720821]   \n217358   (0, 1)      [-0.4127497, 0.34485048, -6.437026]   \n232201   (0, 1)     [0.120133996, -1.3183471, -23.89192]   \n284943   (0, 1)   [-0.51778156, -0.033857826, -13.28913]   \n290619   (0, 1)     [0.042328827, 0.54609436, -6.971356]   \n308810   (0, 1)     [-0.47267267, 0.5900312, -13.502334]   \n423793   (0, 1)       [0.4159214, 1.7086364, -33.507618]   \n482373   (0, 1)     [0.72566473, 0.35493466, -18.824856]   \n526345   (0, 1)    [-1.2526213, -0.26839942, -22.709167]   \n540948   (0, 1)    [-0.63460934, 0.10831643, -10.840503]   \n565701   (0, 1)    [-0.4869427, -0.15667474, -10.520559]   \n598258   (0, 1)     [-0.69832987, 0.1937928, -17.751554]   \n\n                                                      P2         E1  \\\nEvent id Muon id                                                      \n21393    (0, 1)      [0.99118775, 0.4236021, -11.281293]  11.364408   \n50025    (0, 1)      [0.6745036, -0.12721328, -12.01974]  17.338577   \n77458    (0, 1)      [-1.0889653, 0.32695824, -30.44109]  14.943839   \n102617   (0, 1)     [-0.6567303, 0.37207487, -13.780027]  12.607960   \n167080   (0, 1)      [-0.313563, 0.11506269, -7.6289735]  10.506329   \n207833   (0, 1)    [-0.25255743, 0.54562634, -12.308451]  20.069977   \n213583   (0, 1)      [0.61153686, -0.3500643, -18.06572]  19.736034   \n217358   (0, 1)     [-0.29974157, 0.24902779, -4.659403]   6.460321   \n232201   (0, 1)     [0.07274294, -0.8242216, -14.905655]  23.928801   \n284943   (0, 1)    [-1.5026432, -0.09683918, -38.153336]  13.299676   \n290619   (0, 1)      [0.082615264, 1.0322431, -13.18018]   6.993639   \n308810   (0, 1)     [-0.26531646, 0.33258492, -7.632458]  13.523895   \n423793   (0, 1)       [1.1892123, 4.8358145, -94.891975]  33.553898   \n482373   (0, 1)        [0.546032, 0.2692935, -14.250059]  18.842476   \n526345   (0, 1)    [-0.94954056, -0.20362826, -17.34858]  22.745518   \n540948   (0, 1)   [-0.27286732, 0.045585003, -4.6633534]  10.860116   \n565701   (0, 1)    [-1.3719909, -0.43440068, -29.485254]  10.533518   \n598258   (0, 1)      [-0.7904678, 0.21227318, -20.05677]  17.766657   \n\n                         E2           E  cos  \nEvent id Muon id                              \n21393    (0, 1)   11.333164   22.697573  1.0  \n50025    (0, 1)   12.039786   29.378365  1.0  \n77458    (0, 1)   30.462500   45.406338  1.0  \n102617   (0, 1)   13.801088   26.409048  1.0  \n167080   (0, 1)    7.637012   18.143341  1.0  \n207833   (0, 1)   12.323580   32.393555  1.0  \n213583   (0, 1)   18.079765   37.815800  1.0  \n217358   (0, 1)    4.676864   11.137186  1.0  \n232201   (0, 1)   14.928976   38.857777  1.0  \n284943   (0, 1)   38.183186   51.482861  1.0  \n290619   (0, 1)   13.221220   20.214859  1.0  \n308810   (0, 1)    7.645037   21.168932  1.0  \n423793   (0, 1)   95.022614  128.576508  1.0  \n482373   (0, 1)   14.263451   33.105927  1.0  \n526345   (0, 1)   17.376060   40.121578  1.0  \n540948   (0, 1)    4.672747   15.532864  1.0  \n565701   (0, 1)   29.520542   40.054062  1.0  \n598258   (0, 1)   20.073742   37.840401  1.0  ",
      "text/html": "<div>\n<style scoped>\n    .dataframe tbody tr th:only-of-type {\n        vertical-align: middle;\n    }\n\n    .dataframe tbody tr th {\n        vertical-align: top;\n    }\n\n    .dataframe thead th {\n        text-align: right;\n    }\n</style>\n<table border=\"1\" class=\"dataframe\">\n  <thead>\n    <tr style=\"text-align: right;\">\n      <th></th>\n      <th></th>\n      <th>P1</th>\n      <th>P2</th>\n      <th>E1</th>\n      <th>E2</th>\n      <th>E</th>\n      <th>cos</th>\n    </tr>\n    <tr>\n      <th>Event id</th>\n      <th>Muon id</th>\n      <th></th>\n      <th></th>\n      <th></th>\n      <th></th>\n      <th></th>\n      <th></th>\n    </tr>\n  </thead>\n  <tbody>\n    <tr>\n      <th>21393</th>\n      <th>(0, 1)</th>\n      <td>[0.98848575, 0.4242309, -11.312893]</td>\n      <td>[0.99118775, 0.4236021, -11.281293]</td>\n      <td>11.364408</td>\n      <td>11.333164</td>\n      <td>22.697573</td>\n      <td>1.0</td>\n    </tr>\n    <tr>\n      <th>50025</th>\n      <th>(0, 1)</th>\n      <td>[0.974985, -0.18288563, -17.309855]</td>\n      <td>[0.6745036, -0.12721328, -12.01974]</td>\n      <td>17.338577</td>\n      <td>12.039786</td>\n      <td>29.378365</td>\n      <td>1.0</td>\n    </tr>\n    <tr>\n      <th>77458</th>\n      <th>(0, 1)</th>\n      <td>[-0.5370087, 0.15611891, -14.932998]</td>\n      <td>[-1.0889653, 0.32695824, -30.44109]</td>\n      <td>14.943839</td>\n      <td>30.462500</td>\n      <td>45.406338</td>\n      <td>1.0</td>\n    </tr>\n    <tr>\n      <th>102617</th>\n      <th>(0, 1)</th>\n      <td>[-0.6019567, 0.3424592, -12.588481]</td>\n      <td>[-0.6567303, 0.37207487, -13.780027]</td>\n      <td>12.607960</td>\n      <td>13.801088</td>\n      <td>26.409048</td>\n      <td>1.0</td>\n    </tr>\n    <tr>\n      <th>167080</th>\n      <th>(0, 1)</th>\n      <td>[-0.42892045, 0.16159356, -10.495794]</td>\n      <td>[-0.313563, 0.11506269, -7.6289735]</td>\n      <td>10.506329</td>\n      <td>7.637012</td>\n      <td>18.143341</td>\n      <td>1.0</td>\n    </tr>\n    <tr>\n      <th>207833</th>\n      <th>(0, 1)</th>\n      <td>[-0.41293773, 0.8903236, -20.045689]</td>\n      <td>[-0.25255743, 0.54562634, -12.308451]</td>\n      <td>20.069977</td>\n      <td>12.323580</td>\n      <td>32.393555</td>\n      <td>1.0</td>\n    </tr>\n    <tr>\n      <th>213583</th>\n      <th>(0, 1)</th>\n      <td>[0.6654219, -0.382509, -19.720821]</td>\n      <td>[0.61153686, -0.3500643, -18.06572]</td>\n      <td>19.736034</td>\n      <td>18.079765</td>\n      <td>37.815800</td>\n      <td>1.0</td>\n    </tr>\n    <tr>\n      <th>217358</th>\n      <th>(0, 1)</th>\n      <td>[-0.4127497, 0.34485048, -6.437026]</td>\n      <td>[-0.29974157, 0.24902779, -4.659403]</td>\n      <td>6.460321</td>\n      <td>4.676864</td>\n      <td>11.137186</td>\n      <td>1.0</td>\n    </tr>\n    <tr>\n      <th>232201</th>\n      <th>(0, 1)</th>\n      <td>[0.120133996, -1.3183471, -23.89192]</td>\n      <td>[0.07274294, -0.8242216, -14.905655]</td>\n      <td>23.928801</td>\n      <td>14.928976</td>\n      <td>38.857777</td>\n      <td>1.0</td>\n    </tr>\n    <tr>\n      <th>284943</th>\n      <th>(0, 1)</th>\n      <td>[-0.51778156, -0.033857826, -13.28913]</td>\n      <td>[-1.5026432, -0.09683918, -38.153336]</td>\n      <td>13.299676</td>\n      <td>38.183186</td>\n      <td>51.482861</td>\n      <td>1.0</td>\n    </tr>\n    <tr>\n      <th>290619</th>\n      <th>(0, 1)</th>\n      <td>[0.042328827, 0.54609436, -6.971356]</td>\n      <td>[0.082615264, 1.0322431, -13.18018]</td>\n      <td>6.993639</td>\n      <td>13.221220</td>\n      <td>20.214859</td>\n      <td>1.0</td>\n    </tr>\n    <tr>\n      <th>308810</th>\n      <th>(0, 1)</th>\n      <td>[-0.47267267, 0.5900312, -13.502334]</td>\n      <td>[-0.26531646, 0.33258492, -7.632458]</td>\n      <td>13.523895</td>\n      <td>7.645037</td>\n      <td>21.168932</td>\n      <td>1.0</td>\n    </tr>\n    <tr>\n      <th>423793</th>\n      <th>(0, 1)</th>\n      <td>[0.4159214, 1.7086364, -33.507618]</td>\n      <td>[1.1892123, 4.8358145, -94.891975]</td>\n      <td>33.553898</td>\n      <td>95.022614</td>\n      <td>128.576508</td>\n      <td>1.0</td>\n    </tr>\n    <tr>\n      <th>482373</th>\n      <th>(0, 1)</th>\n      <td>[0.72566473, 0.35493466, -18.824856]</td>\n      <td>[0.546032, 0.2692935, -14.250059]</td>\n      <td>18.842476</td>\n      <td>14.263451</td>\n      <td>33.105927</td>\n      <td>1.0</td>\n    </tr>\n    <tr>\n      <th>526345</th>\n      <th>(0, 1)</th>\n      <td>[-1.2526213, -0.26839942, -22.709167]</td>\n      <td>[-0.94954056, -0.20362826, -17.34858]</td>\n      <td>22.745518</td>\n      <td>17.376060</td>\n      <td>40.121578</td>\n      <td>1.0</td>\n    </tr>\n    <tr>\n      <th>540948</th>\n      <th>(0, 1)</th>\n      <td>[-0.63460934, 0.10831643, -10.840503]</td>\n      <td>[-0.27286732, 0.045585003, -4.6633534]</td>\n      <td>10.860116</td>\n      <td>4.672747</td>\n      <td>15.532864</td>\n      <td>1.0</td>\n    </tr>\n    <tr>\n      <th>565701</th>\n      <th>(0, 1)</th>\n      <td>[-0.4869427, -0.15667474, -10.520559]</td>\n      <td>[-1.3719909, -0.43440068, -29.485254]</td>\n      <td>10.533518</td>\n      <td>29.520542</td>\n      <td>40.054062</td>\n      <td>1.0</td>\n    </tr>\n    <tr>\n      <th>598258</th>\n      <th>(0, 1)</th>\n      <td>[-0.69832987, 0.1937928, -17.751554]</td>\n      <td>[-0.7904678, 0.21227318, -20.05677]</td>\n      <td>17.766657</td>\n      <td>20.073742</td>\n      <td>37.840401</td>\n      <td>1.0</td>\n    </tr>\n  </tbody>\n</table>\n</div>"
     },
     "execution_count": 19,
     "metadata": {},
     "output_type": "execute_result"
    }
   ],
   "source": [
    "df_dm[df_dm['cos'] ==1]"
   ],
   "metadata": {
    "collapsed": false,
    "pycharm": {
     "name": "#%%\n"
    }
   }
  },
  {
   "cell_type": "code",
   "execution_count": null,
   "outputs": [],
   "source": [
    "h = Filter.plot_M_inv(df_dm['M_inv'], run_number)"
   ],
   "metadata": {
    "collapsed": false,
    "pycharm": {
     "name": "#%%\n"
    }
   }
  },
  {
   "cell_type": "code",
   "execution_count": 51,
   "outputs": [
    {
     "name": "stdout",
     "output_type": "stream",
     "text": [
      "This cut rejects 0.0 % of the statistics.\n",
      "\n",
      "Number of di-muons pairs : 28186\n",
      "This cut rejects 0.0 % of the statistics.\n",
      "\n",
      "Number of di-muons pairs : 26853\n",
      "This cut rejects 0.0 % of the statistics.\n",
      "\n",
      "Number of di-muons pairs : 9391\n",
      "This cut rejects 0.0 % of the statistics.\n",
      "\n",
      "Number of di-muons pairs : 3507\n",
      "This cut rejects 0.0 % of the statistics.\n",
      "\n",
      "Number of di-muons pairs : 1487\n",
      "This cut rejects 0.0 % of the statistics.\n",
      "\n",
      "Number of di-muons pairs : 656\n"
     ]
    },
    {
     "data": {
      "text/plain": "<Figure size 864x576 with 6 Axes>",
      "image/png": "[encoded data removed]"
     },
     "metadata": {
      "needs_background": "light"
     },
     "output_type": "display_data"
    }
   ],
   "source": [
    "bins = np.linspace(1.5, 5, 36)\n",
    "fig, axes = plt.subplots(2,3, figsize=(12,8), sharex=True, sharey=True)\n",
    "\n",
    "p_T_bins = np.arange(0, 7)\n",
    "axes[0, 0].set_xlim(1.5,4.5)\n",
    "axes[0, 0].semilogy()\n",
    "\n",
    "\n",
    "for id, ax  in enumerate(axes.flatten()) :\n",
    "    p_min, p_max = p_T_bins[[id, id+1]]\n",
    "    ax.set_title(f'{p_min} < $p_T$ < {p_max}')\n",
    "\n",
    "    df_dm_selected = Filter.all_filters_di_muons(df_dm,  y_range=y_range, all_P_T=False, p_T_range=(p_min, p_max))\n",
    "    df_dm_selected['M_inv'] = df_dm_selected.apply(lambda x: km.inv_mass(x['E1'], x['E2'], x['P1'], x['P2']), axis=1)\n",
    "    ax.hist(df_dm_selected['M_inv'], bins=bins, range=[1.5,5], histtype='step', align='mid', color='b')\n",
    "\n",
    "fig.suptitle('$M_{inv}$ for different ranges of $p_T$', fontweight='bold', fontsize=15)\n",
    "plt.savefig('M_{inv} several P_t.pdf')"
   ],
   "metadata": {
    "collapsed": false,
    "pycharm": {
     "name": "#%%\n"
    }
   }
  },
  {
   "cell_type": "markdown",
   "source": [
    "Not really relevant right now, useful for later maybe but i want to keep this code somewhere"
   ],
   "metadata": {
    "collapsed": false,
    "pycharm": {
     "name": "#%% md\n"
    }
   }
  },
  {
   "cell_type": "code",
   "execution_count": 67,
   "outputs": [],
   "source": [
    "from scipy.optimize import curve_fit\n",
    "from itertools import pairwise\n",
    "\n",
    "x_c = np.array([(x1 + x2) / 2 for x1, x2 in pairwise(h[1])])\n",
    "m, y = np.array([(x1 + x2) / 2 for x1, x2 in pairwise(h[1])]), h[0]\n",
    "\n",
    "m_min, m_max = 2.7, 3.3  # range of the mass excess\n",
    "\n",
    "i_min = np.where(m > m_min)[0][0]\n",
    "i_max = np.where(m < m_max)[0][-1]\n",
    "\n",
    "x_JP, y_JP = m[i_min:i_max + 1], y[i_min:i_max + 1]\n",
    "idx = [i for i in range(i_min)] + [i for i in range(i_max, len(m))]\n",
    "x_without_JP = m[idx]\n",
    "y_without_JP = y[idx]\n"
   ],
   "metadata": {
    "collapsed": false,
    "pycharm": {
     "name": "#%%\n"
    }
   }
  },
  {
   "cell_type": "code",
   "execution_count": 68,
   "outputs": [],
   "source": [
    "def double_exp(z, A, k1, k2):\n",
    "    return A * np.exp(-k1 * z) + np.exp(-k2 * z)\n",
    "\n",
    "\n",
    "a, t1, t2 = curve_fit(double_exp, x_without_JP, y_without_JP, p0=(1000, 1,-1))[0]"
   ],
   "metadata": {
    "collapsed": false,
    "pycharm": {
     "name": "#%%\n"
    }
   }
  },
  {
   "cell_type": "code",
   "execution_count": 19,
   "outputs": [
    {
     "data": {
      "text/plain": "Text(0.05, 0.5, 'Counts per 0.1 GeV')"
     },
     "execution_count": 19,
     "metadata": {},
     "output_type": "execute_result"
    },
    {
     "data": {
      "text/plain": "<Figure size 864x576 with 2 Axes>",
      "image/png": "[encoded data removed]"
     },
     "metadata": {
      "needs_background": "light"
     },
     "output_type": "display_data"
    }
   ],
   "source": [
    "t = np.linspace(1.5, 5, 101)\n",
    "bins = np.linspace(1.5, 5, 36)\n",
    "fig, ax = plt.subplots(2,1, sharex=True, gridspec_kw={'height_ratios': [3,1]}, figsize=(12,8))\n",
    "fig.suptitle(f'Run number {run_number}', fontsize=15, fontweight='bold')\n",
    "\n",
    "ax[0].set_xlim(1.5,4.5)\n",
    "ax[0].semilogy()\n",
    "ax[0].set_ylim(9,3e3)\n",
    "ax[0].set_xlabel(\"$m_{\\mu\\mu}$ (GeV)\", fontweight='bold', fontsize=12)\n",
    "\n",
    "ax[0].hist(df_dm['M_inv'], bins=bins, range=[1.5,5], histtype='step', align='mid', color='b')\n",
    "ax[0].plot(t, double_exp(t, a, t1, t2), c='orange', linestyle='dashed', alpha=0.8, label='Background fit')\n",
    "\n",
    "leg = ax[0].legend(fontsize=12)\n",
    "leg.get_frame().set_linewidth(2.0)\n",
    "ax[0].grid(linestyle='dashed', alpha=0.8)\n",
    "\n",
    "ax[1].scatter(x_c, h[0] - double_exp(x_c, a, t1, t2), marker='s')\n",
    "ax[1].set_ylim(-100,890)\n",
    "ax[1].axhline(0, c='r', linestyle='dashed')\n",
    "ax[1].grid(linestyle='dashed', alpha=0.8)\n",
    "plt.subplots_adjust(wspace=0, hspace=0)\n",
    "\n",
    "fig.text(0.5, 0.01, '$M_{\\mu\\mu}$ (GeV/$c^2$)', ha='center', fontsize=15)\n",
    "fig.text(0.05, 0.5, 'Counts per 0.1 GeV', ha='center', fontsize=15, rotation='vertical')"
   ],
   "metadata": {
    "collapsed": false,
    "pycharm": {
     "name": "#%%\n"
    }
   }
  },
  {
   "cell_type": "markdown",
   "source": [],
   "metadata": {
    "collapsed": false
   }
  },
  {
   "cell_type": "markdown",
   "source": [],
   "metadata": {
    "collapsed": false
   }
  },
  {
   "cell_type": "code",
   "execution_count": 23,
   "outputs": [],
   "source": [
    "from scipy.stats import crystalball"
   ],
   "metadata": {
    "collapsed": false,
    "pycharm": {
     "name": "#%%\n"
    }
   }
  },
  {
   "cell_type": "code",
   "execution_count": 97,
   "outputs": [
    {
     "data": {
      "text/plain": "[<matplotlib.lines.Line2D at 0x2a13a1519f0>]"
     },
     "execution_count": 97,
     "metadata": {},
     "output_type": "execute_result"
    },
    {
     "data": {
      "text/plain": "<Figure size 432x288 with 1 Axes>",
      "image/png": "[encoded data removed]"
     },
     "metadata": {
      "needs_background": "light"
     },
     "output_type": "display_data"
    }
   ],
   "source": [
    "plt.scatter(x_JP, (y_JP - double_exp(x_JP, a, t1, t2)) / 182, marker='s')\n",
    "\n",
    "x = np.linspace(2.7,3.4, 101)\n",
    "#plt.xlim(2.8,3.4)\n",
    "\n",
    "CB = crystalball.pdf(x, 0.8, 10, loc=3.1, scale=0.085)\n",
    "plt.ylim(0,CB.max()*1.1 )\n",
    "plt.plot(x, CB)"
   ],
   "metadata": {
    "collapsed": false,
    "pycharm": {
     "name": "#%%\n"
    }
   }
  },
  {
   "cell_type": "code",
   "execution_count": 72,
   "outputs": [
    {
     "data": {
      "text/plain": "182.99938491831062"
     },
     "execution_count": 72,
     "metadata": {},
     "output_type": "execute_result"
    }
   ],
   "source": [
    "0.1 * (y_JP - double_exp(x_JP, a, t1, t2)).sum()"
   ],
   "metadata": {
    "collapsed": false,
    "pycharm": {
     "name": "#%%\n"
    }
   }
  }
 ],
 "metadata": {
  "kernelspec": {
   "display_name": "Python 3",
   "language": "python",
   "name": "python3"
  },
  "language_info": {
   "codemirror_mode": {
    "name": "ipython",
    "version": 2
   },
   "file_extension": ".py",
   "mimetype": "text/x-python",
   "name": "python",
   "nbconvert_exporter": "python",
   "pygments_lexer": "ipython2",
   "version": "2.7.6"
  }
 },
 "nbformat": 4,
 "nbformat_minor": 0
}